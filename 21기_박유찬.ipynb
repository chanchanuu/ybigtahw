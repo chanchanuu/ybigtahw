{
  "nbformat": 4,
  "nbformat_minor": 0,
  "metadata": {
    "colab": {
      "name": "크롤링과제.ipynb",
      "provenance": []
    },
    "kernelspec": {
      "name": "python3",
      "display_name": "Python 3"
    },
    "language_info": {
      "name": "python"
    }
  },
  "cells": [
    {
      "cell_type": "code",
      "execution_count": 180,
      "metadata": {
        "colab": {
          "base_uri": "https://localhost:8080/",
          "height": 1000
        },
        "id": "xD4mDfGW0_ZF",
        "outputId": "9d5408c2-5bb5-4d65-c18d-49bce7776186"
      },
      "outputs": [
        {
          "output_type": "stream",
          "name": "stdout",
          "text": [
            "Looking in indexes: https://pypi.org/simple, https://us-python.pkg.dev/colab-wheels/public/simple/\n",
            "Requirement already satisfied: requests in /usr/local/lib/python3.7/dist-packages (2.23.0)\n",
            "Collecting urllib3!=1.25.0,!=1.25.1,<1.26,>=1.21.1\n",
            "  Downloading urllib3-1.25.11-py2.py3-none-any.whl (127 kB)\n",
            "\u001b[K     |████████████████████████████████| 127 kB 24.0 MB/s \n",
            "\u001b[?25hRequirement already satisfied: idna<3,>=2.5 in /usr/local/lib/python3.7/dist-packages (from requests) (2.10)\n",
            "Requirement already satisfied: chardet<4,>=3.0.2 in /usr/local/lib/python3.7/dist-packages (from requests) (3.0.4)\n",
            "Requirement already satisfied: certifi>=2017.4.17 in /usr/local/lib/python3.7/dist-packages (from requests) (2022.6.15)\n",
            "Installing collected packages: urllib3\n",
            "  Attempting uninstall: urllib3\n",
            "    Found existing installation: urllib3 1.26.11\n",
            "    Uninstalling urllib3-1.26.11:\n",
            "      Successfully uninstalled urllib3-1.26.11\n",
            "\u001b[31mERROR: pip's dependency resolver does not currently take into account all the packages that are installed. This behaviour is the source of the following dependency conflicts.\n",
            "selenium 4.4.0 requires urllib3[secure,socks]~=1.26, but you have urllib3 1.25.11 which is incompatible.\u001b[0m\n",
            "Successfully installed urllib3-1.25.11\n"
          ]
        },
        {
          "output_type": "display_data",
          "data": {
            "application/vnd.colab-display-data+json": {
              "pip_warning": {
                "packages": [
                  "urllib3"
                ]
              }
            }
          },
          "metadata": {}
        },
        {
          "output_type": "stream",
          "name": "stdout",
          "text": [
            "Looking in indexes: https://pypi.org/simple, https://us-python.pkg.dev/colab-wheels/public/simple/\n",
            "Requirement already satisfied: bs4 in /usr/local/lib/python3.7/dist-packages (0.0.1)\n",
            "Requirement already satisfied: beautifulsoup4 in /usr/local/lib/python3.7/dist-packages (from bs4) (4.6.3)\n",
            "Looking in indexes: https://pypi.org/simple, https://us-python.pkg.dev/colab-wheels/public/simple/\n",
            "Requirement already satisfied: selenium in /usr/local/lib/python3.7/dist-packages (4.4.0)\n",
            "Requirement already satisfied: trio-websocket~=0.9 in /usr/local/lib/python3.7/dist-packages (from selenium) (0.9.2)\n",
            "Requirement already satisfied: trio~=0.17 in /usr/local/lib/python3.7/dist-packages (from selenium) (0.21.0)\n",
            "Collecting urllib3[secure,socks]~=1.26\n",
            "  Using cached urllib3-1.26.11-py2.py3-none-any.whl (139 kB)\n",
            "Requirement already satisfied: sortedcontainers in /usr/local/lib/python3.7/dist-packages (from trio~=0.17->selenium) (2.4.0)\n",
            "Requirement already satisfied: async-generator>=1.9 in /usr/local/lib/python3.7/dist-packages (from trio~=0.17->selenium) (1.10)\n",
            "Requirement already satisfied: sniffio in /usr/local/lib/python3.7/dist-packages (from trio~=0.17->selenium) (1.2.0)\n",
            "Requirement already satisfied: outcome in /usr/local/lib/python3.7/dist-packages (from trio~=0.17->selenium) (1.2.0)\n",
            "Requirement already satisfied: idna in /usr/local/lib/python3.7/dist-packages (from trio~=0.17->selenium) (2.10)\n",
            "Requirement already satisfied: attrs>=19.2.0 in /usr/local/lib/python3.7/dist-packages (from trio~=0.17->selenium) (22.1.0)\n",
            "Requirement already satisfied: wsproto>=0.14 in /usr/local/lib/python3.7/dist-packages (from trio-websocket~=0.9->selenium) (1.1.0)\n",
            "Requirement already satisfied: PySocks!=1.5.7,<2.0,>=1.5.6 in /usr/local/lib/python3.7/dist-packages (from urllib3[secure,socks]~=1.26->selenium) (1.7.1)\n",
            "Requirement already satisfied: cryptography>=1.3.4 in /usr/local/lib/python3.7/dist-packages (from urllib3[secure,socks]~=1.26->selenium) (37.0.4)\n",
            "Requirement already satisfied: certifi in /usr/local/lib/python3.7/dist-packages (from urllib3[secure,socks]~=1.26->selenium) (2022.6.15)\n",
            "Requirement already satisfied: pyOpenSSL>=0.14 in /usr/local/lib/python3.7/dist-packages (from urllib3[secure,socks]~=1.26->selenium) (22.0.0)\n",
            "Requirement already satisfied: cffi>=1.12 in /usr/local/lib/python3.7/dist-packages (from cryptography>=1.3.4->urllib3[secure,socks]~=1.26->selenium) (1.15.1)\n",
            "Requirement already satisfied: pycparser in /usr/local/lib/python3.7/dist-packages (from cffi>=1.12->cryptography>=1.3.4->urllib3[secure,socks]~=1.26->selenium) (2.21)\n",
            "Requirement already satisfied: h11<1,>=0.9.0 in /usr/local/lib/python3.7/dist-packages (from wsproto>=0.14->trio-websocket~=0.9->selenium) (0.13.0)\n",
            "Requirement already satisfied: typing-extensions in /usr/local/lib/python3.7/dist-packages (from h11<1,>=0.9.0->wsproto>=0.14->trio-websocket~=0.9->selenium) (4.1.1)\n",
            "Installing collected packages: urllib3\n",
            "  Attempting uninstall: urllib3\n",
            "    Found existing installation: urllib3 1.25.11\n",
            "    Uninstalling urllib3-1.25.11:\n",
            "      Successfully uninstalled urllib3-1.25.11\n",
            "\u001b[31mERROR: pip's dependency resolver does not currently take into account all the packages that are installed. This behaviour is the source of the following dependency conflicts.\n",
            "requests 2.23.0 requires urllib3!=1.25.0,!=1.25.1,<1.26,>=1.21.1, but you have urllib3 1.26.11 which is incompatible.\u001b[0m\n",
            "Successfully installed urllib3-1.26.11\n"
          ]
        },
        {
          "output_type": "display_data",
          "data": {
            "application/vnd.colab-display-data+json": {
              "pip_warning": {
                "packages": [
                  "urllib3"
                ]
              }
            }
          },
          "metadata": {}
        }
      ],
      "source": [
        "!pip3 install requests\n",
        "!pip3 install bs4\n",
        "!pip3 install selenium"
      ]
    },
    {
      "cell_type": "code",
      "source": [
        "import requests\n",
        "from bs4 import BeautifulSoup"
      ],
      "metadata": {
        "id": "fbag-yMP7vzH"
      },
      "execution_count": 181,
      "outputs": []
    },
    {
      "cell_type": "code",
      "source": [
        "res.status_code"
      ],
      "metadata": {
        "colab": {
          "base_uri": "https://localhost:8080/"
        },
        "id": "hmbf7RwN7pVl",
        "outputId": "631e350b-be7f-4d65-c67d-ae780a131db0"
      },
      "execution_count": 182,
      "outputs": [
        {
          "output_type": "execute_result",
          "data": {
            "text/plain": [
              "200"
            ]
          },
          "metadata": {},
          "execution_count": 182
        }
      ]
    },
    {
      "cell_type": "code",
      "source": [
        "html = '''\n",
        "<html>\n",
        "  <head>\n",
        "    <title>Example HTML</title>\n",
        "  </head>\n",
        "  <body>\n",
        "    <div id='first' class='Example'>\n",
        "      <h3 title='Good Content Title'>Contents Title</h3>\n",
        "      <p>Test contents</p>\n",
        "    </div>\n",
        "    <div id='second' class='Example'>\n",
        "      <p>Text1</p>\n",
        "      <p>Text2</p>\n",
        "      <p>Text3</p>\n",
        "    </div>\n",
        "  </body>\n",
        "</html>\n",
        "'''"
      ],
      "metadata": {
        "id": "J_VPJ-gM3iqB"
      },
      "execution_count": 183,
      "outputs": []
    },
    {
      "cell_type": "code",
      "source": [
        "#1위\n",
        "\n",
        "url = \"https://movie.naver.com/movie/bi/mi/basic.naver?code=184519#\"\n",
        "res = requests.get(url)\n",
        "\n",
        "# 첫번째 인자를 텍스트로 넣어줘야 함\n",
        "soup = BeautifulSoup(res.text, 'html.parser')\n",
        "\n",
        "#영화제목\n",
        "title = soup.find('h3', class_=\"h_movie\").find('a').text\n",
        "\n",
        "#평점\n",
        "score = soup.find('span', class_=\"st_on\").text\n",
        "\n",
        "#장르\n",
        "genre = soup.find('dl', class_=\"info_spec\").find_all('a')[0].text\n",
        "\n",
        "#국가\n",
        "country = soup.find('dl', class_=\"info_spec\").find_all('a')[1].text\n",
        "\n",
        "#개봉\n",
        "open = soup.find('dl', class_=\"info_spec\").find_all('span')[3].text.replace('\\n','').replace('\\t','').replace('\\r','')\n",
        "\n",
        "#감독\n",
        "director = soup.find('dl', class_=\"info_spec\").find_all('p')[1].text\n",
        "\n",
        "#관람가\n",
        "age = soup.find('p').find_all('a')[4].text\n",
        "\n",
        "#흥행\n",
        "count = soup.find('p', class_='count').text\n",
        "\n",
        "total1 = [title, score, genre, country, open, director, age, count]\n",
        "print(total1)\n",
        "\n"
      ],
      "metadata": {
        "colab": {
          "base_uri": "https://localhost:8080/"
        },
        "id": "qgxuoBWi1-TH",
        "outputId": "47055c8c-cae3-4f39-a648-ae40441849aa"
      },
      "execution_count": 184,
      "outputs": [
        {
          "output_type": "stream",
          "name": "stdout",
          "text": [
            "['비상선언', '관람객 평점 6.65점', '드라마', '한국', ' 2022.08.03 개봉', '한재림', '12세 관람가', '1,495,336명(08.08 기준)']\n"
          ]
        }
      ]
    },
    {
      "cell_type": "code",
      "source": [
        "#2위\n",
        "\n",
        "url = \"https://movie.naver.com/movie/bi/mi/basic.naver?code=194196\"\n",
        "res = requests.get(url)\n",
        "\n",
        "# 첫번째 인자를 텍스트로 넣어줘야 함\n",
        "soup = BeautifulSoup(res.text, 'html.parser')\n",
        "\n",
        "#영화제목\n",
        "title = soup.find('h3', class_=\"h_movie\").find('a').text\n",
        "\n",
        "#평점\n",
        "score = soup.find('span', class_=\"st_on\").text\n",
        "\n",
        "#장르\n",
        "genre0 = soup.find('dl', class_=\"info_spec\").find_all('a')[0].text\n",
        "genre1 = soup.find('dl', class_=\"info_spec\").find_all('a')[1].text\n",
        "\n",
        "\n",
        "#국가\n",
        "country = soup.find('dl', class_=\"info_spec\").find_all('a')[2].text\n",
        "\n",
        "#개봉\n",
        "open = soup.find('dl', class_=\"info_spec\").find_all('span')[3].text.replace('\\n','').replace('\\t','').replace('\\r','')\n",
        "\n",
        "#감독\n",
        "director = soup.find('dl', class_=\"info_spec\").find_all('p')[1].text\n",
        "\n",
        "#관람가\n",
        "age = soup.find('p').find_all('a')[5].text\n",
        "\n",
        "#흥행\n",
        "count = soup.find('p', class_='count').text\n",
        "\n",
        "total2 = [title, score, genre0, genre1, country, open, director, age, count]\n",
        "print(total2)"
      ],
      "metadata": {
        "colab": {
          "base_uri": "https://localhost:8080/"
        },
        "id": "lsg4VfP0gZ1d",
        "outputId": "af73dcac-fd1e-490e-ebc1-caa9896197b9"
      },
      "execution_count": 185,
      "outputs": [
        {
          "output_type": "stream",
          "name": "stdout",
          "text": [
            "['한산: 용의 출현', '관람객 평점 8.53점', '액션', '드라마', '한국', ' 2022.07.27 개봉', '김한민', '12세 관람가', '4,760,152명(08.08 기준)']\n"
          ]
        }
      ]
    },
    {
      "cell_type": "code",
      "source": [
        "#3위\n",
        "\n",
        "url = \"https://movie.naver.com/movie/bi/mi/basic.naver?code=192151\"\n",
        "res = requests.get(url)\n",
        "\n",
        "# 첫번째 인자를 텍스트로 넣어줘야 함\n",
        "soup = BeautifulSoup(res.text, 'html.parser')\n",
        "\n",
        "#영화제목\n",
        "title = soup.find('h3', class_=\"h_movie\").find('a').text\n",
        "\n",
        "#평점\n",
        "score = soup.find('span', class_=\"st_on\").text\n",
        "\n",
        "#장르\n",
        "genre0 = soup.find('dl', class_=\"info_spec\").find_all('a')[0].text\n",
        "genre1 = soup.find('dl', class_=\"info_spec\").find_all('a')[1].text\n",
        "genre2 = soup.find('dl', class_=\"info_spec\").find_all('a')[2].text\n",
        "\n",
        "\n",
        "#국가\n",
        "country = soup.find('dl', class_=\"info_spec\").find_all('a')[3].text\n",
        "\n",
        "#개봉\n",
        "open = soup.find('dl', class_=\"info_spec\").find_all('span')[3].text.replace('\\n','').replace('\\t','').replace('\\r','')\n",
        "\n",
        "#감독\n",
        "director = soup.find('dl', class_=\"info_spec\").find_all('p')[1].text\n",
        "\n",
        "#관람가\n",
        "age = soup.find('p').find_all('a')[6].text\n",
        "\n",
        "#흥행\n",
        "count = soup.find('p', class_='count').text\n",
        "\n",
        "total3 = [title, score, genre0, genre1, genre2, country, open, director, age, count]\n",
        "print(total3)"
      ],
      "metadata": {
        "colab": {
          "base_uri": "https://localhost:8080/"
        },
        "id": "YXiP6a7egZoz",
        "outputId": "ca3595d4-9ca5-49c8-d0d4-3c4369a71cdd"
      },
      "execution_count": 186,
      "outputs": [
        {
          "output_type": "stream",
          "name": "stdout",
          "text": [
            "['외계+인 1부', '관람객 평점 6.89점', '액션', '판타지', 'SF', '한국', ' 2022.07.20 개봉', '최동훈', '12세 관람가', '1,501,779명(08.08 기준)']\n"
          ]
        }
      ]
    },
    {
      "cell_type": "code",
      "source": [
        "#4위\n",
        "\n",
        "url = \"https://movie.naver.com/movie/bi/mi/basic.naver?code=81888\"\n",
        "res = requests.get(url)\n",
        "\n",
        "# 첫번째 인자를 텍스트로 넣어줘야 함\n",
        "soup = BeautifulSoup(res.text, 'html.parser')\n",
        "\n",
        "#영화제목\n",
        "title = soup.find('h3', class_=\"h_movie\").find('a').text\n",
        "\n",
        "#평점\n",
        "score = soup.find('span', class_=\"st_on\").text\n",
        "\n",
        "#장르\n",
        "genre = soup.find('dl', class_=\"info_spec\").find_all('a')[0].text\n",
        "\n",
        "#국가\n",
        "country = soup.find('dl', class_=\"info_spec\").find_all('a')[1].text\n",
        "\n",
        "#개봉\n",
        "open = soup.find('dl', class_=\"info_spec\").find_all('span')[3].text.replace('\\n','').replace('\\t','').replace('\\r','')\n",
        "\n",
        "#감독\n",
        "director = soup.find('dl', class_=\"info_spec\").find_all('p')[1].text\n",
        "\n",
        "#관람가\n",
        "age = soup.find('p').find_all('a')[4].text\n",
        "\n",
        "#흥행\n",
        "count = soup.find('p', class_='count').text\n",
        "\n",
        "total4 = [title, score, genre, country, open, director, age, count]\n",
        "print(total4)"
      ],
      "metadata": {
        "colab": {
          "base_uri": "https://localhost:8080/"
        },
        "id": "ZZBK604ngZmO",
        "outputId": "84bf148b-43d6-45c9-bffd-614df0d989e1"
      },
      "execution_count": 187,
      "outputs": [
        {
          "output_type": "stream",
          "name": "stdout",
          "text": [
            "['탑건: 매버릭', '관람객 평점 9.59점', '액션', '미국', ' 2022.06.22 개봉', '조셉 코신스키', '12세 관람가', '7,477,721명(08.08 기준)']\n"
          ]
        }
      ]
    },
    {
      "cell_type": "code",
      "source": [
        "#5위\n",
        "url = \"https://movie.naver.com/movie/bi/mi/basic.naver?code=198413\"\n",
        "res = requests.get(url)\n",
        "\n",
        "# 첫번째 인자를 텍스트로 넣어줘야 함\n",
        "soup = BeautifulSoup(res.text, 'html.parser')\n",
        "\n",
        "#영화제목\n",
        "title = soup.find('h3', class_=\"h_movie\").find('a').text\n",
        "\n",
        "#평점\n",
        "score = soup.find('span', class_=\"st_on\").text\n",
        "\n",
        "#장르\n",
        "genre0 = soup.find('dl', class_=\"info_spec\").find_all('a')[0].text\n",
        "genre1 = soup.find('dl', class_=\"info_spec\").find_all('a')[1].text\n",
        "genre2 = soup.find('dl', class_=\"info_spec\").find_all('a')[2].text\n",
        "\n",
        "\n",
        "#국가\n",
        "country = soup.find('dl', class_=\"info_spec\").find_all('a')[3].text\n",
        "\n",
        "#개봉\n",
        "open = soup.find('dl', class_=\"info_spec\").find_all('span')[3].text.replace('\\n','').replace('\\t','').replace('\\r','')\n",
        "\n",
        "#감독\n",
        "director = soup.find('dl', class_=\"info_spec\").find_all('p')[1].text\n",
        "\n",
        "#관람가\n",
        "age = soup.find('p').find_all('a')[6].text\n",
        "\n",
        "#흥행\n",
        "count = soup.find('p', class_='count').text\n",
        "\n",
        "total5 = [title, score, genre0, genre1, genre2, country, open, director, age, count]\n",
        "print(total5)"
      ],
      "metadata": {
        "colab": {
          "base_uri": "https://localhost:8080/"
        },
        "id": "d6GQSQFsgZjV",
        "outputId": "04d8c554-0ce0-42b8-fce8-4575c278090f"
      },
      "execution_count": 188,
      "outputs": [
        {
          "output_type": "stream",
          "name": "stdout",
          "text": [
            "['헤어질 결심', '관람객 평점 8.93점', '멜로/로맨스', '드라마', '서스펜스', '한국', ' 2022.06.29 개봉', '박찬욱', '15세 관람가', '1,783,308명(08.08 기준)']\n"
          ]
        }
      ]
    },
    {
      "cell_type": "code",
      "source": [
        "#6위\n",
        "url = \"https://movie.naver.com/movie/bi/mi/basic.naver?code=195758\"\n",
        "res = requests.get(url)\n",
        "\n",
        "# 첫번째 인자를 텍스트로 넣어줘야 함\n",
        "soup = BeautifulSoup(res.text, 'html.parser')\n",
        "\n",
        "#영화제목\n",
        "title = soup.find('h3', class_=\"h_movie\").find('a').text\n",
        "\n",
        "#평점\n",
        "score = soup.find('span', class_=\"st_on\").text\n",
        "\n",
        "#장르\n",
        "genre0 = soup.find('dl', class_=\"info_spec\").find_all('a')[0].text\n",
        "genre1 = soup.find('dl', class_=\"info_spec\").find_all('a')[1].text\n",
        "\n",
        "\n",
        "#국가\n",
        "country = soup.find('dl', class_=\"info_spec\").find_all('a')[2].text\n",
        "\n",
        "#개봉\n",
        "open = soup.find('dl', class_=\"info_spec\").find_all('span')[3].text.replace('\\n','').replace('\\t','').replace('\\r','')\n",
        "\n",
        "#감독\n",
        "director = soup.find('dl', class_=\"info_spec\").find_all('p')[1].text\n",
        "\n",
        "#관람가\n",
        "age = soup.find('p').find_all('a')[5].text\n",
        "\n",
        "#흥행\n",
        "#count = soup.find('p', class_='count').text\n",
        "\n",
        "total6 = [title, score, genre0, genre1, country, open, director, age]\n",
        "print(total6)"
      ],
      "metadata": {
        "colab": {
          "base_uri": "https://localhost:8080/"
        },
        "id": "WkaeWM5dgZgN",
        "outputId": "2ce1c1bf-72cc-4816-c292-ea771fe13fb0"
      },
      "execution_count": 189,
      "outputs": [
        {
          "output_type": "stream",
          "name": "stdout",
          "text": [
            "['헌트', '관람객 평점 8.57점', '액션', '드라마', '한국', ' 2022.08.10 개봉', '이정재', '15세 관람가']\n"
          ]
        }
      ]
    },
    {
      "cell_type": "code",
      "source": [
        "#7위\n",
        "url = \"https://movie.naver.com/movie/bi/mi/basic.naver?code=203101\"\n",
        "res = requests.get(url)\n",
        "\n",
        "# 첫번째 인자를 텍스트로 넣어줘야 함\n",
        "soup = BeautifulSoup(res.text, 'html.parser')\n",
        "\n",
        "#영화제목\n",
        "title = soup.find('h3', class_=\"h_movie\").find('a').text\n",
        "\n",
        "#평점\n",
        "score = soup.find('span', class_=\"st_on\").text\n",
        "\n",
        "#장르\n",
        "genre0 = soup.find('dl', class_=\"info_spec\").find_all('a')[0].text\n",
        "genre1 = soup.find('dl', class_=\"info_spec\").find_all('a')[1].text\n",
        "\n",
        "#국가\n",
        "country = soup.find('dl', class_=\"info_spec\").find_all('a')[2].text\n",
        "\n",
        "#개봉\n",
        "#open = soup.find('dl', class_=\"info_spec\").find_all('span')[3].text.replace('\\n','').replace('\\t','').replace('\\r','')\n",
        "\n",
        "#감독\n",
        "director = soup.find('dl', class_=\"info_spec\").find_all('p')[1].text\n",
        "\n",
        "#관람가\n",
        "#age = soup.find('p').find_all('a')[6].text\n",
        "\n",
        "#흥행\n",
        "#count = soup.find('p', class_='count').text\n",
        "\n",
        "total7 = [title, score, genre0, genre1, country, director]\n",
        "print(total7)"
      ],
      "metadata": {
        "colab": {
          "base_uri": "https://localhost:8080/"
        },
        "id": "zxuDqe_UgZc0",
        "outputId": "c9091313-d13c-42e1-8f54-662c3c6e0e53"
      },
      "execution_count": 190,
      "outputs": [
        {
          "output_type": "stream",
          "name": "stdout",
          "text": [
            "['카터', '관람객 평점 없음', '액션', '모험', '한국', '정병길']\n"
          ]
        }
      ]
    },
    {
      "cell_type": "code",
      "source": [
        "#8위\n",
        "url = \"https://movie.naver.com/movie/bi/mi/basic.naver?code=219628\"\n",
        "res = requests.get(url)\n",
        "\n",
        "# 첫번째 인자를 텍스트로 넣어줘야 함\n",
        "soup = BeautifulSoup(res.text, 'html.parser')\n",
        "\n",
        "#영화제목\n",
        "title = soup.find('h3', class_=\"h_movie\").find('a').text\n",
        "\n",
        "#평점\n",
        "score = soup.find('span', class_=\"st_on\").text\n",
        "\n",
        "#장르\n",
        "genre0= soup.find('dl', class_=\"info_spec\").find_all('a')[0].text\n",
        "genre1= soup.find('dl', class_=\"info_spec\").find_all('a')[1].text\n",
        "genre2= soup.find('dl', class_=\"info_spec\").find_all('a')[2].text\n",
        "genre3= soup.find('dl', class_=\"info_spec\").find_all('a')[3].text\n",
        "genre4= soup.find('dl', class_=\"info_spec\").find_all('a')[4].text\n",
        "\n",
        "\n",
        "#국가\n",
        "country = soup.find('dl', class_=\"info_spec\").find_all('a')[5].text\n",
        "\n",
        "#개봉\n",
        "#open = soup.find('dl', class_=\"info_spec\").find_all('span')[3].text.replace('\\n','').replace('\\t','').replace('\\r','')\n",
        "\n",
        "#감독\n",
        "director = soup.find('dl', class_=\"info_spec\").find_all('p')[1].text\n",
        "\n",
        "#관람가\n",
        "age = soup.find('p').find_all('a')[6].text\n",
        "\n",
        "#흥행\n",
        "#count = soup.find('p', class_='count').text\n",
        "\n",
        "total8 = [title, score, genre0,genre1,genre2,genre3,genre4, country, director, age]\n",
        "print(total8)"
      ],
      "metadata": {
        "colab": {
          "base_uri": "https://localhost:8080/"
        },
        "id": "GF3YPb0zgZN2",
        "outputId": "8ecc1cf3-a283-4c04-e4df-126f96fb0568"
      },
      "execution_count": 191,
      "outputs": [
        {
          "output_type": "stream",
          "name": "stdout",
          "text": [
            "['프레이', '관람객 평점 없음', '액션', '스릴러', '드라마', '공포', 'SF', '미국', '댄 트라첸버그', '청소년 관람불가']\n"
          ]
        }
      ]
    },
    {
      "cell_type": "code",
      "source": [
        "#9위\n",
        "url = \"https://movie.naver.com/movie/bi/mi/basic.naver?code=191634\"\n",
        "res = requests.get(url)\n",
        "\n",
        "# 첫번째 인자를 텍스트로 넣어줘야 함\n",
        "soup = BeautifulSoup(res.text, 'html.parser')\n",
        "\n",
        "#영화제목\n",
        "title = soup.find('h3', class_=\"h_movie\").find('a').text\n",
        "\n",
        "#평점\n",
        "score = soup.find('span', class_=\"st_on\").text\n",
        "\n",
        "#장르\n",
        "genre0 = soup.find('dl', class_=\"info_spec\").find_all('a')[0].text\n",
        "genre1 = soup.find('dl', class_=\"info_spec\").find_all('a')[1].text\n",
        "genre2 = soup.find('dl', class_=\"info_spec\").find_all('a')[2].text\n",
        "\n",
        "#국가\n",
        "country = soup.find('dl', class_=\"info_spec\").find_all('a')[3].text\n",
        "\n",
        "#개봉\n",
        "open = soup.find('dl', class_=\"info_spec\").find_all('span')[3].text.replace('\\n','').replace('\\t','').replace('\\r','')\n",
        "\n",
        "#감독\n",
        "director = soup.find('dl', class_=\"info_spec\").find_all('p')[1].text\n",
        "\n",
        "#관람가\n",
        "age = soup.find('p').find_all('a')[6].text\n",
        "\n",
        "#흥행\n",
        "count = soup.find('p', class_='count').text\n",
        "\n",
        "total9 = [title, score, genre0, genre1, genre2, country, open, director, age, count]\n",
        "print(total9)"
      ],
      "metadata": {
        "colab": {
          "base_uri": "https://localhost:8080/"
        },
        "id": "h0XaisotgZBE",
        "outputId": "d90adb1a-c0aa-4f01-fa8b-61629594c797"
      },
      "execution_count": 192,
      "outputs": [
        {
          "output_type": "stream",
          "name": "stdout",
          "text": [
            "['미니언즈2', '관람객 평점 7.85점', '애니메이션', '모험', '코미디', '미국', ' 2022.07.20 개봉', '카일 발다', '전체 관람가', '1,995,389명(08.08 기준)']\n"
          ]
        }
      ]
    },
    {
      "cell_type": "code",
      "source": [
        "#10위\n",
        "url = \"https://movie.naver.com/movie/bi/mi/basic.naver?code=187347\"\n",
        "res = requests.get(url)\n",
        "\n",
        "# 첫번째 인자를 텍스트로 넣어줘야 함\n",
        "soup = BeautifulSoup(res.text, 'html.parser')\n",
        "\n",
        "#영화제목\n",
        "title = soup.find('h3', class_=\"h_movie\").find('a').text\n",
        "\n",
        "#평점\n",
        "score = soup.find('span', class_=\"st_on\").text\n",
        "\n",
        "#장르\n",
        "genre0 = soup.find('dl', class_=\"info_spec\").find_all('a')[0].text\n",
        "genre1 = soup.find('dl', class_=\"info_spec\").find_all('a')[1].text\n",
        "genre2 = soup.find('dl', class_=\"info_spec\").find_all('a')[2].text\n",
        "\n",
        "\n",
        "#국가\n",
        "country = soup.find('dl', class_=\"info_spec\").find_all('a')[3].text\n",
        "\n",
        "#개봉\n",
        "open = soup.find('dl', class_=\"info_spec\").find_all('span')[3].text.replace('\\n','').replace('\\t','').replace('\\r','')\n",
        "\n",
        "#감독\n",
        "director = soup.find('dl', class_=\"info_spec\").find_all('p')[1].text\n",
        "\n",
        "#관람가\n",
        "age = soup.find('p').find_all('a')[6].text\n",
        "\n",
        "#흥행\n",
        "count = soup.find('p', class_='count').text\n",
        "\n",
        "total10 = [title, score, genre0, genre1, genre2, country, open, director, age, count]\n",
        "print(total10)"
      ],
      "metadata": {
        "colab": {
          "base_uri": "https://localhost:8080/"
        },
        "id": "3ifMZ_EfkWoX",
        "outputId": "a8c70cd6-f87f-4b0f-b82e-d0ee012d6a99"
      },
      "execution_count": 193,
      "outputs": [
        {
          "output_type": "stream",
          "name": "stdout",
          "text": [
            "['토르: 러브 앤 썬더', '관람객 평점 6.73점', '액션', '모험', '판타지', '미국', ' 2022.07.06 개봉', '타이카 와이티티', '12세 관람가', '2,714,787명(08.08 기준)']\n"
          ]
        }
      ]
    },
    {
      "cell_type": "code",
      "source": [
        "total_list = [total1, total2, total3, total4, total5, total6, total7, total8, total9, total10]\n",
        "for i in total_list:\n",
        "  print(i)"
      ],
      "metadata": {
        "colab": {
          "base_uri": "https://localhost:8080/"
        },
        "id": "Y02wVJ_FuDTz",
        "outputId": "0e0d088e-c344-49d1-e725-4ec489888b28"
      },
      "execution_count": 194,
      "outputs": [
        {
          "output_type": "stream",
          "name": "stdout",
          "text": [
            "['비상선언', '관람객 평점 6.65점', '드라마', '한국', ' 2022.08.03 개봉', '한재림', '12세 관람가', '1,495,336명(08.08 기준)']\n",
            "['한산: 용의 출현', '관람객 평점 8.53점', '액션', '드라마', '한국', ' 2022.07.27 개봉', '김한민', '12세 관람가', '4,760,152명(08.08 기준)']\n",
            "['외계+인 1부', '관람객 평점 6.89점', '액션', '판타지', 'SF', '한국', ' 2022.07.20 개봉', '최동훈', '12세 관람가', '1,501,779명(08.08 기준)']\n",
            "['탑건: 매버릭', '관람객 평점 9.59점', '액션', '미국', ' 2022.06.22 개봉', '조셉 코신스키', '12세 관람가', '7,477,721명(08.08 기준)']\n",
            "['헤어질 결심', '관람객 평점 8.93점', '멜로/로맨스', '드라마', '서스펜스', '한국', ' 2022.06.29 개봉', '박찬욱', '15세 관람가', '1,783,308명(08.08 기준)']\n",
            "['헌트', '관람객 평점 8.57점', '액션', '드라마', '한국', ' 2022.08.10 개봉', '이정재', '15세 관람가']\n",
            "['카터', '관람객 평점 없음', '액션', '모험', '한국', '정병길']\n",
            "['프레이', '관람객 평점 없음', '액션', '스릴러', '드라마', '공포', 'SF', '미국', '댄 트라첸버그', '청소년 관람불가']\n",
            "['미니언즈2', '관람객 평점 7.85점', '애니메이션', '모험', '코미디', '미국', ' 2022.07.20 개봉', '카일 발다', '전체 관람가', '1,995,389명(08.08 기준)']\n",
            "['토르: 러브 앤 썬더', '관람객 평점 6.73점', '액션', '모험', '판타지', '미국', ' 2022.07.06 개봉', '타이카 와이티티', '12세 관람가', '2,714,787명(08.08 기준)']\n"
          ]
        }
      ]
    },
    {
      "cell_type": "code",
      "source": [
        ""
      ],
      "metadata": {
        "id": "sTXOYnE6vtEC"
      },
      "execution_count": null,
      "outputs": []
    },
    {
      "cell_type": "code",
      "source": [
        ""
      ],
      "metadata": {
        "id": "0CL5y821vtBe"
      },
      "execution_count": null,
      "outputs": []
    },
    {
      "cell_type": "code",
      "source": [
        ""
      ],
      "metadata": {
        "id": "SzlRJOmYvs_D"
      },
      "execution_count": null,
      "outputs": []
    },
    {
      "cell_type": "code",
      "source": [
        ""
      ],
      "metadata": {
        "id": "AZyJ3cxRvs8F"
      },
      "execution_count": null,
      "outputs": []
    }
  ]
}