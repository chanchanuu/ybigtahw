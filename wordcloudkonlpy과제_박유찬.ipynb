{
  "cells": [
    {
      "cell_type": "markdown",
      "source": [
        "<h1> 데이콘 영화리뷰 감성분석 경진대회 </h1>\n",
        "\n",
        "어렵지 않으니 스스로 # To do 부분을 채워보시고 고민해봐도 모르겠다면 코드공유를 참고해주세요! 아니면 과제를 다 하시고 설명이 자세히 적혀있는 코드공유로 리뷰를 하셔도 좋습니다"
      ],
      "metadata": {
        "id": "g90kUrOX_P53"
      }
    },
    {
      "cell_type": "markdown",
      "metadata": {
        "id": "n1QU5sygxzX5"
      },
      "source": [
        "# train.csv 학습/검증"
      ]
    },
    {
      "cell_type": "markdown",
      "metadata": {
        "id": "AAcvJqY7xzX8"
      },
      "source": [
        "### 필요한 패키지 불러오기\n"
      ]
    },
    {
      "cell_type": "code",
      "source": [
        "from google.colab import drive\n",
        "drive.mount('/content/drive')"
      ],
      "metadata": {
        "colab": {
          "base_uri": "https://localhost:8080/"
        },
        "id": "dAVQLrGB0gW_",
        "outputId": "70e74406-2c28-4c64-f526-ff824618b327"
      },
      "execution_count": 2,
      "outputs": [
        {
          "output_type": "stream",
          "name": "stdout",
          "text": [
            "Mounted at /content/drive\n"
          ]
        }
      ]
    },
    {
      "cell_type": "code",
      "execution_count": 3,
      "metadata": {
        "id": "CNZo3SKtxzX_",
        "colab": {
          "base_uri": "https://localhost:8080/"
        },
        "outputId": "51da2c5e-4979-40d2-bb27-15c06364a912"
      },
      "outputs": [
        {
          "output_type": "stream",
          "name": "stderr",
          "text": [
            "[nltk_data] Downloading collection 'all'\n",
            "[nltk_data]    | \n",
            "[nltk_data]    | Downloading package abc to /root/nltk_data...\n",
            "[nltk_data]    |   Unzipping corpora/abc.zip.\n",
            "[nltk_data]    | Downloading package alpino to /root/nltk_data...\n",
            "[nltk_data]    |   Unzipping corpora/alpino.zip.\n",
            "[nltk_data]    | Downloading package averaged_perceptron_tagger to\n",
            "[nltk_data]    |     /root/nltk_data...\n",
            "[nltk_data]    |   Unzipping taggers/averaged_perceptron_tagger.zip.\n",
            "[nltk_data]    | Downloading package averaged_perceptron_tagger_ru to\n",
            "[nltk_data]    |     /root/nltk_data...\n",
            "[nltk_data]    |   Unzipping\n",
            "[nltk_data]    |       taggers/averaged_perceptron_tagger_ru.zip.\n",
            "[nltk_data]    | Downloading package basque_grammars to\n",
            "[nltk_data]    |     /root/nltk_data...\n",
            "[nltk_data]    |   Unzipping grammars/basque_grammars.zip.\n",
            "[nltk_data]    | Downloading package biocreative_ppi to\n",
            "[nltk_data]    |     /root/nltk_data...\n",
            "[nltk_data]    |   Unzipping corpora/biocreative_ppi.zip.\n",
            "[nltk_data]    | Downloading package bllip_wsj_no_aux to\n",
            "[nltk_data]    |     /root/nltk_data...\n",
            "[nltk_data]    |   Unzipping models/bllip_wsj_no_aux.zip.\n",
            "[nltk_data]    | Downloading package book_grammars to\n",
            "[nltk_data]    |     /root/nltk_data...\n",
            "[nltk_data]    |   Unzipping grammars/book_grammars.zip.\n",
            "[nltk_data]    | Downloading package brown to /root/nltk_data...\n",
            "[nltk_data]    |   Unzipping corpora/brown.zip.\n",
            "[nltk_data]    | Downloading package brown_tei to /root/nltk_data...\n",
            "[nltk_data]    |   Unzipping corpora/brown_tei.zip.\n",
            "[nltk_data]    | Downloading package cess_cat to /root/nltk_data...\n",
            "[nltk_data]    |   Unzipping corpora/cess_cat.zip.\n",
            "[nltk_data]    | Downloading package cess_esp to /root/nltk_data...\n",
            "[nltk_data]    |   Unzipping corpora/cess_esp.zip.\n",
            "[nltk_data]    | Downloading package chat80 to /root/nltk_data...\n",
            "[nltk_data]    |   Unzipping corpora/chat80.zip.\n",
            "[nltk_data]    | Downloading package city_database to\n",
            "[nltk_data]    |     /root/nltk_data...\n",
            "[nltk_data]    |   Unzipping corpora/city_database.zip.\n",
            "[nltk_data]    | Downloading package cmudict to /root/nltk_data...\n",
            "[nltk_data]    |   Unzipping corpora/cmudict.zip.\n",
            "[nltk_data]    | Downloading package comparative_sentences to\n",
            "[nltk_data]    |     /root/nltk_data...\n",
            "[nltk_data]    |   Unzipping corpora/comparative_sentences.zip.\n",
            "[nltk_data]    | Downloading package comtrans to /root/nltk_data...\n",
            "[nltk_data]    | Downloading package conll2000 to /root/nltk_data...\n",
            "[nltk_data]    |   Unzipping corpora/conll2000.zip.\n",
            "[nltk_data]    | Downloading package conll2002 to /root/nltk_data...\n",
            "[nltk_data]    |   Unzipping corpora/conll2002.zip.\n",
            "[nltk_data]    | Downloading package conll2007 to /root/nltk_data...\n",
            "[nltk_data]    | Downloading package crubadan to /root/nltk_data...\n",
            "[nltk_data]    |   Unzipping corpora/crubadan.zip.\n",
            "[nltk_data]    | Downloading package dependency_treebank to\n",
            "[nltk_data]    |     /root/nltk_data...\n",
            "[nltk_data]    |   Unzipping corpora/dependency_treebank.zip.\n",
            "[nltk_data]    | Downloading package dolch to /root/nltk_data...\n",
            "[nltk_data]    |   Unzipping corpora/dolch.zip.\n",
            "[nltk_data]    | Downloading package europarl_raw to\n",
            "[nltk_data]    |     /root/nltk_data...\n",
            "[nltk_data]    |   Unzipping corpora/europarl_raw.zip.\n",
            "[nltk_data]    | Downloading package extended_omw to\n",
            "[nltk_data]    |     /root/nltk_data...\n",
            "[nltk_data]    | Downloading package floresta to /root/nltk_data...\n",
            "[nltk_data]    |   Unzipping corpora/floresta.zip.\n",
            "[nltk_data]    | Downloading package framenet_v15 to\n",
            "[nltk_data]    |     /root/nltk_data...\n",
            "[nltk_data]    |   Unzipping corpora/framenet_v15.zip.\n",
            "[nltk_data]    | Downloading package framenet_v17 to\n",
            "[nltk_data]    |     /root/nltk_data...\n",
            "[nltk_data]    |   Unzipping corpora/framenet_v17.zip.\n",
            "[nltk_data]    | Downloading package gazetteers to /root/nltk_data...\n",
            "[nltk_data]    |   Unzipping corpora/gazetteers.zip.\n",
            "[nltk_data]    | Downloading package genesis to /root/nltk_data...\n",
            "[nltk_data]    |   Unzipping corpora/genesis.zip.\n",
            "[nltk_data]    | Downloading package gutenberg to /root/nltk_data...\n",
            "[nltk_data]    |   Unzipping corpora/gutenberg.zip.\n",
            "[nltk_data]    | Downloading package ieer to /root/nltk_data...\n",
            "[nltk_data]    |   Unzipping corpora/ieer.zip.\n",
            "[nltk_data]    | Downloading package inaugural to /root/nltk_data...\n",
            "[nltk_data]    |   Unzipping corpora/inaugural.zip.\n",
            "[nltk_data]    | Downloading package indian to /root/nltk_data...\n",
            "[nltk_data]    |   Unzipping corpora/indian.zip.\n",
            "[nltk_data]    | Downloading package jeita to /root/nltk_data...\n",
            "[nltk_data]    | Downloading package kimmo to /root/nltk_data...\n",
            "[nltk_data]    |   Unzipping corpora/kimmo.zip.\n",
            "[nltk_data]    | Downloading package knbc to /root/nltk_data...\n",
            "[nltk_data]    | Downloading package large_grammars to\n",
            "[nltk_data]    |     /root/nltk_data...\n",
            "[nltk_data]    |   Unzipping grammars/large_grammars.zip.\n",
            "[nltk_data]    | Downloading package lin_thesaurus to\n",
            "[nltk_data]    |     /root/nltk_data...\n",
            "[nltk_data]    |   Unzipping corpora/lin_thesaurus.zip.\n",
            "[nltk_data]    | Downloading package mac_morpho to /root/nltk_data...\n",
            "[nltk_data]    |   Unzipping corpora/mac_morpho.zip.\n",
            "[nltk_data]    | Downloading package machado to /root/nltk_data...\n",
            "[nltk_data]    | Downloading package masc_tagged to /root/nltk_data...\n",
            "[nltk_data]    | Downloading package maxent_ne_chunker to\n",
            "[nltk_data]    |     /root/nltk_data...\n",
            "[nltk_data]    |   Unzipping chunkers/maxent_ne_chunker.zip.\n",
            "[nltk_data]    | Downloading package maxent_treebank_pos_tagger to\n",
            "[nltk_data]    |     /root/nltk_data...\n",
            "[nltk_data]    |   Unzipping taggers/maxent_treebank_pos_tagger.zip.\n",
            "[nltk_data]    | Downloading package moses_sample to\n",
            "[nltk_data]    |     /root/nltk_data...\n",
            "[nltk_data]    |   Unzipping models/moses_sample.zip.\n",
            "[nltk_data]    | Downloading package movie_reviews to\n",
            "[nltk_data]    |     /root/nltk_data...\n",
            "[nltk_data]    |   Unzipping corpora/movie_reviews.zip.\n",
            "[nltk_data]    | Downloading package mte_teip5 to /root/nltk_data...\n",
            "[nltk_data]    |   Unzipping corpora/mte_teip5.zip.\n",
            "[nltk_data]    | Downloading package mwa_ppdb to /root/nltk_data...\n",
            "[nltk_data]    |   Unzipping misc/mwa_ppdb.zip.\n",
            "[nltk_data]    | Downloading package names to /root/nltk_data...\n",
            "[nltk_data]    |   Unzipping corpora/names.zip.\n",
            "[nltk_data]    | Downloading package nombank.1.0 to /root/nltk_data...\n",
            "[nltk_data]    | Downloading package nonbreaking_prefixes to\n",
            "[nltk_data]    |     /root/nltk_data...\n",
            "[nltk_data]    |   Unzipping corpora/nonbreaking_prefixes.zip.\n",
            "[nltk_data]    | Downloading package nps_chat to /root/nltk_data...\n",
            "[nltk_data]    |   Unzipping corpora/nps_chat.zip.\n",
            "[nltk_data]    | Downloading package omw to /root/nltk_data...\n",
            "[nltk_data]    | Downloading package omw-1.4 to /root/nltk_data...\n",
            "[nltk_data]    | Downloading package opinion_lexicon to\n",
            "[nltk_data]    |     /root/nltk_data...\n",
            "[nltk_data]    |   Unzipping corpora/opinion_lexicon.zip.\n",
            "[nltk_data]    | Downloading package panlex_swadesh to\n",
            "[nltk_data]    |     /root/nltk_data...\n",
            "[nltk_data]    | Downloading package paradigms to /root/nltk_data...\n",
            "[nltk_data]    |   Unzipping corpora/paradigms.zip.\n",
            "[nltk_data]    | Downloading package pe08 to /root/nltk_data...\n",
            "[nltk_data]    |   Unzipping corpora/pe08.zip.\n",
            "[nltk_data]    | Downloading package perluniprops to\n",
            "[nltk_data]    |     /root/nltk_data...\n",
            "[nltk_data]    |   Unzipping misc/perluniprops.zip.\n",
            "[nltk_data]    | Downloading package pil to /root/nltk_data...\n",
            "[nltk_data]    |   Unzipping corpora/pil.zip.\n",
            "[nltk_data]    | Downloading package pl196x to /root/nltk_data...\n",
            "[nltk_data]    |   Unzipping corpora/pl196x.zip.\n",
            "[nltk_data]    | Downloading package porter_test to /root/nltk_data...\n",
            "[nltk_data]    |   Unzipping stemmers/porter_test.zip.\n",
            "[nltk_data]    | Downloading package ppattach to /root/nltk_data...\n",
            "[nltk_data]    |   Unzipping corpora/ppattach.zip.\n",
            "[nltk_data]    | Downloading package problem_reports to\n",
            "[nltk_data]    |     /root/nltk_data...\n",
            "[nltk_data]    |   Unzipping corpora/problem_reports.zip.\n",
            "[nltk_data]    | Downloading package product_reviews_1 to\n",
            "[nltk_data]    |     /root/nltk_data...\n",
            "[nltk_data]    |   Unzipping corpora/product_reviews_1.zip.\n",
            "[nltk_data]    | Downloading package product_reviews_2 to\n",
            "[nltk_data]    |     /root/nltk_data...\n",
            "[nltk_data]    |   Unzipping corpora/product_reviews_2.zip.\n",
            "[nltk_data]    | Downloading package propbank to /root/nltk_data...\n",
            "[nltk_data]    | Downloading package pros_cons to /root/nltk_data...\n",
            "[nltk_data]    |   Unzipping corpora/pros_cons.zip.\n",
            "[nltk_data]    | Downloading package ptb to /root/nltk_data...\n",
            "[nltk_data]    |   Unzipping corpora/ptb.zip.\n",
            "[nltk_data]    | Downloading package punkt to /root/nltk_data...\n",
            "[nltk_data]    |   Unzipping tokenizers/punkt.zip.\n",
            "[nltk_data]    | Downloading package qc to /root/nltk_data...\n",
            "[nltk_data]    |   Unzipping corpora/qc.zip.\n",
            "[nltk_data]    | Downloading package reuters to /root/nltk_data...\n",
            "[nltk_data]    | Downloading package rslp to /root/nltk_data...\n",
            "[nltk_data]    |   Unzipping stemmers/rslp.zip.\n",
            "[nltk_data]    | Downloading package rte to /root/nltk_data...\n",
            "[nltk_data]    |   Unzipping corpora/rte.zip.\n",
            "[nltk_data]    | Downloading package sample_grammars to\n",
            "[nltk_data]    |     /root/nltk_data...\n",
            "[nltk_data]    |   Unzipping grammars/sample_grammars.zip.\n",
            "[nltk_data]    | Downloading package semcor to /root/nltk_data...\n",
            "[nltk_data]    | Downloading package senseval to /root/nltk_data...\n",
            "[nltk_data]    |   Unzipping corpora/senseval.zip.\n",
            "[nltk_data]    | Downloading package sentence_polarity to\n",
            "[nltk_data]    |     /root/nltk_data...\n",
            "[nltk_data]    |   Unzipping corpora/sentence_polarity.zip.\n",
            "[nltk_data]    | Downloading package sentiwordnet to\n",
            "[nltk_data]    |     /root/nltk_data...\n",
            "[nltk_data]    |   Unzipping corpora/sentiwordnet.zip.\n",
            "[nltk_data]    | Downloading package shakespeare to /root/nltk_data...\n",
            "[nltk_data]    |   Unzipping corpora/shakespeare.zip.\n",
            "[nltk_data]    | Downloading package sinica_treebank to\n",
            "[nltk_data]    |     /root/nltk_data...\n",
            "[nltk_data]    |   Unzipping corpora/sinica_treebank.zip.\n",
            "[nltk_data]    | Downloading package smultron to /root/nltk_data...\n",
            "[nltk_data]    |   Unzipping corpora/smultron.zip.\n",
            "[nltk_data]    | Downloading package snowball_data to\n",
            "[nltk_data]    |     /root/nltk_data...\n",
            "[nltk_data]    | Downloading package spanish_grammars to\n",
            "[nltk_data]    |     /root/nltk_data...\n",
            "[nltk_data]    |   Unzipping grammars/spanish_grammars.zip.\n",
            "[nltk_data]    | Downloading package state_union to /root/nltk_data...\n",
            "[nltk_data]    |   Unzipping corpora/state_union.zip.\n",
            "[nltk_data]    | Downloading package stopwords to /root/nltk_data...\n",
            "[nltk_data]    |   Unzipping corpora/stopwords.zip.\n",
            "[nltk_data]    | Downloading package subjectivity to\n",
            "[nltk_data]    |     /root/nltk_data...\n",
            "[nltk_data]    |   Unzipping corpora/subjectivity.zip.\n",
            "[nltk_data]    | Downloading package swadesh to /root/nltk_data...\n",
            "[nltk_data]    |   Unzipping corpora/swadesh.zip.\n",
            "[nltk_data]    | Downloading package switchboard to /root/nltk_data...\n",
            "[nltk_data]    |   Unzipping corpora/switchboard.zip.\n",
            "[nltk_data]    | Downloading package tagsets to /root/nltk_data...\n",
            "[nltk_data]    |   Unzipping help/tagsets.zip.\n",
            "[nltk_data]    | Downloading package timit to /root/nltk_data...\n",
            "[nltk_data]    |   Unzipping corpora/timit.zip.\n",
            "[nltk_data]    | Downloading package toolbox to /root/nltk_data...\n",
            "[nltk_data]    |   Unzipping corpora/toolbox.zip.\n",
            "[nltk_data]    | Downloading package treebank to /root/nltk_data...\n",
            "[nltk_data]    |   Unzipping corpora/treebank.zip.\n",
            "[nltk_data]    | Downloading package twitter_samples to\n",
            "[nltk_data]    |     /root/nltk_data...\n",
            "[nltk_data]    |   Unzipping corpora/twitter_samples.zip.\n",
            "[nltk_data]    | Downloading package udhr to /root/nltk_data...\n",
            "[nltk_data]    |   Unzipping corpora/udhr.zip.\n",
            "[nltk_data]    | Downloading package udhr2 to /root/nltk_data...\n",
            "[nltk_data]    |   Unzipping corpora/udhr2.zip.\n",
            "[nltk_data]    | Downloading package unicode_samples to\n",
            "[nltk_data]    |     /root/nltk_data...\n",
            "[nltk_data]    |   Unzipping corpora/unicode_samples.zip.\n",
            "[nltk_data]    | Downloading package universal_tagset to\n",
            "[nltk_data]    |     /root/nltk_data...\n",
            "[nltk_data]    |   Unzipping taggers/universal_tagset.zip.\n",
            "[nltk_data]    | Downloading package universal_treebanks_v20 to\n",
            "[nltk_data]    |     /root/nltk_data...\n",
            "[nltk_data]    | Downloading package vader_lexicon to\n",
            "[nltk_data]    |     /root/nltk_data...\n",
            "[nltk_data]    | Downloading package verbnet to /root/nltk_data...\n",
            "[nltk_data]    |   Unzipping corpora/verbnet.zip.\n",
            "[nltk_data]    | Downloading package verbnet3 to /root/nltk_data...\n",
            "[nltk_data]    |   Unzipping corpora/verbnet3.zip.\n",
            "[nltk_data]    | Downloading package webtext to /root/nltk_data...\n",
            "[nltk_data]    |   Unzipping corpora/webtext.zip.\n",
            "[nltk_data]    | Downloading package wmt15_eval to /root/nltk_data...\n",
            "[nltk_data]    |   Unzipping models/wmt15_eval.zip.\n",
            "[nltk_data]    | Downloading package word2vec_sample to\n",
            "[nltk_data]    |     /root/nltk_data...\n",
            "[nltk_data]    |   Unzipping models/word2vec_sample.zip.\n",
            "[nltk_data]    | Downloading package wordnet to /root/nltk_data...\n",
            "[nltk_data]    | Downloading package wordnet2021 to /root/nltk_data...\n",
            "[nltk_data]    | Downloading package wordnet31 to /root/nltk_data...\n",
            "[nltk_data]    | Downloading package wordnet_ic to /root/nltk_data...\n",
            "[nltk_data]    |   Unzipping corpora/wordnet_ic.zip.\n",
            "[nltk_data]    | Downloading package words to /root/nltk_data...\n",
            "[nltk_data]    |   Unzipping corpora/words.zip.\n",
            "[nltk_data]    | Downloading package ycoe to /root/nltk_data...\n",
            "[nltk_data]    |   Unzipping corpora/ycoe.zip.\n",
            "[nltk_data]    | \n",
            "[nltk_data]  Done downloading collection all\n"
          ]
        },
        {
          "output_type": "execute_result",
          "data": {
            "text/plain": [
              "True"
            ]
          },
          "metadata": {},
          "execution_count": 3
        }
      ],
      "source": [
        "import pandas as pd\n",
        "import numpy as np\n",
        "import re\n",
        "import warnings\n",
        "warnings.filterwarnings(action='ignore')\n",
        "import nltk\n",
        "#nltk.download('all') # 처음 실행 시 주석을 제거하고 실행해주세요!"
      ]
    },
    {
      "cell_type": "code",
      "source": [
        "!pip install konlpy"
      ],
      "metadata": {
        "colab": {
          "base_uri": "https://localhost:8080/"
        },
        "id": "3HOca6Yz1FK5",
        "outputId": "e5d414c2-7940-41e8-ed64-740234fbd3cc"
      },
      "execution_count": 4,
      "outputs": [
        {
          "output_type": "stream",
          "name": "stdout",
          "text": [
            "Looking in indexes: https://pypi.org/simple, https://us-python.pkg.dev/colab-wheels/public/simple/\n",
            "Collecting konlpy\n",
            "  Downloading konlpy-0.6.0-py2.py3-none-any.whl (19.4 MB)\n",
            "\u001b[K     |████████████████████████████████| 19.4 MB 1.2 MB/s \n",
            "\u001b[?25hRequirement already satisfied: numpy>=1.6 in /usr/local/lib/python3.7/dist-packages (from konlpy) (1.21.6)\n",
            "Collecting JPype1>=0.7.0\n",
            "  Downloading JPype1-1.4.0-cp37-cp37m-manylinux_2_5_x86_64.manylinux1_x86_64.whl (453 kB)\n",
            "\u001b[K     |████████████████████████████████| 453 kB 74.3 MB/s \n",
            "\u001b[?25hRequirement already satisfied: lxml>=4.1.0 in /usr/local/lib/python3.7/dist-packages (from konlpy) (4.9.1)\n",
            "Requirement already satisfied: typing-extensions in /usr/local/lib/python3.7/dist-packages (from JPype1>=0.7.0->konlpy) (4.1.1)\n",
            "Installing collected packages: JPype1, konlpy\n",
            "Successfully installed JPype1-1.4.0 konlpy-0.6.0\n"
          ]
        }
      ]
    },
    {
      "cell_type": "markdown",
      "metadata": {
        "id": "9G_ACS_lxzYE"
      },
      "source": [
        "### train 데이터 불러오기"
      ]
    },
    {
      "cell_type": "code",
      "execution_count": 5,
      "metadata": {
        "id": "eReIcP8OxzYG",
        "colab": {
          "base_uri": "https://localhost:8080/",
          "height": 204
        },
        "outputId": "dfae543b-e726-43e9-d50e-7c441346d510"
      },
      "outputs": [
        {
          "output_type": "execute_result",
          "data": {
            "text/plain": [
              "   id                                 document  label\n",
              "0   1                영상이나 음악이 이쁘다 해도 미화시킨 불륜일뿐      0\n",
              "1   2             히치콕이 이 영화를 봤다면 분명 박수를 쳤을듯...      1\n",
              "2   3     괜찮은 음악영화가 또 나왔군요!!! 따뜻한 겨울이 될 것 같아요~      1\n",
              "3   4              아무래도 20년도지난작품이라 지금보기는너무유치하다      0\n",
              "4   5  지금까지의 영화들이 그랬듯. 이 영화역시 일본에 대한 미화는 여전하다.      0"
            ],
            "text/html": [
              "\n",
              "  <div id=\"df-6ab23bfb-0710-4ebd-95f8-7cdc356bec05\">\n",
              "    <div class=\"colab-df-container\">\n",
              "      <div>\n",
              "<style scoped>\n",
              "    .dataframe tbody tr th:only-of-type {\n",
              "        vertical-align: middle;\n",
              "    }\n",
              "\n",
              "    .dataframe tbody tr th {\n",
              "        vertical-align: top;\n",
              "    }\n",
              "\n",
              "    .dataframe thead th {\n",
              "        text-align: right;\n",
              "    }\n",
              "</style>\n",
              "<table border=\"1\" class=\"dataframe\">\n",
              "  <thead>\n",
              "    <tr style=\"text-align: right;\">\n",
              "      <th></th>\n",
              "      <th>id</th>\n",
              "      <th>document</th>\n",
              "      <th>label</th>\n",
              "    </tr>\n",
              "  </thead>\n",
              "  <tbody>\n",
              "    <tr>\n",
              "      <th>0</th>\n",
              "      <td>1</td>\n",
              "      <td>영상이나 음악이 이쁘다 해도 미화시킨 불륜일뿐</td>\n",
              "      <td>0</td>\n",
              "    </tr>\n",
              "    <tr>\n",
              "      <th>1</th>\n",
              "      <td>2</td>\n",
              "      <td>히치콕이 이 영화를 봤다면 분명 박수를 쳤을듯...</td>\n",
              "      <td>1</td>\n",
              "    </tr>\n",
              "    <tr>\n",
              "      <th>2</th>\n",
              "      <td>3</td>\n",
              "      <td>괜찮은 음악영화가 또 나왔군요!!! 따뜻한 겨울이 될 것 같아요~</td>\n",
              "      <td>1</td>\n",
              "    </tr>\n",
              "    <tr>\n",
              "      <th>3</th>\n",
              "      <td>4</td>\n",
              "      <td>아무래도 20년도지난작품이라 지금보기는너무유치하다</td>\n",
              "      <td>0</td>\n",
              "    </tr>\n",
              "    <tr>\n",
              "      <th>4</th>\n",
              "      <td>5</td>\n",
              "      <td>지금까지의 영화들이 그랬듯. 이 영화역시 일본에 대한 미화는 여전하다.</td>\n",
              "      <td>0</td>\n",
              "    </tr>\n",
              "  </tbody>\n",
              "</table>\n",
              "</div>\n",
              "      <button class=\"colab-df-convert\" onclick=\"convertToInteractive('df-6ab23bfb-0710-4ebd-95f8-7cdc356bec05')\"\n",
              "              title=\"Convert this dataframe to an interactive table.\"\n",
              "              style=\"display:none;\">\n",
              "        \n",
              "  <svg xmlns=\"http://www.w3.org/2000/svg\" height=\"24px\"viewBox=\"0 0 24 24\"\n",
              "       width=\"24px\">\n",
              "    <path d=\"M0 0h24v24H0V0z\" fill=\"none\"/>\n",
              "    <path d=\"M18.56 5.44l.94 2.06.94-2.06 2.06-.94-2.06-.94-.94-2.06-.94 2.06-2.06.94zm-11 1L8.5 8.5l.94-2.06 2.06-.94-2.06-.94L8.5 2.5l-.94 2.06-2.06.94zm10 10l.94 2.06.94-2.06 2.06-.94-2.06-.94-.94-2.06-.94 2.06-2.06.94z\"/><path d=\"M17.41 7.96l-1.37-1.37c-.4-.4-.92-.59-1.43-.59-.52 0-1.04.2-1.43.59L10.3 9.45l-7.72 7.72c-.78.78-.78 2.05 0 2.83L4 21.41c.39.39.9.59 1.41.59.51 0 1.02-.2 1.41-.59l7.78-7.78 2.81-2.81c.8-.78.8-2.07 0-2.86zM5.41 20L4 18.59l7.72-7.72 1.47 1.35L5.41 20z\"/>\n",
              "  </svg>\n",
              "      </button>\n",
              "      \n",
              "  <style>\n",
              "    .colab-df-container {\n",
              "      display:flex;\n",
              "      flex-wrap:wrap;\n",
              "      gap: 12px;\n",
              "    }\n",
              "\n",
              "    .colab-df-convert {\n",
              "      background-color: #E8F0FE;\n",
              "      border: none;\n",
              "      border-radius: 50%;\n",
              "      cursor: pointer;\n",
              "      display: none;\n",
              "      fill: #1967D2;\n",
              "      height: 32px;\n",
              "      padding: 0 0 0 0;\n",
              "      width: 32px;\n",
              "    }\n",
              "\n",
              "    .colab-df-convert:hover {\n",
              "      background-color: #E2EBFA;\n",
              "      box-shadow: 0px 1px 2px rgba(60, 64, 67, 0.3), 0px 1px 3px 1px rgba(60, 64, 67, 0.15);\n",
              "      fill: #174EA6;\n",
              "    }\n",
              "\n",
              "    [theme=dark] .colab-df-convert {\n",
              "      background-color: #3B4455;\n",
              "      fill: #D2E3FC;\n",
              "    }\n",
              "\n",
              "    [theme=dark] .colab-df-convert:hover {\n",
              "      background-color: #434B5C;\n",
              "      box-shadow: 0px 1px 3px 1px rgba(0, 0, 0, 0.15);\n",
              "      filter: drop-shadow(0px 1px 2px rgba(0, 0, 0, 0.3));\n",
              "      fill: #FFFFFF;\n",
              "    }\n",
              "  </style>\n",
              "\n",
              "      <script>\n",
              "        const buttonEl =\n",
              "          document.querySelector('#df-6ab23bfb-0710-4ebd-95f8-7cdc356bec05 button.colab-df-convert');\n",
              "        buttonEl.style.display =\n",
              "          google.colab.kernel.accessAllowed ? 'block' : 'none';\n",
              "\n",
              "        async function convertToInteractive(key) {\n",
              "          const element = document.querySelector('#df-6ab23bfb-0710-4ebd-95f8-7cdc356bec05');\n",
              "          const dataTable =\n",
              "            await google.colab.kernel.invokeFunction('convertToInteractive',\n",
              "                                                     [key], {});\n",
              "          if (!dataTable) return;\n",
              "\n",
              "          const docLinkHtml = 'Like what you see? Visit the ' +\n",
              "            '<a target=\"_blank\" href=https://colab.research.google.com/notebooks/data_table.ipynb>data table notebook</a>'\n",
              "            + ' to learn more about interactive tables.';\n",
              "          element.innerHTML = '';\n",
              "          dataTable['output_type'] = 'display_data';\n",
              "          await google.colab.output.renderOutput(dataTable, element);\n",
              "          const docLink = document.createElement('div');\n",
              "          docLink.innerHTML = docLinkHtml;\n",
              "          element.appendChild(docLink);\n",
              "        }\n",
              "      </script>\n",
              "    </div>\n",
              "  </div>\n",
              "  "
            ]
          },
          "metadata": {},
          "execution_count": 5
        }
      ],
      "source": [
        "data = pd.read_csv('/content/drive/MyDrive/와이빅타 교육세션 유찬/과제/data-2/train.csv') # train 데이터 불러오기\n",
        "data.head() # 데이터 확인하기: 긍정인지 부정인지 label이 되어 있음"
      ]
    },
    {
      "cell_type": "code",
      "execution_count": 6,
      "metadata": {
        "id": "bGlSZrSRxzYI",
        "colab": {
          "base_uri": "https://localhost:8080/"
        },
        "outputId": "a67b123c-5b3c-4035-bdd5-6d43a64cda12"
      },
      "outputs": [
        {
          "output_type": "execute_result",
          "data": {
            "text/plain": [
              "id          0\n",
              "document    0\n",
              "label       0\n",
              "dtype: int64"
            ]
          },
          "metadata": {},
          "execution_count": 6
        }
      ],
      "source": [
        "data.isna().sum() # 결측치 확인"
      ]
    },
    {
      "cell_type": "markdown",
      "metadata": {
        "id": "rbSsR-e8xzYO"
      },
      "source": [
        "### 학습/검증셋 분리하기\n",
        "\n",
        "모델링 후 성능을 검증하기 위해 학습셋과 검증셋으로 train 데이터를 나눠줍니다."
      ]
    },
    {
      "cell_type": "code",
      "execution_count": 7,
      "metadata": {
        "id": "rQ-PrYtXxzYR"
      },
      "outputs": [],
      "source": [
        "from sklearn.model_selection import train_test_split\n",
        "\n",
        "train, val = train_test_split(data)\n",
        "train.reset_index(inplace=True) # 전처리 과정에서 데이터가 뒤섞이지 않도록 인덱스를 초기화해주었습니다.\n",
        "val.reset_index(inplace=True)"
      ]
    },
    {
      "cell_type": "code",
      "execution_count": 8,
      "metadata": {
        "id": "6yoxgB2CxzYT",
        "colab": {
          "base_uri": "https://localhost:8080/",
          "height": 419
        },
        "outputId": "6f743998-14c4-487b-9565-635919f7d367"
      },
      "outputs": [
        {
          "output_type": "execute_result",
          "data": {
            "text/plain": [
              "      index    id                                document  label\n",
              "0       430   431  아는만큼 즐길수 있는 영화. 풍자가 껄끄럽지 않고 유쾌하게 느껴진다.      1\n",
              "1      1062  1063              아작가초보냐드라마흐름을이딴식으로?꽈도넘꼬는거아냐      0\n",
              "2        20    21               처절한 영화, 슬픈 영화, 씁쓸-한 영화...      1\n",
              "3      3071  3072                      완전 재밋었는데ㅠㅠ조윤희연기쩌럿음      1\n",
              "4      2641  2642                        처음 은 재미있지만 끝은 사기      0\n",
              "...     ...   ...                                     ...    ...\n",
              "3745   1055  1056                지금보기엔별거없음 뻔함. 극적인감동도약하고.      0\n",
              "3746   3442  3443            전쟁의 참담함을 담담하게 그려낸 수작 이상의 작품.      1\n",
              "3747   3612  3613                     영화 잘만들었는데 왜 안알려졌을까요      1\n",
              "3748   4900  4901    펜은 총보다 강합니다. 그래서 또 무섭습니다. 꼭 봐야 할 영화.      1\n",
              "3749   3792  3793            감독이 일본인이었군 어쩐지 칼과 도끼만 주구장창;;      0\n",
              "\n",
              "[3750 rows x 4 columns]"
            ],
            "text/html": [
              "\n",
              "  <div id=\"df-d42505ff-90ad-4e6f-bbbe-b1773e6e0230\">\n",
              "    <div class=\"colab-df-container\">\n",
              "      <div>\n",
              "<style scoped>\n",
              "    .dataframe tbody tr th:only-of-type {\n",
              "        vertical-align: middle;\n",
              "    }\n",
              "\n",
              "    .dataframe tbody tr th {\n",
              "        vertical-align: top;\n",
              "    }\n",
              "\n",
              "    .dataframe thead th {\n",
              "        text-align: right;\n",
              "    }\n",
              "</style>\n",
              "<table border=\"1\" class=\"dataframe\">\n",
              "  <thead>\n",
              "    <tr style=\"text-align: right;\">\n",
              "      <th></th>\n",
              "      <th>index</th>\n",
              "      <th>id</th>\n",
              "      <th>document</th>\n",
              "      <th>label</th>\n",
              "    </tr>\n",
              "  </thead>\n",
              "  <tbody>\n",
              "    <tr>\n",
              "      <th>0</th>\n",
              "      <td>430</td>\n",
              "      <td>431</td>\n",
              "      <td>아는만큼 즐길수 있는 영화. 풍자가 껄끄럽지 않고 유쾌하게 느껴진다.</td>\n",
              "      <td>1</td>\n",
              "    </tr>\n",
              "    <tr>\n",
              "      <th>1</th>\n",
              "      <td>1062</td>\n",
              "      <td>1063</td>\n",
              "      <td>아작가초보냐드라마흐름을이딴식으로?꽈도넘꼬는거아냐</td>\n",
              "      <td>0</td>\n",
              "    </tr>\n",
              "    <tr>\n",
              "      <th>2</th>\n",
              "      <td>20</td>\n",
              "      <td>21</td>\n",
              "      <td>처절한 영화, 슬픈 영화, 씁쓸-한 영화...</td>\n",
              "      <td>1</td>\n",
              "    </tr>\n",
              "    <tr>\n",
              "      <th>3</th>\n",
              "      <td>3071</td>\n",
              "      <td>3072</td>\n",
              "      <td>완전 재밋었는데ㅠㅠ조윤희연기쩌럿음</td>\n",
              "      <td>1</td>\n",
              "    </tr>\n",
              "    <tr>\n",
              "      <th>4</th>\n",
              "      <td>2641</td>\n",
              "      <td>2642</td>\n",
              "      <td>처음 은 재미있지만 끝은 사기</td>\n",
              "      <td>0</td>\n",
              "    </tr>\n",
              "    <tr>\n",
              "      <th>...</th>\n",
              "      <td>...</td>\n",
              "      <td>...</td>\n",
              "      <td>...</td>\n",
              "      <td>...</td>\n",
              "    </tr>\n",
              "    <tr>\n",
              "      <th>3745</th>\n",
              "      <td>1055</td>\n",
              "      <td>1056</td>\n",
              "      <td>지금보기엔별거없음 뻔함. 극적인감동도약하고.</td>\n",
              "      <td>0</td>\n",
              "    </tr>\n",
              "    <tr>\n",
              "      <th>3746</th>\n",
              "      <td>3442</td>\n",
              "      <td>3443</td>\n",
              "      <td>전쟁의 참담함을 담담하게 그려낸 수작 이상의 작품.</td>\n",
              "      <td>1</td>\n",
              "    </tr>\n",
              "    <tr>\n",
              "      <th>3747</th>\n",
              "      <td>3612</td>\n",
              "      <td>3613</td>\n",
              "      <td>영화 잘만들었는데 왜 안알려졌을까요</td>\n",
              "      <td>1</td>\n",
              "    </tr>\n",
              "    <tr>\n",
              "      <th>3748</th>\n",
              "      <td>4900</td>\n",
              "      <td>4901</td>\n",
              "      <td>펜은 총보다 강합니다. 그래서 또 무섭습니다. 꼭 봐야 할 영화.</td>\n",
              "      <td>1</td>\n",
              "    </tr>\n",
              "    <tr>\n",
              "      <th>3749</th>\n",
              "      <td>3792</td>\n",
              "      <td>3793</td>\n",
              "      <td>감독이 일본인이었군 어쩐지 칼과 도끼만 주구장창;;</td>\n",
              "      <td>0</td>\n",
              "    </tr>\n",
              "  </tbody>\n",
              "</table>\n",
              "<p>3750 rows × 4 columns</p>\n",
              "</div>\n",
              "      <button class=\"colab-df-convert\" onclick=\"convertToInteractive('df-d42505ff-90ad-4e6f-bbbe-b1773e6e0230')\"\n",
              "              title=\"Convert this dataframe to an interactive table.\"\n",
              "              style=\"display:none;\">\n",
              "        \n",
              "  <svg xmlns=\"http://www.w3.org/2000/svg\" height=\"24px\"viewBox=\"0 0 24 24\"\n",
              "       width=\"24px\">\n",
              "    <path d=\"M0 0h24v24H0V0z\" fill=\"none\"/>\n",
              "    <path d=\"M18.56 5.44l.94 2.06.94-2.06 2.06-.94-2.06-.94-.94-2.06-.94 2.06-2.06.94zm-11 1L8.5 8.5l.94-2.06 2.06-.94-2.06-.94L8.5 2.5l-.94 2.06-2.06.94zm10 10l.94 2.06.94-2.06 2.06-.94-2.06-.94-.94-2.06-.94 2.06-2.06.94z\"/><path d=\"M17.41 7.96l-1.37-1.37c-.4-.4-.92-.59-1.43-.59-.52 0-1.04.2-1.43.59L10.3 9.45l-7.72 7.72c-.78.78-.78 2.05 0 2.83L4 21.41c.39.39.9.59 1.41.59.51 0 1.02-.2 1.41-.59l7.78-7.78 2.81-2.81c.8-.78.8-2.07 0-2.86zM5.41 20L4 18.59l7.72-7.72 1.47 1.35L5.41 20z\"/>\n",
              "  </svg>\n",
              "      </button>\n",
              "      \n",
              "  <style>\n",
              "    .colab-df-container {\n",
              "      display:flex;\n",
              "      flex-wrap:wrap;\n",
              "      gap: 12px;\n",
              "    }\n",
              "\n",
              "    .colab-df-convert {\n",
              "      background-color: #E8F0FE;\n",
              "      border: none;\n",
              "      border-radius: 50%;\n",
              "      cursor: pointer;\n",
              "      display: none;\n",
              "      fill: #1967D2;\n",
              "      height: 32px;\n",
              "      padding: 0 0 0 0;\n",
              "      width: 32px;\n",
              "    }\n",
              "\n",
              "    .colab-df-convert:hover {\n",
              "      background-color: #E2EBFA;\n",
              "      box-shadow: 0px 1px 2px rgba(60, 64, 67, 0.3), 0px 1px 3px 1px rgba(60, 64, 67, 0.15);\n",
              "      fill: #174EA6;\n",
              "    }\n",
              "\n",
              "    [theme=dark] .colab-df-convert {\n",
              "      background-color: #3B4455;\n",
              "      fill: #D2E3FC;\n",
              "    }\n",
              "\n",
              "    [theme=dark] .colab-df-convert:hover {\n",
              "      background-color: #434B5C;\n",
              "      box-shadow: 0px 1px 3px 1px rgba(0, 0, 0, 0.15);\n",
              "      filter: drop-shadow(0px 1px 2px rgba(0, 0, 0, 0.3));\n",
              "      fill: #FFFFFF;\n",
              "    }\n",
              "  </style>\n",
              "\n",
              "      <script>\n",
              "        const buttonEl =\n",
              "          document.querySelector('#df-d42505ff-90ad-4e6f-bbbe-b1773e6e0230 button.colab-df-convert');\n",
              "        buttonEl.style.display =\n",
              "          google.colab.kernel.accessAllowed ? 'block' : 'none';\n",
              "\n",
              "        async function convertToInteractive(key) {\n",
              "          const element = document.querySelector('#df-d42505ff-90ad-4e6f-bbbe-b1773e6e0230');\n",
              "          const dataTable =\n",
              "            await google.colab.kernel.invokeFunction('convertToInteractive',\n",
              "                                                     [key], {});\n",
              "          if (!dataTable) return;\n",
              "\n",
              "          const docLinkHtml = 'Like what you see? Visit the ' +\n",
              "            '<a target=\"_blank\" href=https://colab.research.google.com/notebooks/data_table.ipynb>data table notebook</a>'\n",
              "            + ' to learn more about interactive tables.';\n",
              "          element.innerHTML = '';\n",
              "          dataTable['output_type'] = 'display_data';\n",
              "          await google.colab.output.renderOutput(dataTable, element);\n",
              "          const docLink = document.createElement('div');\n",
              "          docLink.innerHTML = docLinkHtml;\n",
              "          element.appendChild(docLink);\n",
              "        }\n",
              "      </script>\n",
              "    </div>\n",
              "  </div>\n",
              "  "
            ]
          },
          "metadata": {},
          "execution_count": 8
        }
      ],
      "source": [
        "train # train 셋 확인"
      ]
    },
    {
      "cell_type": "markdown",
      "metadata": {
        "id": "KdPHRQ5NxzYU"
      },
      "source": [
        "### 데이터 정제하기\n",
        "\n",
        "\n",
        "가장 먼저 한글과 공백만 남긴 뒤 preprocessed라는 컬럼으로 저장하겠습니다."
      ]
    },
    {
      "cell_type": "code",
      "execution_count": 10,
      "metadata": {
        "id": "GugwWi7bxzYV",
        "outputId": "8bcb7957-ea62-40f6-8528-02df893b27cc",
        "colab": {
          "base_uri": "https://localhost:8080/",
          "height": 204
        }
      },
      "outputs": [
        {
          "output_type": "execute_result",
          "data": {
            "text/plain": [
              "   index    id                                document  label  \\\n",
              "0    430   431  아는만큼 즐길수 있는 영화. 풍자가 껄끄럽지 않고 유쾌하게 느껴진다.      1   \n",
              "1   1062  1063              아작가초보냐드라마흐름을이딴식으로?꽈도넘꼬는거아냐      0   \n",
              "2     20    21               처절한 영화, 슬픈 영화, 씁쓸-한 영화...      1   \n",
              "3   3071  3072                      완전 재밋었는데ㅠㅠ조윤희연기쩌럿음      1   \n",
              "4   2641  2642                        처음 은 재미있지만 끝은 사기      0   \n",
              "\n",
              "                           preprocessed  \n",
              "0  아는만큼 즐길수 있는 영화 풍자가 껄끄럽지 않고 유쾌하게 느껴진다  \n",
              "1             아작가초보냐드라마흐름을이딴식으로꽈도넘꼬는거아냐  \n",
              "2                   처절한 영화 슬픈 영화 씁쓸한 영화  \n",
              "3                    완전 재밋었는데ㅠㅠ조윤희연기쩌럿음  \n",
              "4                      처음 은 재미있지만 끝은 사기  "
            ],
            "text/html": [
              "\n",
              "  <div id=\"df-8eead79d-c96b-485d-becb-3ab168f3f2cc\">\n",
              "    <div class=\"colab-df-container\">\n",
              "      <div>\n",
              "<style scoped>\n",
              "    .dataframe tbody tr th:only-of-type {\n",
              "        vertical-align: middle;\n",
              "    }\n",
              "\n",
              "    .dataframe tbody tr th {\n",
              "        vertical-align: top;\n",
              "    }\n",
              "\n",
              "    .dataframe thead th {\n",
              "        text-align: right;\n",
              "    }\n",
              "</style>\n",
              "<table border=\"1\" class=\"dataframe\">\n",
              "  <thead>\n",
              "    <tr style=\"text-align: right;\">\n",
              "      <th></th>\n",
              "      <th>index</th>\n",
              "      <th>id</th>\n",
              "      <th>document</th>\n",
              "      <th>label</th>\n",
              "      <th>preprocessed</th>\n",
              "    </tr>\n",
              "  </thead>\n",
              "  <tbody>\n",
              "    <tr>\n",
              "      <th>0</th>\n",
              "      <td>430</td>\n",
              "      <td>431</td>\n",
              "      <td>아는만큼 즐길수 있는 영화. 풍자가 껄끄럽지 않고 유쾌하게 느껴진다.</td>\n",
              "      <td>1</td>\n",
              "      <td>아는만큼 즐길수 있는 영화 풍자가 껄끄럽지 않고 유쾌하게 느껴진다</td>\n",
              "    </tr>\n",
              "    <tr>\n",
              "      <th>1</th>\n",
              "      <td>1062</td>\n",
              "      <td>1063</td>\n",
              "      <td>아작가초보냐드라마흐름을이딴식으로?꽈도넘꼬는거아냐</td>\n",
              "      <td>0</td>\n",
              "      <td>아작가초보냐드라마흐름을이딴식으로꽈도넘꼬는거아냐</td>\n",
              "    </tr>\n",
              "    <tr>\n",
              "      <th>2</th>\n",
              "      <td>20</td>\n",
              "      <td>21</td>\n",
              "      <td>처절한 영화, 슬픈 영화, 씁쓸-한 영화...</td>\n",
              "      <td>1</td>\n",
              "      <td>처절한 영화 슬픈 영화 씁쓸한 영화</td>\n",
              "    </tr>\n",
              "    <tr>\n",
              "      <th>3</th>\n",
              "      <td>3071</td>\n",
              "      <td>3072</td>\n",
              "      <td>완전 재밋었는데ㅠㅠ조윤희연기쩌럿음</td>\n",
              "      <td>1</td>\n",
              "      <td>완전 재밋었는데ㅠㅠ조윤희연기쩌럿음</td>\n",
              "    </tr>\n",
              "    <tr>\n",
              "      <th>4</th>\n",
              "      <td>2641</td>\n",
              "      <td>2642</td>\n",
              "      <td>처음 은 재미있지만 끝은 사기</td>\n",
              "      <td>0</td>\n",
              "      <td>처음 은 재미있지만 끝은 사기</td>\n",
              "    </tr>\n",
              "  </tbody>\n",
              "</table>\n",
              "</div>\n",
              "      <button class=\"colab-df-convert\" onclick=\"convertToInteractive('df-8eead79d-c96b-485d-becb-3ab168f3f2cc')\"\n",
              "              title=\"Convert this dataframe to an interactive table.\"\n",
              "              style=\"display:none;\">\n",
              "        \n",
              "  <svg xmlns=\"http://www.w3.org/2000/svg\" height=\"24px\"viewBox=\"0 0 24 24\"\n",
              "       width=\"24px\">\n",
              "    <path d=\"M0 0h24v24H0V0z\" fill=\"none\"/>\n",
              "    <path d=\"M18.56 5.44l.94 2.06.94-2.06 2.06-.94-2.06-.94-.94-2.06-.94 2.06-2.06.94zm-11 1L8.5 8.5l.94-2.06 2.06-.94-2.06-.94L8.5 2.5l-.94 2.06-2.06.94zm10 10l.94 2.06.94-2.06 2.06-.94-2.06-.94-.94-2.06-.94 2.06-2.06.94z\"/><path d=\"M17.41 7.96l-1.37-1.37c-.4-.4-.92-.59-1.43-.59-.52 0-1.04.2-1.43.59L10.3 9.45l-7.72 7.72c-.78.78-.78 2.05 0 2.83L4 21.41c.39.39.9.59 1.41.59.51 0 1.02-.2 1.41-.59l7.78-7.78 2.81-2.81c.8-.78.8-2.07 0-2.86zM5.41 20L4 18.59l7.72-7.72 1.47 1.35L5.41 20z\"/>\n",
              "  </svg>\n",
              "      </button>\n",
              "      \n",
              "  <style>\n",
              "    .colab-df-container {\n",
              "      display:flex;\n",
              "      flex-wrap:wrap;\n",
              "      gap: 12px;\n",
              "    }\n",
              "\n",
              "    .colab-df-convert {\n",
              "      background-color: #E8F0FE;\n",
              "      border: none;\n",
              "      border-radius: 50%;\n",
              "      cursor: pointer;\n",
              "      display: none;\n",
              "      fill: #1967D2;\n",
              "      height: 32px;\n",
              "      padding: 0 0 0 0;\n",
              "      width: 32px;\n",
              "    }\n",
              "\n",
              "    .colab-df-convert:hover {\n",
              "      background-color: #E2EBFA;\n",
              "      box-shadow: 0px 1px 2px rgba(60, 64, 67, 0.3), 0px 1px 3px 1px rgba(60, 64, 67, 0.15);\n",
              "      fill: #174EA6;\n",
              "    }\n",
              "\n",
              "    [theme=dark] .colab-df-convert {\n",
              "      background-color: #3B4455;\n",
              "      fill: #D2E3FC;\n",
              "    }\n",
              "\n",
              "    [theme=dark] .colab-df-convert:hover {\n",
              "      background-color: #434B5C;\n",
              "      box-shadow: 0px 1px 3px 1px rgba(0, 0, 0, 0.15);\n",
              "      filter: drop-shadow(0px 1px 2px rgba(0, 0, 0, 0.3));\n",
              "      fill: #FFFFFF;\n",
              "    }\n",
              "  </style>\n",
              "\n",
              "      <script>\n",
              "        const buttonEl =\n",
              "          document.querySelector('#df-8eead79d-c96b-485d-becb-3ab168f3f2cc button.colab-df-convert');\n",
              "        buttonEl.style.display =\n",
              "          google.colab.kernel.accessAllowed ? 'block' : 'none';\n",
              "\n",
              "        async function convertToInteractive(key) {\n",
              "          const element = document.querySelector('#df-8eead79d-c96b-485d-becb-3ab168f3f2cc');\n",
              "          const dataTable =\n",
              "            await google.colab.kernel.invokeFunction('convertToInteractive',\n",
              "                                                     [key], {});\n",
              "          if (!dataTable) return;\n",
              "\n",
              "          const docLinkHtml = 'Like what you see? Visit the ' +\n",
              "            '<a target=\"_blank\" href=https://colab.research.google.com/notebooks/data_table.ipynb>data table notebook</a>'\n",
              "            + ' to learn more about interactive tables.';\n",
              "          element.innerHTML = '';\n",
              "          dataTable['output_type'] = 'display_data';\n",
              "          await google.colab.output.renderOutput(dataTable, element);\n",
              "          const docLink = document.createElement('div');\n",
              "          docLink.innerHTML = docLinkHtml;\n",
              "          element.appendChild(docLink);\n",
              "        }\n",
              "      </script>\n",
              "    </div>\n",
              "  </div>\n",
              "  "
            ]
          },
          "metadata": {},
          "execution_count": 10
        }
      ],
      "source": [
        "train['preprocessed'] = train['document'].str.replace(\"[^ㄱ-ㅎㅏ-ㅣ가-힣 ]\",\"\") # 한글과 공백을 제외(^)하고 모두 제거\n",
        "train[:5] # 데이터 확인"
      ]
    },
    {
      "cell_type": "markdown",
      "metadata": {
        "id": "kkXkev1txzYX"
      },
      "source": [
        "추가적으로 혹시 모를 다중공백도 제거해줍니다."
      ]
    },
    {
      "cell_type": "code",
      "execution_count": 11,
      "metadata": {
        "id": "8dSULak6xzYY",
        "outputId": "66263906-0936-4d81-c0c1-57bba363eaed",
        "colab": {
          "base_uri": "https://localhost:8080/",
          "height": 204
        }
      },
      "outputs": [
        {
          "output_type": "execute_result",
          "data": {
            "text/plain": [
              "   index    id                                document  label  \\\n",
              "0    430   431  아는만큼 즐길수 있는 영화. 풍자가 껄끄럽지 않고 유쾌하게 느껴진다.      1   \n",
              "1   1062  1063              아작가초보냐드라마흐름을이딴식으로?꽈도넘꼬는거아냐      0   \n",
              "2     20    21               처절한 영화, 슬픈 영화, 씁쓸-한 영화...      1   \n",
              "3   3071  3072                      완전 재밋었는데ㅠㅠ조윤희연기쩌럿음      1   \n",
              "4   2641  2642                        처음 은 재미있지만 끝은 사기      0   \n",
              "\n",
              "                           preprocessed  \n",
              "0  아는만큼 즐길수 있는 영화 풍자가 껄끄럽지 않고 유쾌하게 느껴진다  \n",
              "1             아작가초보냐드라마흐름을이딴식으로꽈도넘꼬는거아냐  \n",
              "2                   처절한 영화 슬픈 영화 씁쓸한 영화  \n",
              "3                    완전 재밋었는데ㅠㅠ조윤희연기쩌럿음  \n",
              "4                      처음 은 재미있지만 끝은 사기  "
            ],
            "text/html": [
              "\n",
              "  <div id=\"df-80b78dc2-4c1b-43c0-98b1-e466615727c5\">\n",
              "    <div class=\"colab-df-container\">\n",
              "      <div>\n",
              "<style scoped>\n",
              "    .dataframe tbody tr th:only-of-type {\n",
              "        vertical-align: middle;\n",
              "    }\n",
              "\n",
              "    .dataframe tbody tr th {\n",
              "        vertical-align: top;\n",
              "    }\n",
              "\n",
              "    .dataframe thead th {\n",
              "        text-align: right;\n",
              "    }\n",
              "</style>\n",
              "<table border=\"1\" class=\"dataframe\">\n",
              "  <thead>\n",
              "    <tr style=\"text-align: right;\">\n",
              "      <th></th>\n",
              "      <th>index</th>\n",
              "      <th>id</th>\n",
              "      <th>document</th>\n",
              "      <th>label</th>\n",
              "      <th>preprocessed</th>\n",
              "    </tr>\n",
              "  </thead>\n",
              "  <tbody>\n",
              "    <tr>\n",
              "      <th>0</th>\n",
              "      <td>430</td>\n",
              "      <td>431</td>\n",
              "      <td>아는만큼 즐길수 있는 영화. 풍자가 껄끄럽지 않고 유쾌하게 느껴진다.</td>\n",
              "      <td>1</td>\n",
              "      <td>아는만큼 즐길수 있는 영화 풍자가 껄끄럽지 않고 유쾌하게 느껴진다</td>\n",
              "    </tr>\n",
              "    <tr>\n",
              "      <th>1</th>\n",
              "      <td>1062</td>\n",
              "      <td>1063</td>\n",
              "      <td>아작가초보냐드라마흐름을이딴식으로?꽈도넘꼬는거아냐</td>\n",
              "      <td>0</td>\n",
              "      <td>아작가초보냐드라마흐름을이딴식으로꽈도넘꼬는거아냐</td>\n",
              "    </tr>\n",
              "    <tr>\n",
              "      <th>2</th>\n",
              "      <td>20</td>\n",
              "      <td>21</td>\n",
              "      <td>처절한 영화, 슬픈 영화, 씁쓸-한 영화...</td>\n",
              "      <td>1</td>\n",
              "      <td>처절한 영화 슬픈 영화 씁쓸한 영화</td>\n",
              "    </tr>\n",
              "    <tr>\n",
              "      <th>3</th>\n",
              "      <td>3071</td>\n",
              "      <td>3072</td>\n",
              "      <td>완전 재밋었는데ㅠㅠ조윤희연기쩌럿음</td>\n",
              "      <td>1</td>\n",
              "      <td>완전 재밋었는데ㅠㅠ조윤희연기쩌럿음</td>\n",
              "    </tr>\n",
              "    <tr>\n",
              "      <th>4</th>\n",
              "      <td>2641</td>\n",
              "      <td>2642</td>\n",
              "      <td>처음 은 재미있지만 끝은 사기</td>\n",
              "      <td>0</td>\n",
              "      <td>처음 은 재미있지만 끝은 사기</td>\n",
              "    </tr>\n",
              "  </tbody>\n",
              "</table>\n",
              "</div>\n",
              "      <button class=\"colab-df-convert\" onclick=\"convertToInteractive('df-80b78dc2-4c1b-43c0-98b1-e466615727c5')\"\n",
              "              title=\"Convert this dataframe to an interactive table.\"\n",
              "              style=\"display:none;\">\n",
              "        \n",
              "  <svg xmlns=\"http://www.w3.org/2000/svg\" height=\"24px\"viewBox=\"0 0 24 24\"\n",
              "       width=\"24px\">\n",
              "    <path d=\"M0 0h24v24H0V0z\" fill=\"none\"/>\n",
              "    <path d=\"M18.56 5.44l.94 2.06.94-2.06 2.06-.94-2.06-.94-.94-2.06-.94 2.06-2.06.94zm-11 1L8.5 8.5l.94-2.06 2.06-.94-2.06-.94L8.5 2.5l-.94 2.06-2.06.94zm10 10l.94 2.06.94-2.06 2.06-.94-2.06-.94-.94-2.06-.94 2.06-2.06.94z\"/><path d=\"M17.41 7.96l-1.37-1.37c-.4-.4-.92-.59-1.43-.59-.52 0-1.04.2-1.43.59L10.3 9.45l-7.72 7.72c-.78.78-.78 2.05 0 2.83L4 21.41c.39.39.9.59 1.41.59.51 0 1.02-.2 1.41-.59l7.78-7.78 2.81-2.81c.8-.78.8-2.07 0-2.86zM5.41 20L4 18.59l7.72-7.72 1.47 1.35L5.41 20z\"/>\n",
              "  </svg>\n",
              "      </button>\n",
              "      \n",
              "  <style>\n",
              "    .colab-df-container {\n",
              "      display:flex;\n",
              "      flex-wrap:wrap;\n",
              "      gap: 12px;\n",
              "    }\n",
              "\n",
              "    .colab-df-convert {\n",
              "      background-color: #E8F0FE;\n",
              "      border: none;\n",
              "      border-radius: 50%;\n",
              "      cursor: pointer;\n",
              "      display: none;\n",
              "      fill: #1967D2;\n",
              "      height: 32px;\n",
              "      padding: 0 0 0 0;\n",
              "      width: 32px;\n",
              "    }\n",
              "\n",
              "    .colab-df-convert:hover {\n",
              "      background-color: #E2EBFA;\n",
              "      box-shadow: 0px 1px 2px rgba(60, 64, 67, 0.3), 0px 1px 3px 1px rgba(60, 64, 67, 0.15);\n",
              "      fill: #174EA6;\n",
              "    }\n",
              "\n",
              "    [theme=dark] .colab-df-convert {\n",
              "      background-color: #3B4455;\n",
              "      fill: #D2E3FC;\n",
              "    }\n",
              "\n",
              "    [theme=dark] .colab-df-convert:hover {\n",
              "      background-color: #434B5C;\n",
              "      box-shadow: 0px 1px 3px 1px rgba(0, 0, 0, 0.15);\n",
              "      filter: drop-shadow(0px 1px 2px rgba(0, 0, 0, 0.3));\n",
              "      fill: #FFFFFF;\n",
              "    }\n",
              "  </style>\n",
              "\n",
              "      <script>\n",
              "        const buttonEl =\n",
              "          document.querySelector('#df-80b78dc2-4c1b-43c0-98b1-e466615727c5 button.colab-df-convert');\n",
              "        buttonEl.style.display =\n",
              "          google.colab.kernel.accessAllowed ? 'block' : 'none';\n",
              "\n",
              "        async function convertToInteractive(key) {\n",
              "          const element = document.querySelector('#df-80b78dc2-4c1b-43c0-98b1-e466615727c5');\n",
              "          const dataTable =\n",
              "            await google.colab.kernel.invokeFunction('convertToInteractive',\n",
              "                                                     [key], {});\n",
              "          if (!dataTable) return;\n",
              "\n",
              "          const docLinkHtml = 'Like what you see? Visit the ' +\n",
              "            '<a target=\"_blank\" href=https://colab.research.google.com/notebooks/data_table.ipynb>data table notebook</a>'\n",
              "            + ' to learn more about interactive tables.';\n",
              "          element.innerHTML = '';\n",
              "          dataTable['output_type'] = 'display_data';\n",
              "          await google.colab.output.renderOutput(dataTable, element);\n",
              "          const docLink = document.createElement('div');\n",
              "          docLink.innerHTML = docLinkHtml;\n",
              "          element.appendChild(docLink);\n",
              "        }\n",
              "      </script>\n",
              "    </div>\n",
              "  </div>\n",
              "  "
            ]
          },
          "metadata": {},
          "execution_count": 11
        }
      ],
      "source": [
        "train['preprocessed'] = train['preprocessed'].str.replace(\" +\", \" \") # 다중 공백 제거\n",
        "train[:5] # 데이터 확인"
      ]
    },
    {
      "cell_type": "markdown",
      "metadata": {
        "id": "lC08EGCIxzYZ"
      },
      "source": [
        "### 토큰화"
      ]
    },
    {
      "cell_type": "markdown",
      "metadata": {
        "id": "GXUOomhpxzYe"
      },
      "source": [
        "#### 한국어에서의 토큰화\n",
        "\n",
        "한국어는 영어와 달리 형태소(뜻을 가진 말의 최소 단위)간의 결합으로 어절이 이루어집니다. ex) 철수 -가 책 -을 읽- -었- -다\n",
        "\n",
        "따라서 한국어 전용 형태소 분석기가 많이 존재하는데요, 이번에는 koNLPy라는 패키지의 Okt라는 형태소 분석기를 사용해보겠습니다."
      ]
    },
    {
      "cell_type": "markdown",
      "metadata": {
        "id": "4pTwnP67xzYg"
      },
      "source": [
        "이제 영화 리뷰 데이터에서 같은 방법으로 형태소 분석을 해볼까요?"
      ]
    },
    {
      "cell_type": "code",
      "source": [
        "from konlpy.tag import Okt\n",
        "okt = Okt()"
      ],
      "metadata": {
        "id": "ppx0qFvibpBu"
      },
      "execution_count": 12,
      "outputs": []
    },
    {
      "cell_type": "code",
      "source": [
        ""
      ],
      "metadata": {
        "id": "2NprpI7YTu9z"
      },
      "execution_count": null,
      "outputs": []
    },
    {
      "cell_type": "code",
      "execution_count": 23,
      "metadata": {
        "id": "naE0N0cIxzYg",
        "outputId": "a9fd4175-2adb-4abe-daeb-6b65dc623b4c",
        "colab": {
          "base_uri": "https://localhost:8080/",
          "height": 282
        }
      },
      "outputs": [
        {
          "output_type": "execute_result",
          "data": {
            "text/plain": [
              "   index    id                                document  label  \\\n",
              "0    430   431  아는만큼 즐길수 있는 영화. 풍자가 껄끄럽지 않고 유쾌하게 느껴진다.      1   \n",
              "1   1062  1063              아작가초보냐드라마흐름을이딴식으로?꽈도넘꼬는거아냐      0   \n",
              "2     20    21               처절한 영화, 슬픈 영화, 씁쓸-한 영화...      1   \n",
              "3   3071  3072                      완전 재밋었는데ㅠㅠ조윤희연기쩌럿음      1   \n",
              "4   2641  2642                        처음 은 재미있지만 끝은 사기      0   \n",
              "\n",
              "                           preprocessed  \\\n",
              "0  아는만큼 즐길수 있는 영화 풍자가 껄끄럽지 않고 유쾌하게 느껴진다   \n",
              "1             아작가초보냐드라마흐름을이딴식으로꽈도넘꼬는거아냐   \n",
              "2                   처절한 영화 슬픈 영화 씁쓸한 영화   \n",
              "3                    완전 재밋었는데ㅠㅠ조윤희연기쩌럿음   \n",
              "4                      처음 은 재미있지만 끝은 사기   \n",
              "\n",
              "                           tokenized_stem  \n",
              "0    알다 즐기다 있다 영화 풍자 가 껄끄럽 지 않다 유쾌하다 느껴지다  \n",
              "1  아작 가 초보 냐 드라마 흐름 을 이딴 식 으로 꽈도넘꼬 는 거 알다  \n",
              "2                  처절하다 영화 슬프다 영화 씁쓸하다 영화  \n",
              "3                 완전 재밋었는데 ㅠㅠ 조윤희 연기 쩌럿 음  \n",
              "4                        처음 은 재미있다 끝 은 사기  "
            ],
            "text/html": [
              "\n",
              "  <div id=\"df-689fc232-88c6-47f7-8347-7df4d65e1641\">\n",
              "    <div class=\"colab-df-container\">\n",
              "      <div>\n",
              "<style scoped>\n",
              "    .dataframe tbody tr th:only-of-type {\n",
              "        vertical-align: middle;\n",
              "    }\n",
              "\n",
              "    .dataframe tbody tr th {\n",
              "        vertical-align: top;\n",
              "    }\n",
              "\n",
              "    .dataframe thead th {\n",
              "        text-align: right;\n",
              "    }\n",
              "</style>\n",
              "<table border=\"1\" class=\"dataframe\">\n",
              "  <thead>\n",
              "    <tr style=\"text-align: right;\">\n",
              "      <th></th>\n",
              "      <th>index</th>\n",
              "      <th>id</th>\n",
              "      <th>document</th>\n",
              "      <th>label</th>\n",
              "      <th>preprocessed</th>\n",
              "      <th>tokenized_stem</th>\n",
              "    </tr>\n",
              "  </thead>\n",
              "  <tbody>\n",
              "    <tr>\n",
              "      <th>0</th>\n",
              "      <td>430</td>\n",
              "      <td>431</td>\n",
              "      <td>아는만큼 즐길수 있는 영화. 풍자가 껄끄럽지 않고 유쾌하게 느껴진다.</td>\n",
              "      <td>1</td>\n",
              "      <td>아는만큼 즐길수 있는 영화 풍자가 껄끄럽지 않고 유쾌하게 느껴진다</td>\n",
              "      <td>알다 즐기다 있다 영화 풍자 가 껄끄럽 지 않다 유쾌하다 느껴지다</td>\n",
              "    </tr>\n",
              "    <tr>\n",
              "      <th>1</th>\n",
              "      <td>1062</td>\n",
              "      <td>1063</td>\n",
              "      <td>아작가초보냐드라마흐름을이딴식으로?꽈도넘꼬는거아냐</td>\n",
              "      <td>0</td>\n",
              "      <td>아작가초보냐드라마흐름을이딴식으로꽈도넘꼬는거아냐</td>\n",
              "      <td>아작 가 초보 냐 드라마 흐름 을 이딴 식 으로 꽈도넘꼬 는 거 알다</td>\n",
              "    </tr>\n",
              "    <tr>\n",
              "      <th>2</th>\n",
              "      <td>20</td>\n",
              "      <td>21</td>\n",
              "      <td>처절한 영화, 슬픈 영화, 씁쓸-한 영화...</td>\n",
              "      <td>1</td>\n",
              "      <td>처절한 영화 슬픈 영화 씁쓸한 영화</td>\n",
              "      <td>처절하다 영화 슬프다 영화 씁쓸하다 영화</td>\n",
              "    </tr>\n",
              "    <tr>\n",
              "      <th>3</th>\n",
              "      <td>3071</td>\n",
              "      <td>3072</td>\n",
              "      <td>완전 재밋었는데ㅠㅠ조윤희연기쩌럿음</td>\n",
              "      <td>1</td>\n",
              "      <td>완전 재밋었는데ㅠㅠ조윤희연기쩌럿음</td>\n",
              "      <td>완전 재밋었는데 ㅠㅠ 조윤희 연기 쩌럿 음</td>\n",
              "    </tr>\n",
              "    <tr>\n",
              "      <th>4</th>\n",
              "      <td>2641</td>\n",
              "      <td>2642</td>\n",
              "      <td>처음 은 재미있지만 끝은 사기</td>\n",
              "      <td>0</td>\n",
              "      <td>처음 은 재미있지만 끝은 사기</td>\n",
              "      <td>처음 은 재미있다 끝 은 사기</td>\n",
              "    </tr>\n",
              "  </tbody>\n",
              "</table>\n",
              "</div>\n",
              "      <button class=\"colab-df-convert\" onclick=\"convertToInteractive('df-689fc232-88c6-47f7-8347-7df4d65e1641')\"\n",
              "              title=\"Convert this dataframe to an interactive table.\"\n",
              "              style=\"display:none;\">\n",
              "        \n",
              "  <svg xmlns=\"http://www.w3.org/2000/svg\" height=\"24px\"viewBox=\"0 0 24 24\"\n",
              "       width=\"24px\">\n",
              "    <path d=\"M0 0h24v24H0V0z\" fill=\"none\"/>\n",
              "    <path d=\"M18.56 5.44l.94 2.06.94-2.06 2.06-.94-2.06-.94-.94-2.06-.94 2.06-2.06.94zm-11 1L8.5 8.5l.94-2.06 2.06-.94-2.06-.94L8.5 2.5l-.94 2.06-2.06.94zm10 10l.94 2.06.94-2.06 2.06-.94-2.06-.94-.94-2.06-.94 2.06-2.06.94z\"/><path d=\"M17.41 7.96l-1.37-1.37c-.4-.4-.92-.59-1.43-.59-.52 0-1.04.2-1.43.59L10.3 9.45l-7.72 7.72c-.78.78-.78 2.05 0 2.83L4 21.41c.39.39.9.59 1.41.59.51 0 1.02-.2 1.41-.59l7.78-7.78 2.81-2.81c.8-.78.8-2.07 0-2.86zM5.41 20L4 18.59l7.72-7.72 1.47 1.35L5.41 20z\"/>\n",
              "  </svg>\n",
              "      </button>\n",
              "      \n",
              "  <style>\n",
              "    .colab-df-container {\n",
              "      display:flex;\n",
              "      flex-wrap:wrap;\n",
              "      gap: 12px;\n",
              "    }\n",
              "\n",
              "    .colab-df-convert {\n",
              "      background-color: #E8F0FE;\n",
              "      border: none;\n",
              "      border-radius: 50%;\n",
              "      cursor: pointer;\n",
              "      display: none;\n",
              "      fill: #1967D2;\n",
              "      height: 32px;\n",
              "      padding: 0 0 0 0;\n",
              "      width: 32px;\n",
              "    }\n",
              "\n",
              "    .colab-df-convert:hover {\n",
              "      background-color: #E2EBFA;\n",
              "      box-shadow: 0px 1px 2px rgba(60, 64, 67, 0.3), 0px 1px 3px 1px rgba(60, 64, 67, 0.15);\n",
              "      fill: #174EA6;\n",
              "    }\n",
              "\n",
              "    [theme=dark] .colab-df-convert {\n",
              "      background-color: #3B4455;\n",
              "      fill: #D2E3FC;\n",
              "    }\n",
              "\n",
              "    [theme=dark] .colab-df-convert:hover {\n",
              "      background-color: #434B5C;\n",
              "      box-shadow: 0px 1px 3px 1px rgba(0, 0, 0, 0.15);\n",
              "      filter: drop-shadow(0px 1px 2px rgba(0, 0, 0, 0.3));\n",
              "      fill: #FFFFFF;\n",
              "    }\n",
              "  </style>\n",
              "\n",
              "      <script>\n",
              "        const buttonEl =\n",
              "          document.querySelector('#df-689fc232-88c6-47f7-8347-7df4d65e1641 button.colab-df-convert');\n",
              "        buttonEl.style.display =\n",
              "          google.colab.kernel.accessAllowed ? 'block' : 'none';\n",
              "\n",
              "        async function convertToInteractive(key) {\n",
              "          const element = document.querySelector('#df-689fc232-88c6-47f7-8347-7df4d65e1641');\n",
              "          const dataTable =\n",
              "            await google.colab.kernel.invokeFunction('convertToInteractive',\n",
              "                                                     [key], {});\n",
              "          if (!dataTable) return;\n",
              "\n",
              "          const docLinkHtml = 'Like what you see? Visit the ' +\n",
              "            '<a target=\"_blank\" href=https://colab.research.google.com/notebooks/data_table.ipynb>data table notebook</a>'\n",
              "            + ' to learn more about interactive tables.';\n",
              "          element.innerHTML = '';\n",
              "          dataTable['output_type'] = 'display_data';\n",
              "          await google.colab.output.renderOutput(dataTable, element);\n",
              "          const docLink = document.createElement('div');\n",
              "          docLink.innerHTML = docLinkHtml;\n",
              "          element.appendChild(docLink);\n",
              "        }\n",
              "      </script>\n",
              "    </div>\n",
              "  </div>\n",
              "  "
            ]
          },
          "metadata": {},
          "execution_count": 23
        }
      ],
      "source": [
        "tokenized = [] # 데이터프레임의 한 컬럼으로 추가할 리스트\n",
        "for sentence in train['preprocessed']: # 전처리된 리뷰들을 하나씩 꺼내옵니다\n",
        "    # To do\n",
        "    tokens = okt.morphs(sentence, stem=True)# 형태소 분석 (어간 추출로 옵션 설정)\n",
        "    tokenize = \" \".join(tokens) # tokens라는 리스트 안의 형태소들을 띄어쓰기로 분리된 하나의 문자열로 join시켜줍니다.\n",
        "    tokenized.append(tokenize) # 형태소 단위로 띄어쓰기된 문자열을 최종 리스트에 추가해줍니다\n",
        "train[\"tokenized_stem\"] = pd.DataFrame(tokenized) # 리스트를 데이터프레임으로 변환해 tokenized_stem라는 컬럼명으로 추가해줍니다.\n",
        "\n",
        "train.head() # 데이터 확인"
      ]
    },
    {
      "cell_type": "markdown",
      "metadata": {
        "id": "d4O8ZttGxzYh"
      },
      "source": [
        "형태소 분석 및 어간 추출을 완료한 \"tokenized\" 컬럼이 추가되었습니다!"
      ]
    },
    {
      "cell_type": "markdown",
      "metadata": {
        "id": "CCFNmsj7xzYh"
      },
      "source": [
        "### 품사 태깅(POS Tagging)\n",
        "\n",
        "자 이제 다음 단계인 품사 태깅에 대해 알아봅시다.\n",
        "\n",
        "품사 태깅이란 주어진 텍스트를 형태소 단위로 나눈 뒤, 각 형태소에 해당 품사를 태깅하여 리스트화 하는 것입니다."
      ]
    },
    {
      "cell_type": "markdown",
      "metadata": {
        "id": "gQaS_U04xzYj"
      },
      "source": [
        "한 예시를 살펴보니 Noun, Josa, Adverb, Adjective, Verb, Suffix, Punctuation, KoreanParticle 등으로 품사가 태깅되어 하나의 리스트 형태로 반환됩니다\n",
        "\n",
        "태그되는 품사의 종류는 더 다양하니 직접 다양한 문장을 이용해 공부해보세요!\n",
        "\n",
        "okt의 pos 함수만을 이용해 토큰화와 품사 태깅을 한번에 할 수 있습니다.\n",
        "\n",
        "품사 태깅은 꼭 필요한 품사(ex. 명사)를 추출할 때 유용하게 쓰일 수 있겠네요.\n",
        "\n",
        "바로 명사를 추출해볼까요?"
      ]
    },
    {
      "cell_type": "code",
      "execution_count": 24,
      "metadata": {
        "id": "yEWOrDafxzYj",
        "outputId": "a91032bf-c52e-4527-e26d-ba1c22ff6536",
        "colab": {
          "base_uri": "https://localhost:8080/"
        }
      },
      "outputs": [
        {
          "output_type": "stream",
          "name": "stdout",
          "text": [
            "['오늘', '코딩', '자연어', '처리', '고수']\n"
          ]
        }
      ],
      "source": [
        "print(okt.nouns(\"오늘도 열심히 재밌는 코딩을 해볼까? 같이 힘내서 자연어 처리 고수들이 됩시다! ㅎㅎ\"))"
      ]
    },
    {
      "cell_type": "markdown",
      "metadata": {
        "id": "fYpUkWnExzYk"
      },
      "source": [
        "okt의 nouns 함수를 사용해 간편하게 명사만을 추출하였습니다!\n",
        "\n",
        "이렇게 간단하게 명사만을 추출할수도 있지만, 영화 리뷰는 명사만으로 긍/부정을 판단하기 어렵기 때문에 \n",
        "\n",
        "우선 임의로 명사, 동사, 형용사, 부사를 추출하여 사용해보겠습니다. (이 부분은 직접 고민하고 수정해보세요!)"
      ]
    },
    {
      "cell_type": "code",
      "execution_count": 39,
      "metadata": {
        "id": "Y5NeznawxzYk",
        "outputId": "d2187678-a771-46d6-b438-c12f457b0d68",
        "colab": {
          "base_uri": "https://localhost:8080/",
          "height": 282
        }
      },
      "outputs": [
        {
          "output_type": "execute_result",
          "data": {
            "text/plain": [
              "   index    id                                document  label  \\\n",
              "0    430   431  아는만큼 즐길수 있는 영화. 풍자가 껄끄럽지 않고 유쾌하게 느껴진다.      1   \n",
              "1   1062  1063              아작가초보냐드라마흐름을이딴식으로?꽈도넘꼬는거아냐      0   \n",
              "2     20    21               처절한 영화, 슬픈 영화, 씁쓸-한 영화...      1   \n",
              "3   3071  3072                      완전 재밋었는데ㅠㅠ조윤희연기쩌럿음      1   \n",
              "4   2641  2642                        처음 은 재미있지만 끝은 사기      0   \n",
              "\n",
              "                           preprocessed  \\\n",
              "0  아는만큼 즐길수 있는 영화 풍자가 껄끄럽지 않고 유쾌하게 느껴진다   \n",
              "1             아작가초보냐드라마흐름을이딴식으로꽈도넘꼬는거아냐   \n",
              "2                   처절한 영화 슬픈 영화 씁쓸한 영화   \n",
              "3                    완전 재밋었는데ㅠㅠ조윤희연기쩌럿음   \n",
              "4                      처음 은 재미있지만 끝은 사기   \n",
              "\n",
              "                           tokenized_stem                            main_pos  \n",
              "0    알다 즐기다 있다 영화 풍자 가 껄끄럽 지 않다 유쾌하다 느껴지다  아는만큼 즐길수 있는 영화 풍자 껄끄럽 않고 유쾌하게 느껴진다  \n",
              "1  아작 가 초보 냐 드라마 흐름 을 이딴 식 으로 꽈도넘꼬 는 거 알다            아작 초보 드라마 흐름 식 꽈도넘꼬 는거아냐  \n",
              "2                  처절하다 영화 슬프다 영화 씁쓸하다 영화               처절한 영화 슬픈 영화 씁 쓸 한 영화  \n",
              "3                 완전 재밋었는데 ㅠㅠ 조윤희 연기 쩌럿 음                완전 재밋었는데 조윤희 연기 쩌럿 음  \n",
              "4                        처음 은 재미있다 끝 은 사기                     처음 은 재미있지만 끝 사기  "
            ],
            "text/html": [
              "\n",
              "  <div id=\"df-dc1d4668-597c-4057-a9a9-e1c07819c7db\">\n",
              "    <div class=\"colab-df-container\">\n",
              "      <div>\n",
              "<style scoped>\n",
              "    .dataframe tbody tr th:only-of-type {\n",
              "        vertical-align: middle;\n",
              "    }\n",
              "\n",
              "    .dataframe tbody tr th {\n",
              "        vertical-align: top;\n",
              "    }\n",
              "\n",
              "    .dataframe thead th {\n",
              "        text-align: right;\n",
              "    }\n",
              "</style>\n",
              "<table border=\"1\" class=\"dataframe\">\n",
              "  <thead>\n",
              "    <tr style=\"text-align: right;\">\n",
              "      <th></th>\n",
              "      <th>index</th>\n",
              "      <th>id</th>\n",
              "      <th>document</th>\n",
              "      <th>label</th>\n",
              "      <th>preprocessed</th>\n",
              "      <th>tokenized_stem</th>\n",
              "      <th>main_pos</th>\n",
              "    </tr>\n",
              "  </thead>\n",
              "  <tbody>\n",
              "    <tr>\n",
              "      <th>0</th>\n",
              "      <td>430</td>\n",
              "      <td>431</td>\n",
              "      <td>아는만큼 즐길수 있는 영화. 풍자가 껄끄럽지 않고 유쾌하게 느껴진다.</td>\n",
              "      <td>1</td>\n",
              "      <td>아는만큼 즐길수 있는 영화 풍자가 껄끄럽지 않고 유쾌하게 느껴진다</td>\n",
              "      <td>알다 즐기다 있다 영화 풍자 가 껄끄럽 지 않다 유쾌하다 느껴지다</td>\n",
              "      <td>아는만큼 즐길수 있는 영화 풍자 껄끄럽 않고 유쾌하게 느껴진다</td>\n",
              "    </tr>\n",
              "    <tr>\n",
              "      <th>1</th>\n",
              "      <td>1062</td>\n",
              "      <td>1063</td>\n",
              "      <td>아작가초보냐드라마흐름을이딴식으로?꽈도넘꼬는거아냐</td>\n",
              "      <td>0</td>\n",
              "      <td>아작가초보냐드라마흐름을이딴식으로꽈도넘꼬는거아냐</td>\n",
              "      <td>아작 가 초보 냐 드라마 흐름 을 이딴 식 으로 꽈도넘꼬 는 거 알다</td>\n",
              "      <td>아작 초보 드라마 흐름 식 꽈도넘꼬 는거아냐</td>\n",
              "    </tr>\n",
              "    <tr>\n",
              "      <th>2</th>\n",
              "      <td>20</td>\n",
              "      <td>21</td>\n",
              "      <td>처절한 영화, 슬픈 영화, 씁쓸-한 영화...</td>\n",
              "      <td>1</td>\n",
              "      <td>처절한 영화 슬픈 영화 씁쓸한 영화</td>\n",
              "      <td>처절하다 영화 슬프다 영화 씁쓸하다 영화</td>\n",
              "      <td>처절한 영화 슬픈 영화 씁 쓸 한 영화</td>\n",
              "    </tr>\n",
              "    <tr>\n",
              "      <th>3</th>\n",
              "      <td>3071</td>\n",
              "      <td>3072</td>\n",
              "      <td>완전 재밋었는데ㅠㅠ조윤희연기쩌럿음</td>\n",
              "      <td>1</td>\n",
              "      <td>완전 재밋었는데ㅠㅠ조윤희연기쩌럿음</td>\n",
              "      <td>완전 재밋었는데 ㅠㅠ 조윤희 연기 쩌럿 음</td>\n",
              "      <td>완전 재밋었는데 조윤희 연기 쩌럿 음</td>\n",
              "    </tr>\n",
              "    <tr>\n",
              "      <th>4</th>\n",
              "      <td>2641</td>\n",
              "      <td>2642</td>\n",
              "      <td>처음 은 재미있지만 끝은 사기</td>\n",
              "      <td>0</td>\n",
              "      <td>처음 은 재미있지만 끝은 사기</td>\n",
              "      <td>처음 은 재미있다 끝 은 사기</td>\n",
              "      <td>처음 은 재미있지만 끝 사기</td>\n",
              "    </tr>\n",
              "  </tbody>\n",
              "</table>\n",
              "</div>\n",
              "      <button class=\"colab-df-convert\" onclick=\"convertToInteractive('df-dc1d4668-597c-4057-a9a9-e1c07819c7db')\"\n",
              "              title=\"Convert this dataframe to an interactive table.\"\n",
              "              style=\"display:none;\">\n",
              "        \n",
              "  <svg xmlns=\"http://www.w3.org/2000/svg\" height=\"24px\"viewBox=\"0 0 24 24\"\n",
              "       width=\"24px\">\n",
              "    <path d=\"M0 0h24v24H0V0z\" fill=\"none\"/>\n",
              "    <path d=\"M18.56 5.44l.94 2.06.94-2.06 2.06-.94-2.06-.94-.94-2.06-.94 2.06-2.06.94zm-11 1L8.5 8.5l.94-2.06 2.06-.94-2.06-.94L8.5 2.5l-.94 2.06-2.06.94zm10 10l.94 2.06.94-2.06 2.06-.94-2.06-.94-.94-2.06-.94 2.06-2.06.94z\"/><path d=\"M17.41 7.96l-1.37-1.37c-.4-.4-.92-.59-1.43-.59-.52 0-1.04.2-1.43.59L10.3 9.45l-7.72 7.72c-.78.78-.78 2.05 0 2.83L4 21.41c.39.39.9.59 1.41.59.51 0 1.02-.2 1.41-.59l7.78-7.78 2.81-2.81c.8-.78.8-2.07 0-2.86zM5.41 20L4 18.59l7.72-7.72 1.47 1.35L5.41 20z\"/>\n",
              "  </svg>\n",
              "      </button>\n",
              "      \n",
              "  <style>\n",
              "    .colab-df-container {\n",
              "      display:flex;\n",
              "      flex-wrap:wrap;\n",
              "      gap: 12px;\n",
              "    }\n",
              "\n",
              "    .colab-df-convert {\n",
              "      background-color: #E8F0FE;\n",
              "      border: none;\n",
              "      border-radius: 50%;\n",
              "      cursor: pointer;\n",
              "      display: none;\n",
              "      fill: #1967D2;\n",
              "      height: 32px;\n",
              "      padding: 0 0 0 0;\n",
              "      width: 32px;\n",
              "    }\n",
              "\n",
              "    .colab-df-convert:hover {\n",
              "      background-color: #E2EBFA;\n",
              "      box-shadow: 0px 1px 2px rgba(60, 64, 67, 0.3), 0px 1px 3px 1px rgba(60, 64, 67, 0.15);\n",
              "      fill: #174EA6;\n",
              "    }\n",
              "\n",
              "    [theme=dark] .colab-df-convert {\n",
              "      background-color: #3B4455;\n",
              "      fill: #D2E3FC;\n",
              "    }\n",
              "\n",
              "    [theme=dark] .colab-df-convert:hover {\n",
              "      background-color: #434B5C;\n",
              "      box-shadow: 0px 1px 3px 1px rgba(0, 0, 0, 0.15);\n",
              "      filter: drop-shadow(0px 1px 2px rgba(0, 0, 0, 0.3));\n",
              "      fill: #FFFFFF;\n",
              "    }\n",
              "  </style>\n",
              "\n",
              "      <script>\n",
              "        const buttonEl =\n",
              "          document.querySelector('#df-dc1d4668-597c-4057-a9a9-e1c07819c7db button.colab-df-convert');\n",
              "        buttonEl.style.display =\n",
              "          google.colab.kernel.accessAllowed ? 'block' : 'none';\n",
              "\n",
              "        async function convertToInteractive(key) {\n",
              "          const element = document.querySelector('#df-dc1d4668-597c-4057-a9a9-e1c07819c7db');\n",
              "          const dataTable =\n",
              "            await google.colab.kernel.invokeFunction('convertToInteractive',\n",
              "                                                     [key], {});\n",
              "          if (!dataTable) return;\n",
              "\n",
              "          const docLinkHtml = 'Like what you see? Visit the ' +\n",
              "            '<a target=\"_blank\" href=https://colab.research.google.com/notebooks/data_table.ipynb>data table notebook</a>'\n",
              "            + ' to learn more about interactive tables.';\n",
              "          element.innerHTML = '';\n",
              "          dataTable['output_type'] = 'display_data';\n",
              "          await google.colab.output.renderOutput(dataTable, element);\n",
              "          const docLink = document.createElement('div');\n",
              "          docLink.innerHTML = docLinkHtml;\n",
              "          element.appendChild(docLink);\n",
              "        }\n",
              "      </script>\n",
              "    </div>\n",
              "  </div>\n",
              "  "
            ]
          },
          "metadata": {},
          "execution_count": 39
        }
      ],
      "source": [
        "main_pos = [] # 데이터프레임의 새 컬럼이 될 리스트\n",
        "for sentence in train['document']: # 리뷰들을 하나씩 가져옵니다\n",
        "    # To do\n",
        "    pos = okt.pos(sentence)# 품사 태깅으로 형태소 분석을 진행하고 해당 리스트를 pos라는 변수로 받습니다\n",
        "    main_words = [word_pos[0] for word_pos in pos if word_pos[1] in (\"Noun\", \"Adverb\", \"Adjective\", \"Verb\")] # 가져오고자 하는 품사에 해당하면 해당 형태소를 main_words 리스트에 추가합니다.\n",
        "    main_words_str = \" \".join(main_words) # main_words 리스트 안의 형태소들을 띄어쓰기로 분리된 하나의 문자열로 join시켜줍니다.\n",
        "    main_pos.append(main_words_str) # 선택한 형태소들로 이루어진 문자열을 최종 리스트에 추가해줍니다\n",
        "train[\"main_pos\"] = pd.DataFrame(main_pos) # 리스트를 데이터프레임으로 변환해 main_pos라는 컬럼명으로 추가해줍니다.\n",
        "\n",
        "train.head() # 데이터 확인"
      ]
    },
    {
      "cell_type": "markdown",
      "metadata": {
        "id": "0rC48SZmxzYl"
      },
      "source": [
        "자 이제 총 세 개의 전처리된 컬럼이 생성되었습니다!\n",
        "\n",
        "어떤 전처리 과정이 성능이 가장 잘 나올지는 미지수입니다. 직접 다양한 시도를 통해 최적의 전처리 프로세스를 찾아보세요~\n",
        "\n",
        "이번 베이스라인에서는 마지막에 생성한 main_pos 컬럼을 이용해 모델 학습을 진행하겠습니다."
      ]
    },
    {
      "cell_type": "markdown",
      "metadata": {
        "id": "csQKUqYNxzYl"
      },
      "source": [
        "### 벡터화\n",
        "\n",
        "CountVectorizer를 사용하였습니다. "
      ]
    },
    {
      "cell_type": "code",
      "execution_count": 40,
      "metadata": {
        "id": "FgLiiwwrxzYl"
      },
      "outputs": [],
      "source": [
        "X_train = train.main_pos #training 데이터에서 문서 추출\n",
        "y_train = train.label #training 데이터에서 라벨 추출"
      ]
    },
    {
      "cell_type": "code",
      "execution_count": 47,
      "metadata": {
        "id": "s8i5bjQpxzYm"
      },
      "outputs": [],
      "source": [
        "from sklearn.feature_extraction.text import CountVectorizer\n",
        "# To do\n",
        "vectorizer = CountVectorizer() #countvectorizer 생성\n",
        "# countvectorizer 학습\n",
        "vectorizer.fit(X_train)\n",
        "X_train_vec = vectorizer.transform(X_train) # transform"
      ]
    },
    {
      "cell_type": "markdown",
      "metadata": {
        "id": "rGt6dzjVxzYm"
      },
      "source": [
        "### 모델 학습"
      ]
    },
    {
      "cell_type": "code",
      "execution_count": 48,
      "metadata": {
        "id": "zYcjr36dxzYm",
        "outputId": "6a0478e1-becb-4c37-b686-aad88edae82f",
        "colab": {
          "base_uri": "https://localhost:8080/"
        }
      },
      "outputs": [
        {
          "output_type": "execute_result",
          "data": {
            "text/plain": [
              "LogisticRegression()"
            ]
          },
          "metadata": {},
          "execution_count": 48
        }
      ],
      "source": [
        "from sklearn.linear_model import LogisticRegression #모델 불러오기\n",
        "model = LogisticRegression() #객체에 모델 할당\n",
        "model.fit(X_train_vec, y_train) #모델 학습"
      ]
    },
    {
      "cell_type": "markdown",
      "metadata": {
        "id": "F_jE_ICnxzYn"
      },
      "source": [
        "### 검증셋으로 모델 성능 검증"
      ]
    },
    {
      "cell_type": "markdown",
      "metadata": {
        "id": "Ch_s74HHxzYn"
      },
      "source": [
        "먼저 검증 셋 val에 train 셋과 동일한 전처리 과정을 거쳐줍니다."
      ]
    },
    {
      "cell_type": "code",
      "execution_count": 49,
      "metadata": {
        "id": "rlS82zKBxzYn",
        "outputId": "eb52ae0e-cc80-4daa-9809-097ce996ea2b",
        "colab": {
          "base_uri": "https://localhost:8080/",
          "height": 299
        }
      },
      "outputs": [
        {
          "output_type": "execute_result",
          "data": {
            "text/plain": [
              "   index    id                                  document  label  \\\n",
              "0   4922  4923     전 초딩인데도 재밌게 봤음..... ㅋㅋ 김선아 짱~!!!!!!!!      1   \n",
              "1    246   247  보지도 않고 선입견 가지지마라...연출,극본,연기 모두 수준급의 드라마다      1   \n",
              "2   2447  2448         뭐지 진짜 재미없다는 =ㅅ= 진짜 최악의 영화.. 시간아까움      0   \n",
              "3    521   522                  망한 이유를 알겠어 .비호감 캐릭터들의 난립      0   \n",
              "4   1433  1434        이런류의 애니메이션중에 가장 지루했던 애니메이션으로 기억된다.      0   \n",
              "\n",
              "                          preprocessed  \\\n",
              "0              전 초딩인데도 재밌게 봤음 ㅋㅋ 김선아 짱   \n",
              "1  보지도 않고 선입견 가지지마라연출극본연기 모두 수준급의 드라마다   \n",
              "2        뭐지 진짜 재미없다는 ㅅ 진짜 최악의 영화 시간아까움   \n",
              "3              망한 이유를 알겠어 비호감 캐릭터들의 난립   \n",
              "4    이런류의 애니메이션중에 가장 지루했던 애니메이션으로 기억된다   \n",
              "\n",
              "                             tokenized_stem  \\\n",
              "0                 전 초딩 인데 도 재밌다 보다 ㅋㅋ 김선아 짱   \n",
              "1  보지 도 않다 선입견 가다 연출 극 본 연기 모두 수준 급 의 드라마 다   \n",
              "2         뭐 지 진짜 재미없다 ㅅ 진짜 최악 의 영화 시간 아깝다 움   \n",
              "3                망하다 이유 를 알다 비호감 캐릭터 들 의 난립   \n",
              "4   이런 류 의 애니메이션 중 에 가장 지루하다 애니메이션 으로 기억 되다   \n",
              "\n",
              "                             main_pos  \n",
              "0                 전 초딩 도 재밌게 봤음 김선아 짱  \n",
              "1  보지 않고 선입견 가지지마라 연출 극본 연기 모두 수준 드라마  \n",
              "2         뭐 진짜 재미없다는 진짜 최악 영화 시간 아까 움  \n",
              "3                망한 이유 알겠어 비호감 캐릭터 난립  \n",
              "4         류 애니메이션 가장 지루했던 애니메이션 기억 된다  "
            ],
            "text/html": [
              "\n",
              "  <div id=\"df-e3786626-4103-46f9-b91f-ecc43db6dd10\">\n",
              "    <div class=\"colab-df-container\">\n",
              "      <div>\n",
              "<style scoped>\n",
              "    .dataframe tbody tr th:only-of-type {\n",
              "        vertical-align: middle;\n",
              "    }\n",
              "\n",
              "    .dataframe tbody tr th {\n",
              "        vertical-align: top;\n",
              "    }\n",
              "\n",
              "    .dataframe thead th {\n",
              "        text-align: right;\n",
              "    }\n",
              "</style>\n",
              "<table border=\"1\" class=\"dataframe\">\n",
              "  <thead>\n",
              "    <tr style=\"text-align: right;\">\n",
              "      <th></th>\n",
              "      <th>index</th>\n",
              "      <th>id</th>\n",
              "      <th>document</th>\n",
              "      <th>label</th>\n",
              "      <th>preprocessed</th>\n",
              "      <th>tokenized_stem</th>\n",
              "      <th>main_pos</th>\n",
              "    </tr>\n",
              "  </thead>\n",
              "  <tbody>\n",
              "    <tr>\n",
              "      <th>0</th>\n",
              "      <td>4922</td>\n",
              "      <td>4923</td>\n",
              "      <td>전 초딩인데도 재밌게 봤음..... ㅋㅋ 김선아 짱~!!!!!!!!</td>\n",
              "      <td>1</td>\n",
              "      <td>전 초딩인데도 재밌게 봤음 ㅋㅋ 김선아 짱</td>\n",
              "      <td>전 초딩 인데 도 재밌다 보다 ㅋㅋ 김선아 짱</td>\n",
              "      <td>전 초딩 도 재밌게 봤음 김선아 짱</td>\n",
              "    </tr>\n",
              "    <tr>\n",
              "      <th>1</th>\n",
              "      <td>246</td>\n",
              "      <td>247</td>\n",
              "      <td>보지도 않고 선입견 가지지마라...연출,극본,연기 모두 수준급의 드라마다</td>\n",
              "      <td>1</td>\n",
              "      <td>보지도 않고 선입견 가지지마라연출극본연기 모두 수준급의 드라마다</td>\n",
              "      <td>보지 도 않다 선입견 가다 연출 극 본 연기 모두 수준 급 의 드라마 다</td>\n",
              "      <td>보지 않고 선입견 가지지마라 연출 극본 연기 모두 수준 드라마</td>\n",
              "    </tr>\n",
              "    <tr>\n",
              "      <th>2</th>\n",
              "      <td>2447</td>\n",
              "      <td>2448</td>\n",
              "      <td>뭐지 진짜 재미없다는 =ㅅ= 진짜 최악의 영화.. 시간아까움</td>\n",
              "      <td>0</td>\n",
              "      <td>뭐지 진짜 재미없다는 ㅅ 진짜 최악의 영화 시간아까움</td>\n",
              "      <td>뭐 지 진짜 재미없다 ㅅ 진짜 최악 의 영화 시간 아깝다 움</td>\n",
              "      <td>뭐 진짜 재미없다는 진짜 최악 영화 시간 아까 움</td>\n",
              "    </tr>\n",
              "    <tr>\n",
              "      <th>3</th>\n",
              "      <td>521</td>\n",
              "      <td>522</td>\n",
              "      <td>망한 이유를 알겠어 .비호감 캐릭터들의 난립</td>\n",
              "      <td>0</td>\n",
              "      <td>망한 이유를 알겠어 비호감 캐릭터들의 난립</td>\n",
              "      <td>망하다 이유 를 알다 비호감 캐릭터 들 의 난립</td>\n",
              "      <td>망한 이유 알겠어 비호감 캐릭터 난립</td>\n",
              "    </tr>\n",
              "    <tr>\n",
              "      <th>4</th>\n",
              "      <td>1433</td>\n",
              "      <td>1434</td>\n",
              "      <td>이런류의 애니메이션중에 가장 지루했던 애니메이션으로 기억된다.</td>\n",
              "      <td>0</td>\n",
              "      <td>이런류의 애니메이션중에 가장 지루했던 애니메이션으로 기억된다</td>\n",
              "      <td>이런 류 의 애니메이션 중 에 가장 지루하다 애니메이션 으로 기억 되다</td>\n",
              "      <td>류 애니메이션 가장 지루했던 애니메이션 기억 된다</td>\n",
              "    </tr>\n",
              "  </tbody>\n",
              "</table>\n",
              "</div>\n",
              "      <button class=\"colab-df-convert\" onclick=\"convertToInteractive('df-e3786626-4103-46f9-b91f-ecc43db6dd10')\"\n",
              "              title=\"Convert this dataframe to an interactive table.\"\n",
              "              style=\"display:none;\">\n",
              "        \n",
              "  <svg xmlns=\"http://www.w3.org/2000/svg\" height=\"24px\"viewBox=\"0 0 24 24\"\n",
              "       width=\"24px\">\n",
              "    <path d=\"M0 0h24v24H0V0z\" fill=\"none\"/>\n",
              "    <path d=\"M18.56 5.44l.94 2.06.94-2.06 2.06-.94-2.06-.94-.94-2.06-.94 2.06-2.06.94zm-11 1L8.5 8.5l.94-2.06 2.06-.94-2.06-.94L8.5 2.5l-.94 2.06-2.06.94zm10 10l.94 2.06.94-2.06 2.06-.94-2.06-.94-.94-2.06-.94 2.06-2.06.94z\"/><path d=\"M17.41 7.96l-1.37-1.37c-.4-.4-.92-.59-1.43-.59-.52 0-1.04.2-1.43.59L10.3 9.45l-7.72 7.72c-.78.78-.78 2.05 0 2.83L4 21.41c.39.39.9.59 1.41.59.51 0 1.02-.2 1.41-.59l7.78-7.78 2.81-2.81c.8-.78.8-2.07 0-2.86zM5.41 20L4 18.59l7.72-7.72 1.47 1.35L5.41 20z\"/>\n",
              "  </svg>\n",
              "      </button>\n",
              "      \n",
              "  <style>\n",
              "    .colab-df-container {\n",
              "      display:flex;\n",
              "      flex-wrap:wrap;\n",
              "      gap: 12px;\n",
              "    }\n",
              "\n",
              "    .colab-df-convert {\n",
              "      background-color: #E8F0FE;\n",
              "      border: none;\n",
              "      border-radius: 50%;\n",
              "      cursor: pointer;\n",
              "      display: none;\n",
              "      fill: #1967D2;\n",
              "      height: 32px;\n",
              "      padding: 0 0 0 0;\n",
              "      width: 32px;\n",
              "    }\n",
              "\n",
              "    .colab-df-convert:hover {\n",
              "      background-color: #E2EBFA;\n",
              "      box-shadow: 0px 1px 2px rgba(60, 64, 67, 0.3), 0px 1px 3px 1px rgba(60, 64, 67, 0.15);\n",
              "      fill: #174EA6;\n",
              "    }\n",
              "\n",
              "    [theme=dark] .colab-df-convert {\n",
              "      background-color: #3B4455;\n",
              "      fill: #D2E3FC;\n",
              "    }\n",
              "\n",
              "    [theme=dark] .colab-df-convert:hover {\n",
              "      background-color: #434B5C;\n",
              "      box-shadow: 0px 1px 3px 1px rgba(0, 0, 0, 0.15);\n",
              "      filter: drop-shadow(0px 1px 2px rgba(0, 0, 0, 0.3));\n",
              "      fill: #FFFFFF;\n",
              "    }\n",
              "  </style>\n",
              "\n",
              "      <script>\n",
              "        const buttonEl =\n",
              "          document.querySelector('#df-e3786626-4103-46f9-b91f-ecc43db6dd10 button.colab-df-convert');\n",
              "        buttonEl.style.display =\n",
              "          google.colab.kernel.accessAllowed ? 'block' : 'none';\n",
              "\n",
              "        async function convertToInteractive(key) {\n",
              "          const element = document.querySelector('#df-e3786626-4103-46f9-b91f-ecc43db6dd10');\n",
              "          const dataTable =\n",
              "            await google.colab.kernel.invokeFunction('convertToInteractive',\n",
              "                                                     [key], {});\n",
              "          if (!dataTable) return;\n",
              "\n",
              "          const docLinkHtml = 'Like what you see? Visit the ' +\n",
              "            '<a target=\"_blank\" href=https://colab.research.google.com/notebooks/data_table.ipynb>data table notebook</a>'\n",
              "            + ' to learn more about interactive tables.';\n",
              "          element.innerHTML = '';\n",
              "          dataTable['output_type'] = 'display_data';\n",
              "          await google.colab.output.renderOutput(dataTable, element);\n",
              "          const docLink = document.createElement('div');\n",
              "          docLink.innerHTML = docLinkHtml;\n",
              "          element.appendChild(docLink);\n",
              "        }\n",
              "      </script>\n",
              "    </div>\n",
              "  </div>\n",
              "  "
            ]
          },
          "metadata": {},
          "execution_count": 49
        }
      ],
      "source": [
        "# preprocessed\n",
        "val['preprocessed'] = val['document'].str.replace(\"[^ㄱ-ㅎㅏ-ㅣ가-힣 ]\",\"\") # 한글과 공백을 제외하고 모두 제거\n",
        "val['preprocessed'] = val['preprocessed'].str.replace(\" +\", \" \") # 다중 공백 제거\n",
        "\n",
        "# tokenized_stem\n",
        "tokenized = []\n",
        "for sentence in val['preprocessed']:\n",
        "    # To do\n",
        "    tokens = okt.morphs(sentence, stem=True) #형태소 분석 어간 추출 옵션\n",
        "    tokenize = \" \".join(tokens)\n",
        "    tokenized.append(tokenize)\n",
        "val[\"tokenized_stem\"] = pd.DataFrame(tokenized)\n",
        "\n",
        "# main_pos\n",
        "main_pos = []\n",
        "for sentence in val['document']:\n",
        "    # To do\n",
        "    pos = okt.pos(sentence) # 품사 태깅 형태소 분석\n",
        "    main_words = [word_pos[0] for word_pos in pos if word_pos[1] in (\"Noun\", \"Adverb\", \"Adjective\", \"Verb\")] # 원하는 품사 선택\n",
        "    main_words_str = \" \".join(main_words)\n",
        "    main_pos.append(main_words_str)\n",
        "val[\"main_pos\"] = pd.DataFrame(main_pos)\n",
        "\n",
        "val.head()"
      ]
    },
    {
      "cell_type": "markdown",
      "metadata": {
        "id": "3OkudJa5xzYo"
      },
      "source": [
        "학습한 모델로 예측할 X를 벡터화해줍니다."
      ]
    },
    {
      "cell_type": "code",
      "execution_count": 50,
      "metadata": {
        "id": "Lqwz6CoCxzYo"
      },
      "outputs": [],
      "source": [
        "X_val = val.main_pos #validation 데이터에서 전처리된 문서 추출\n",
        "y_val = val.label #validation 데이터에서 라벨 추출\n",
        "# To do\n",
        "\n",
        "X_val_vec = vectorizer.transform(X_val) # train셋으로 fit한 벡터라이저 이용해 transform"
      ]
    },
    {
      "cell_type": "code",
      "execution_count": 51,
      "metadata": {
        "id": "A08sNchqxzYo",
        "outputId": "5ef8d729-7887-473b-dfca-7d962265e313",
        "colab": {
          "base_uri": "https://localhost:8080/"
        }
      },
      "outputs": [
        {
          "output_type": "stream",
          "name": "stdout",
          "text": [
            "[1 0 0 ... 1 0 1]\n"
          ]
        }
      ],
      "source": [
        "#run model\n",
        "y_pred = model.predict(X_val_vec)\n",
        "print(y_pred)\n",
        "#0:negative 1:positive"
      ]
    },
    {
      "cell_type": "code",
      "execution_count": 52,
      "metadata": {
        "id": "tP-UOGHaxzYp",
        "outputId": "0e435ac8-8224-48e4-aa17-a88f841ada6a",
        "colab": {
          "base_uri": "https://localhost:8080/"
        }
      },
      "outputs": [
        {
          "output_type": "stream",
          "name": "stdout",
          "text": [
            "accuracy = 0.8056\n"
          ]
        }
      ],
      "source": [
        "from sklearn import metrics\n",
        "print('accuracy =', metrics.accuracy_score(y_val, y_pred)) # 정확도 확인"
      ]
    },
    {
      "cell_type": "markdown",
      "metadata": {
        "id": "bDieixi3xzYp"
      },
      "source": [
        "train 셋으로 학습한 모델을 사용해 validation 셋을 예측해본 결과 0.8184의 정확도를 얻었습니다!\n",
        "\n",
        "다양한 전처리 기법과 모델들을 사용하여 성능을 높여보세요~"
      ]
    },
    {
      "cell_type": "markdown",
      "metadata": {
        "id": "RfFDg9ItxzYp"
      },
      "source": [
        "# test.csv 분류하기"
      ]
    },
    {
      "cell_type": "markdown",
      "metadata": {
        "id": "5hnPNLl1xzYp"
      },
      "source": [
        "이제 본격적으로 대회에서 주어진 정답이 없는 test 데이터의 라벨을 예측해보겠습니다.\n",
        "\n",
        "전처리 모델 학습 단계에서 test 데이터를 사용하면 data leakage로 간주되니\n",
        "\n",
        "test.csv는 반드시 모델 학습이 끝난 뒤 예측시에만 등장해야 함에 주의해주세요!\n",
        "\n",
        "train.csv를 이용한 전처리/학습을 test.cvs에 적용하는 것은 허용되지만, test.csv를 전처리/모델링에 직접적으로 이용하면 실격입니다."
      ]
    },
    {
      "cell_type": "code",
      "execution_count": 53,
      "metadata": {
        "id": "DzUx56YPxzYq",
        "outputId": "7769d041-d3c9-4fcf-99e4-101823d1a986",
        "colab": {
          "base_uri": "https://localhost:8080/",
          "height": 419
        }
      },
      "outputs": [
        {
          "output_type": "execute_result",
          "data": {
            "text/plain": [
              "        id                             document\n",
              "0        1                     시간 때우기 좋은 영화 지루함\n",
              "1        2  훈훈한 정이 느껴지는 영화! 가족끼리 드라마 보듯이 보면 딱~!\n",
              "2        3                    Childhood fantasy\n",
              "3        4                  멋있는 영화입니다. 잊을 수 없는!\n",
              "4        5                   너무 감동적이네요 펑펑 울었습니다\n",
              "...    ...                                  ...\n",
              "4995  4996        연계도 제대로 안되고 뭔가 부족한느낌이들고 찝찝한영화\n",
              "4996  4997           내생에 최악의 영화중 하나 졸려서 미칠뻔....\n",
              "4997  4998       지금까지 나온 드라마 중 최고였습니다. 100점 만점!\n",
              "4998  4999       영화값으로 엄청난 공연을 보았다 - 이게 웬 횡재 ..\n",
              "4999  5000              올해엔 롯데 자이언츠가 꼭 우승했으면...\n",
              "\n",
              "[5000 rows x 2 columns]"
            ],
            "text/html": [
              "\n",
              "  <div id=\"df-f96b3daf-1b35-41d5-9f25-708f88972d78\">\n",
              "    <div class=\"colab-df-container\">\n",
              "      <div>\n",
              "<style scoped>\n",
              "    .dataframe tbody tr th:only-of-type {\n",
              "        vertical-align: middle;\n",
              "    }\n",
              "\n",
              "    .dataframe tbody tr th {\n",
              "        vertical-align: top;\n",
              "    }\n",
              "\n",
              "    .dataframe thead th {\n",
              "        text-align: right;\n",
              "    }\n",
              "</style>\n",
              "<table border=\"1\" class=\"dataframe\">\n",
              "  <thead>\n",
              "    <tr style=\"text-align: right;\">\n",
              "      <th></th>\n",
              "      <th>id</th>\n",
              "      <th>document</th>\n",
              "    </tr>\n",
              "  </thead>\n",
              "  <tbody>\n",
              "    <tr>\n",
              "      <th>0</th>\n",
              "      <td>1</td>\n",
              "      <td>시간 때우기 좋은 영화 지루함</td>\n",
              "    </tr>\n",
              "    <tr>\n",
              "      <th>1</th>\n",
              "      <td>2</td>\n",
              "      <td>훈훈한 정이 느껴지는 영화! 가족끼리 드라마 보듯이 보면 딱~!</td>\n",
              "    </tr>\n",
              "    <tr>\n",
              "      <th>2</th>\n",
              "      <td>3</td>\n",
              "      <td>Childhood fantasy</td>\n",
              "    </tr>\n",
              "    <tr>\n",
              "      <th>3</th>\n",
              "      <td>4</td>\n",
              "      <td>멋있는 영화입니다. 잊을 수 없는!</td>\n",
              "    </tr>\n",
              "    <tr>\n",
              "      <th>4</th>\n",
              "      <td>5</td>\n",
              "      <td>너무 감동적이네요 펑펑 울었습니다</td>\n",
              "    </tr>\n",
              "    <tr>\n",
              "      <th>...</th>\n",
              "      <td>...</td>\n",
              "      <td>...</td>\n",
              "    </tr>\n",
              "    <tr>\n",
              "      <th>4995</th>\n",
              "      <td>4996</td>\n",
              "      <td>연계도 제대로 안되고 뭔가 부족한느낌이들고 찝찝한영화</td>\n",
              "    </tr>\n",
              "    <tr>\n",
              "      <th>4996</th>\n",
              "      <td>4997</td>\n",
              "      <td>내생에 최악의 영화중 하나 졸려서 미칠뻔....</td>\n",
              "    </tr>\n",
              "    <tr>\n",
              "      <th>4997</th>\n",
              "      <td>4998</td>\n",
              "      <td>지금까지 나온 드라마 중 최고였습니다. 100점 만점!</td>\n",
              "    </tr>\n",
              "    <tr>\n",
              "      <th>4998</th>\n",
              "      <td>4999</td>\n",
              "      <td>영화값으로 엄청난 공연을 보았다 - 이게 웬 횡재 ..</td>\n",
              "    </tr>\n",
              "    <tr>\n",
              "      <th>4999</th>\n",
              "      <td>5000</td>\n",
              "      <td>올해엔 롯데 자이언츠가 꼭 우승했으면...</td>\n",
              "    </tr>\n",
              "  </tbody>\n",
              "</table>\n",
              "<p>5000 rows × 2 columns</p>\n",
              "</div>\n",
              "      <button class=\"colab-df-convert\" onclick=\"convertToInteractive('df-f96b3daf-1b35-41d5-9f25-708f88972d78')\"\n",
              "              title=\"Convert this dataframe to an interactive table.\"\n",
              "              style=\"display:none;\">\n",
              "        \n",
              "  <svg xmlns=\"http://www.w3.org/2000/svg\" height=\"24px\"viewBox=\"0 0 24 24\"\n",
              "       width=\"24px\">\n",
              "    <path d=\"M0 0h24v24H0V0z\" fill=\"none\"/>\n",
              "    <path d=\"M18.56 5.44l.94 2.06.94-2.06 2.06-.94-2.06-.94-.94-2.06-.94 2.06-2.06.94zm-11 1L8.5 8.5l.94-2.06 2.06-.94-2.06-.94L8.5 2.5l-.94 2.06-2.06.94zm10 10l.94 2.06.94-2.06 2.06-.94-2.06-.94-.94-2.06-.94 2.06-2.06.94z\"/><path d=\"M17.41 7.96l-1.37-1.37c-.4-.4-.92-.59-1.43-.59-.52 0-1.04.2-1.43.59L10.3 9.45l-7.72 7.72c-.78.78-.78 2.05 0 2.83L4 21.41c.39.39.9.59 1.41.59.51 0 1.02-.2 1.41-.59l7.78-7.78 2.81-2.81c.8-.78.8-2.07 0-2.86zM5.41 20L4 18.59l7.72-7.72 1.47 1.35L5.41 20z\"/>\n",
              "  </svg>\n",
              "      </button>\n",
              "      \n",
              "  <style>\n",
              "    .colab-df-container {\n",
              "      display:flex;\n",
              "      flex-wrap:wrap;\n",
              "      gap: 12px;\n",
              "    }\n",
              "\n",
              "    .colab-df-convert {\n",
              "      background-color: #E8F0FE;\n",
              "      border: none;\n",
              "      border-radius: 50%;\n",
              "      cursor: pointer;\n",
              "      display: none;\n",
              "      fill: #1967D2;\n",
              "      height: 32px;\n",
              "      padding: 0 0 0 0;\n",
              "      width: 32px;\n",
              "    }\n",
              "\n",
              "    .colab-df-convert:hover {\n",
              "      background-color: #E2EBFA;\n",
              "      box-shadow: 0px 1px 2px rgba(60, 64, 67, 0.3), 0px 1px 3px 1px rgba(60, 64, 67, 0.15);\n",
              "      fill: #174EA6;\n",
              "    }\n",
              "\n",
              "    [theme=dark] .colab-df-convert {\n",
              "      background-color: #3B4455;\n",
              "      fill: #D2E3FC;\n",
              "    }\n",
              "\n",
              "    [theme=dark] .colab-df-convert:hover {\n",
              "      background-color: #434B5C;\n",
              "      box-shadow: 0px 1px 3px 1px rgba(0, 0, 0, 0.15);\n",
              "      filter: drop-shadow(0px 1px 2px rgba(0, 0, 0, 0.3));\n",
              "      fill: #FFFFFF;\n",
              "    }\n",
              "  </style>\n",
              "\n",
              "      <script>\n",
              "        const buttonEl =\n",
              "          document.querySelector('#df-f96b3daf-1b35-41d5-9f25-708f88972d78 button.colab-df-convert');\n",
              "        buttonEl.style.display =\n",
              "          google.colab.kernel.accessAllowed ? 'block' : 'none';\n",
              "\n",
              "        async function convertToInteractive(key) {\n",
              "          const element = document.querySelector('#df-f96b3daf-1b35-41d5-9f25-708f88972d78');\n",
              "          const dataTable =\n",
              "            await google.colab.kernel.invokeFunction('convertToInteractive',\n",
              "                                                     [key], {});\n",
              "          if (!dataTable) return;\n",
              "\n",
              "          const docLinkHtml = 'Like what you see? Visit the ' +\n",
              "            '<a target=\"_blank\" href=https://colab.research.google.com/notebooks/data_table.ipynb>data table notebook</a>'\n",
              "            + ' to learn more about interactive tables.';\n",
              "          element.innerHTML = '';\n",
              "          dataTable['output_type'] = 'display_data';\n",
              "          await google.colab.output.renderOutput(dataTable, element);\n",
              "          const docLink = document.createElement('div');\n",
              "          docLink.innerHTML = docLinkHtml;\n",
              "          element.appendChild(docLink);\n",
              "        }\n",
              "      </script>\n",
              "    </div>\n",
              "  </div>\n",
              "  "
            ]
          },
          "metadata": {},
          "execution_count": 53
        }
      ],
      "source": [
        "test = pd.read_csv('/content/drive/MyDrive/와이빅타 교육세션 유찬/과제/data-2/test.csv')\n",
        "test"
      ]
    },
    {
      "cell_type": "markdown",
      "metadata": {
        "id": "98ZogJRVxzYq"
      },
      "source": [
        "동일한 전처리 과정을 거치되, data leakage가 발생하지 않도록 주의합니다."
      ]
    },
    {
      "cell_type": "code",
      "execution_count": 54,
      "metadata": {
        "id": "K1iIpmGPxzYq",
        "outputId": "1c9bdb1a-6dbb-468c-9c55-10f833f97733",
        "colab": {
          "base_uri": "https://localhost:8080/"
        }
      },
      "outputs": [
        {
          "output_type": "execute_result",
          "data": {
            "text/plain": [
              "id          0\n",
              "document    0\n",
              "dtype: int64"
            ]
          },
          "metadata": {},
          "execution_count": 54
        }
      ],
      "source": [
        "test.isna().sum()"
      ]
    },
    {
      "cell_type": "code",
      "execution_count": 55,
      "metadata": {
        "id": "6dYZK_XMxzYr",
        "outputId": "467b6bb6-fc61-49b4-ce56-70db862136f0",
        "colab": {
          "base_uri": "https://localhost:8080/",
          "height": 265
        }
      },
      "outputs": [
        {
          "output_type": "execute_result",
          "data": {
            "text/plain": [
              "   id                             document                      preprocessed  \\\n",
              "0   1                     시간 때우기 좋은 영화 지루함                  시간 때우기 좋은 영화 지루함   \n",
              "1   2  훈훈한 정이 느껴지는 영화! 가족끼리 드라마 보듯이 보면 딱~!  훈훈한 정이 느껴지는 영화 가족끼리 드라마 보듯이 보면 딱   \n",
              "2   3                    Childhood fantasy                                     \n",
              "3   4                  멋있는 영화입니다. 잊을 수 없는!                 멋있는 영화입니다 잊을 수 없는   \n",
              "4   5                   너무 감동적이네요 펑펑 울었습니다                너무 감동적이네요 펑펑 울었습니다   \n",
              "\n",
              "                      tokenized_stem                           main_pos  \n",
              "0                   시간 때우다 좋다 영화 지루함                   시간 때우기 좋은 영화 지루함  \n",
              "1  훈훈하다 정이 느껴지다 영화 가족 끼리 드라마 보다 보다 딱  훈훈한 정이 느껴지는 영화 가족 끼리 드라마 보듯이 보면 딱  \n",
              "2                                                                        \n",
              "3                  멋있다 영화 이다 잊다 수 없다                 멋있는 영화 입니다 잊을 수 없는  \n",
              "4                     너무 감동 적다 펑펑 울다                너무 감동 적이네요 펑펑 울었습니다  "
            ],
            "text/html": [
              "\n",
              "  <div id=\"df-d5de5259-eb50-470d-bd42-e7ad0287fec6\">\n",
              "    <div class=\"colab-df-container\">\n",
              "      <div>\n",
              "<style scoped>\n",
              "    .dataframe tbody tr th:only-of-type {\n",
              "        vertical-align: middle;\n",
              "    }\n",
              "\n",
              "    .dataframe tbody tr th {\n",
              "        vertical-align: top;\n",
              "    }\n",
              "\n",
              "    .dataframe thead th {\n",
              "        text-align: right;\n",
              "    }\n",
              "</style>\n",
              "<table border=\"1\" class=\"dataframe\">\n",
              "  <thead>\n",
              "    <tr style=\"text-align: right;\">\n",
              "      <th></th>\n",
              "      <th>id</th>\n",
              "      <th>document</th>\n",
              "      <th>preprocessed</th>\n",
              "      <th>tokenized_stem</th>\n",
              "      <th>main_pos</th>\n",
              "    </tr>\n",
              "  </thead>\n",
              "  <tbody>\n",
              "    <tr>\n",
              "      <th>0</th>\n",
              "      <td>1</td>\n",
              "      <td>시간 때우기 좋은 영화 지루함</td>\n",
              "      <td>시간 때우기 좋은 영화 지루함</td>\n",
              "      <td>시간 때우다 좋다 영화 지루함</td>\n",
              "      <td>시간 때우기 좋은 영화 지루함</td>\n",
              "    </tr>\n",
              "    <tr>\n",
              "      <th>1</th>\n",
              "      <td>2</td>\n",
              "      <td>훈훈한 정이 느껴지는 영화! 가족끼리 드라마 보듯이 보면 딱~!</td>\n",
              "      <td>훈훈한 정이 느껴지는 영화 가족끼리 드라마 보듯이 보면 딱</td>\n",
              "      <td>훈훈하다 정이 느껴지다 영화 가족 끼리 드라마 보다 보다 딱</td>\n",
              "      <td>훈훈한 정이 느껴지는 영화 가족 끼리 드라마 보듯이 보면 딱</td>\n",
              "    </tr>\n",
              "    <tr>\n",
              "      <th>2</th>\n",
              "      <td>3</td>\n",
              "      <td>Childhood fantasy</td>\n",
              "      <td></td>\n",
              "      <td></td>\n",
              "      <td></td>\n",
              "    </tr>\n",
              "    <tr>\n",
              "      <th>3</th>\n",
              "      <td>4</td>\n",
              "      <td>멋있는 영화입니다. 잊을 수 없는!</td>\n",
              "      <td>멋있는 영화입니다 잊을 수 없는</td>\n",
              "      <td>멋있다 영화 이다 잊다 수 없다</td>\n",
              "      <td>멋있는 영화 입니다 잊을 수 없는</td>\n",
              "    </tr>\n",
              "    <tr>\n",
              "      <th>4</th>\n",
              "      <td>5</td>\n",
              "      <td>너무 감동적이네요 펑펑 울었습니다</td>\n",
              "      <td>너무 감동적이네요 펑펑 울었습니다</td>\n",
              "      <td>너무 감동 적다 펑펑 울다</td>\n",
              "      <td>너무 감동 적이네요 펑펑 울었습니다</td>\n",
              "    </tr>\n",
              "  </tbody>\n",
              "</table>\n",
              "</div>\n",
              "      <button class=\"colab-df-convert\" onclick=\"convertToInteractive('df-d5de5259-eb50-470d-bd42-e7ad0287fec6')\"\n",
              "              title=\"Convert this dataframe to an interactive table.\"\n",
              "              style=\"display:none;\">\n",
              "        \n",
              "  <svg xmlns=\"http://www.w3.org/2000/svg\" height=\"24px\"viewBox=\"0 0 24 24\"\n",
              "       width=\"24px\">\n",
              "    <path d=\"M0 0h24v24H0V0z\" fill=\"none\"/>\n",
              "    <path d=\"M18.56 5.44l.94 2.06.94-2.06 2.06-.94-2.06-.94-.94-2.06-.94 2.06-2.06.94zm-11 1L8.5 8.5l.94-2.06 2.06-.94-2.06-.94L8.5 2.5l-.94 2.06-2.06.94zm10 10l.94 2.06.94-2.06 2.06-.94-2.06-.94-.94-2.06-.94 2.06-2.06.94z\"/><path d=\"M17.41 7.96l-1.37-1.37c-.4-.4-.92-.59-1.43-.59-.52 0-1.04.2-1.43.59L10.3 9.45l-7.72 7.72c-.78.78-.78 2.05 0 2.83L4 21.41c.39.39.9.59 1.41.59.51 0 1.02-.2 1.41-.59l7.78-7.78 2.81-2.81c.8-.78.8-2.07 0-2.86zM5.41 20L4 18.59l7.72-7.72 1.47 1.35L5.41 20z\"/>\n",
              "  </svg>\n",
              "      </button>\n",
              "      \n",
              "  <style>\n",
              "    .colab-df-container {\n",
              "      display:flex;\n",
              "      flex-wrap:wrap;\n",
              "      gap: 12px;\n",
              "    }\n",
              "\n",
              "    .colab-df-convert {\n",
              "      background-color: #E8F0FE;\n",
              "      border: none;\n",
              "      border-radius: 50%;\n",
              "      cursor: pointer;\n",
              "      display: none;\n",
              "      fill: #1967D2;\n",
              "      height: 32px;\n",
              "      padding: 0 0 0 0;\n",
              "      width: 32px;\n",
              "    }\n",
              "\n",
              "    .colab-df-convert:hover {\n",
              "      background-color: #E2EBFA;\n",
              "      box-shadow: 0px 1px 2px rgba(60, 64, 67, 0.3), 0px 1px 3px 1px rgba(60, 64, 67, 0.15);\n",
              "      fill: #174EA6;\n",
              "    }\n",
              "\n",
              "    [theme=dark] .colab-df-convert {\n",
              "      background-color: #3B4455;\n",
              "      fill: #D2E3FC;\n",
              "    }\n",
              "\n",
              "    [theme=dark] .colab-df-convert:hover {\n",
              "      background-color: #434B5C;\n",
              "      box-shadow: 0px 1px 3px 1px rgba(0, 0, 0, 0.15);\n",
              "      filter: drop-shadow(0px 1px 2px rgba(0, 0, 0, 0.3));\n",
              "      fill: #FFFFFF;\n",
              "    }\n",
              "  </style>\n",
              "\n",
              "      <script>\n",
              "        const buttonEl =\n",
              "          document.querySelector('#df-d5de5259-eb50-470d-bd42-e7ad0287fec6 button.colab-df-convert');\n",
              "        buttonEl.style.display =\n",
              "          google.colab.kernel.accessAllowed ? 'block' : 'none';\n",
              "\n",
              "        async function convertToInteractive(key) {\n",
              "          const element = document.querySelector('#df-d5de5259-eb50-470d-bd42-e7ad0287fec6');\n",
              "          const dataTable =\n",
              "            await google.colab.kernel.invokeFunction('convertToInteractive',\n",
              "                                                     [key], {});\n",
              "          if (!dataTable) return;\n",
              "\n",
              "          const docLinkHtml = 'Like what you see? Visit the ' +\n",
              "            '<a target=\"_blank\" href=https://colab.research.google.com/notebooks/data_table.ipynb>data table notebook</a>'\n",
              "            + ' to learn more about interactive tables.';\n",
              "          element.innerHTML = '';\n",
              "          dataTable['output_type'] = 'display_data';\n",
              "          await google.colab.output.renderOutput(dataTable, element);\n",
              "          const docLink = document.createElement('div');\n",
              "          docLink.innerHTML = docLinkHtml;\n",
              "          element.appendChild(docLink);\n",
              "        }\n",
              "      </script>\n",
              "    </div>\n",
              "  </div>\n",
              "  "
            ]
          },
          "metadata": {},
          "execution_count": 55
        }
      ],
      "source": [
        "# preprocessed\n",
        "test['preprocessed'] = test['document'].str.replace(\"[^ㄱ-ㅎㅏ-ㅣ가-힣 ]\",\"\") # 한글과 공백을 제외하고 모두 제거\n",
        "test['preprocessed'] = test['preprocessed'].str.replace(\" +\", \" \") # 다중 공백 제거\n",
        "\n",
        "# tokenized_stem\n",
        "tokenized = []\n",
        "for sentence in test['preprocessed']:\n",
        "    # To do\n",
        "    tokens = okt.morphs(sentence, stem=True) #형태소 분석, 어간 추출\n",
        "    tokenize = \" \".join(tokens)\n",
        "    tokenized.append(tokenize)\n",
        "test[\"tokenized_stem\"] = pd.DataFrame(tokenized)\n",
        "\n",
        "# main_pos\n",
        "main_pos = []\n",
        "for sentence in test['document']:\n",
        "  # To do\n",
        "    pos = okt.pos(sentence) #품사 태그\n",
        "    main_words = [word_pos[0] for word_pos in pos if word_pos[1] in (\"Noun\", \"Adverb\", \"Adjective\", \"Verb\")] # 원하는 품사 추출\n",
        "    main_words_str = \" \".join(main_words)\n",
        "    main_pos.append(main_words_str)\n",
        "test[\"main_pos\"] = pd.DataFrame(main_pos)\n",
        "\n",
        "test.head()"
      ]
    },
    {
      "cell_type": "code",
      "execution_count": 56,
      "metadata": {
        "id": "7OmdlKhhxzYr",
        "outputId": "c22fda61-7d1e-483c-bf13-5999707ebd00",
        "colab": {
          "base_uri": "https://localhost:8080/"
        }
      },
      "outputs": [
        {
          "output_type": "stream",
          "name": "stdout",
          "text": [
            "[0 1 0 ... 1 1 1]\n"
          ]
        }
      ],
      "source": [
        "X_test = test.main_pos\n",
        "# To do\n",
        "X_test_vec = vectorizer.transform(X_test) # train셋으로 fit한 벡터라이저 이용해 transform\n",
        "pred_test = model.predict(X_test_vec)\n",
        "print(pred_test)"
      ]
    },
    {
      "cell_type": "markdown",
      "source": [
        "# 워드클라우드"
      ],
      "metadata": {
        "id": "-zhqvogvj4b3"
      }
    },
    {
      "cell_type": "code",
      "source": [
        "test['pred']=pred_test"
      ],
      "metadata": {
        "id": "K8hlO6rWfEOJ"
      },
      "execution_count": 57,
      "outputs": []
    },
    {
      "cell_type": "code",
      "source": [
        "test"
      ],
      "metadata": {
        "colab": {
          "base_uri": "https://localhost:8080/",
          "height": 514
        },
        "id": "SXQ-JDkNfKWF",
        "outputId": "e7b1551c-cec1-46f9-b03b-2513218bbf8d"
      },
      "execution_count": 58,
      "outputs": [
        {
          "output_type": "execute_result",
          "data": {
            "text/plain": [
              "        id                             document  \\\n",
              "0        1                     시간 때우기 좋은 영화 지루함   \n",
              "1        2  훈훈한 정이 느껴지는 영화! 가족끼리 드라마 보듯이 보면 딱~!   \n",
              "2        3                    Childhood fantasy   \n",
              "3        4                  멋있는 영화입니다. 잊을 수 없는!   \n",
              "4        5                   너무 감동적이네요 펑펑 울었습니다   \n",
              "...    ...                                  ...   \n",
              "4995  4996        연계도 제대로 안되고 뭔가 부족한느낌이들고 찝찝한영화   \n",
              "4996  4997           내생에 최악의 영화중 하나 졸려서 미칠뻔....   \n",
              "4997  4998       지금까지 나온 드라마 중 최고였습니다. 100점 만점!   \n",
              "4998  4999       영화값으로 엄청난 공연을 보았다 - 이게 웬 횡재 ..   \n",
              "4999  5000              올해엔 롯데 자이언츠가 꼭 우승했으면...   \n",
              "\n",
              "                          preprocessed                         tokenized_stem  \\\n",
              "0                     시간 때우기 좋은 영화 지루함                       시간 때우다 좋다 영화 지루함   \n",
              "1     훈훈한 정이 느껴지는 영화 가족끼리 드라마 보듯이 보면 딱      훈훈하다 정이 느껴지다 영화 가족 끼리 드라마 보다 보다 딱   \n",
              "2                                                                               \n",
              "3                    멋있는 영화입니다 잊을 수 없는                      멋있다 영화 이다 잊다 수 없다   \n",
              "4                   너무 감동적이네요 펑펑 울었습니다                         너무 감동 적다 펑펑 울다   \n",
              "...                                ...                                    ...   \n",
              "4995     연계도 제대로 안되고 뭔가 부족한느낌이들고 찝찝한영화  연 계 도 제대로 안되다 뭔가 부족하다 느낌 이 들다 찝찝하다 영화   \n",
              "4996            내생에 최악의 영화중 하나 졸려서 미칠뻔            내생 에 최악 의 영화 중 하나 졸리다 미치다 뻔   \n",
              "4997         지금까지 나온 드라마 중 최고였습니다 점 만점             지금 까지 나오다 드라마 중 최고 이다 점 만점   \n",
              "4998        영화값으로 엄청난 공연을 보았다 이게 웬 횡재           영화 값 으로 엄청나다 공연 을 보다 이 게 웬 횡재   \n",
              "4999              올해엔 롯데 자이언츠가 꼭 우승했으면                  올해 엔 롯데 자이언츠 가 꼭 우승하다   \n",
              "\n",
              "                               main_pos  pred  \n",
              "0                      시간 때우기 좋은 영화 지루함     0  \n",
              "1     훈훈한 정이 느껴지는 영화 가족 끼리 드라마 보듯이 보면 딱     1  \n",
              "2                                           0  \n",
              "3                    멋있는 영화 입니다 잊을 수 없는     1  \n",
              "4                   너무 감동 적이네요 펑펑 울었습니다     1  \n",
              "...                                 ...   ...  \n",
              "4995      계 제대로 안되고 뭔가 부족한 느낌 들고 찝찝한 영화     0  \n",
              "4996               내생 최악 영화 하나 졸려서 미칠 뻔     0  \n",
              "4997           지금 나온 드라마 중 최고 였습니다 점 만점     1  \n",
              "4998             영화 값 엄청난 공연 보았다 이 웬 횡재     1  \n",
              "4999                 올해 롯데 자이언츠 꼭 우승했으면     1  \n",
              "\n",
              "[5000 rows x 6 columns]"
            ],
            "text/html": [
              "\n",
              "  <div id=\"df-a63fe9d3-e7e9-470c-9a05-6f6393288804\">\n",
              "    <div class=\"colab-df-container\">\n",
              "      <div>\n",
              "<style scoped>\n",
              "    .dataframe tbody tr th:only-of-type {\n",
              "        vertical-align: middle;\n",
              "    }\n",
              "\n",
              "    .dataframe tbody tr th {\n",
              "        vertical-align: top;\n",
              "    }\n",
              "\n",
              "    .dataframe thead th {\n",
              "        text-align: right;\n",
              "    }\n",
              "</style>\n",
              "<table border=\"1\" class=\"dataframe\">\n",
              "  <thead>\n",
              "    <tr style=\"text-align: right;\">\n",
              "      <th></th>\n",
              "      <th>id</th>\n",
              "      <th>document</th>\n",
              "      <th>preprocessed</th>\n",
              "      <th>tokenized_stem</th>\n",
              "      <th>main_pos</th>\n",
              "      <th>pred</th>\n",
              "    </tr>\n",
              "  </thead>\n",
              "  <tbody>\n",
              "    <tr>\n",
              "      <th>0</th>\n",
              "      <td>1</td>\n",
              "      <td>시간 때우기 좋은 영화 지루함</td>\n",
              "      <td>시간 때우기 좋은 영화 지루함</td>\n",
              "      <td>시간 때우다 좋다 영화 지루함</td>\n",
              "      <td>시간 때우기 좋은 영화 지루함</td>\n",
              "      <td>0</td>\n",
              "    </tr>\n",
              "    <tr>\n",
              "      <th>1</th>\n",
              "      <td>2</td>\n",
              "      <td>훈훈한 정이 느껴지는 영화! 가족끼리 드라마 보듯이 보면 딱~!</td>\n",
              "      <td>훈훈한 정이 느껴지는 영화 가족끼리 드라마 보듯이 보면 딱</td>\n",
              "      <td>훈훈하다 정이 느껴지다 영화 가족 끼리 드라마 보다 보다 딱</td>\n",
              "      <td>훈훈한 정이 느껴지는 영화 가족 끼리 드라마 보듯이 보면 딱</td>\n",
              "      <td>1</td>\n",
              "    </tr>\n",
              "    <tr>\n",
              "      <th>2</th>\n",
              "      <td>3</td>\n",
              "      <td>Childhood fantasy</td>\n",
              "      <td></td>\n",
              "      <td></td>\n",
              "      <td></td>\n",
              "      <td>0</td>\n",
              "    </tr>\n",
              "    <tr>\n",
              "      <th>3</th>\n",
              "      <td>4</td>\n",
              "      <td>멋있는 영화입니다. 잊을 수 없는!</td>\n",
              "      <td>멋있는 영화입니다 잊을 수 없는</td>\n",
              "      <td>멋있다 영화 이다 잊다 수 없다</td>\n",
              "      <td>멋있는 영화 입니다 잊을 수 없는</td>\n",
              "      <td>1</td>\n",
              "    </tr>\n",
              "    <tr>\n",
              "      <th>4</th>\n",
              "      <td>5</td>\n",
              "      <td>너무 감동적이네요 펑펑 울었습니다</td>\n",
              "      <td>너무 감동적이네요 펑펑 울었습니다</td>\n",
              "      <td>너무 감동 적다 펑펑 울다</td>\n",
              "      <td>너무 감동 적이네요 펑펑 울었습니다</td>\n",
              "      <td>1</td>\n",
              "    </tr>\n",
              "    <tr>\n",
              "      <th>...</th>\n",
              "      <td>...</td>\n",
              "      <td>...</td>\n",
              "      <td>...</td>\n",
              "      <td>...</td>\n",
              "      <td>...</td>\n",
              "      <td>...</td>\n",
              "    </tr>\n",
              "    <tr>\n",
              "      <th>4995</th>\n",
              "      <td>4996</td>\n",
              "      <td>연계도 제대로 안되고 뭔가 부족한느낌이들고 찝찝한영화</td>\n",
              "      <td>연계도 제대로 안되고 뭔가 부족한느낌이들고 찝찝한영화</td>\n",
              "      <td>연 계 도 제대로 안되다 뭔가 부족하다 느낌 이 들다 찝찝하다 영화</td>\n",
              "      <td>계 제대로 안되고 뭔가 부족한 느낌 들고 찝찝한 영화</td>\n",
              "      <td>0</td>\n",
              "    </tr>\n",
              "    <tr>\n",
              "      <th>4996</th>\n",
              "      <td>4997</td>\n",
              "      <td>내생에 최악의 영화중 하나 졸려서 미칠뻔....</td>\n",
              "      <td>내생에 최악의 영화중 하나 졸려서 미칠뻔</td>\n",
              "      <td>내생 에 최악 의 영화 중 하나 졸리다 미치다 뻔</td>\n",
              "      <td>내생 최악 영화 하나 졸려서 미칠 뻔</td>\n",
              "      <td>0</td>\n",
              "    </tr>\n",
              "    <tr>\n",
              "      <th>4997</th>\n",
              "      <td>4998</td>\n",
              "      <td>지금까지 나온 드라마 중 최고였습니다. 100점 만점!</td>\n",
              "      <td>지금까지 나온 드라마 중 최고였습니다 점 만점</td>\n",
              "      <td>지금 까지 나오다 드라마 중 최고 이다 점 만점</td>\n",
              "      <td>지금 나온 드라마 중 최고 였습니다 점 만점</td>\n",
              "      <td>1</td>\n",
              "    </tr>\n",
              "    <tr>\n",
              "      <th>4998</th>\n",
              "      <td>4999</td>\n",
              "      <td>영화값으로 엄청난 공연을 보았다 - 이게 웬 횡재 ..</td>\n",
              "      <td>영화값으로 엄청난 공연을 보았다 이게 웬 횡재</td>\n",
              "      <td>영화 값 으로 엄청나다 공연 을 보다 이 게 웬 횡재</td>\n",
              "      <td>영화 값 엄청난 공연 보았다 이 웬 횡재</td>\n",
              "      <td>1</td>\n",
              "    </tr>\n",
              "    <tr>\n",
              "      <th>4999</th>\n",
              "      <td>5000</td>\n",
              "      <td>올해엔 롯데 자이언츠가 꼭 우승했으면...</td>\n",
              "      <td>올해엔 롯데 자이언츠가 꼭 우승했으면</td>\n",
              "      <td>올해 엔 롯데 자이언츠 가 꼭 우승하다</td>\n",
              "      <td>올해 롯데 자이언츠 꼭 우승했으면</td>\n",
              "      <td>1</td>\n",
              "    </tr>\n",
              "  </tbody>\n",
              "</table>\n",
              "<p>5000 rows × 6 columns</p>\n",
              "</div>\n",
              "      <button class=\"colab-df-convert\" onclick=\"convertToInteractive('df-a63fe9d3-e7e9-470c-9a05-6f6393288804')\"\n",
              "              title=\"Convert this dataframe to an interactive table.\"\n",
              "              style=\"display:none;\">\n",
              "        \n",
              "  <svg xmlns=\"http://www.w3.org/2000/svg\" height=\"24px\"viewBox=\"0 0 24 24\"\n",
              "       width=\"24px\">\n",
              "    <path d=\"M0 0h24v24H0V0z\" fill=\"none\"/>\n",
              "    <path d=\"M18.56 5.44l.94 2.06.94-2.06 2.06-.94-2.06-.94-.94-2.06-.94 2.06-2.06.94zm-11 1L8.5 8.5l.94-2.06 2.06-.94-2.06-.94L8.5 2.5l-.94 2.06-2.06.94zm10 10l.94 2.06.94-2.06 2.06-.94-2.06-.94-.94-2.06-.94 2.06-2.06.94z\"/><path d=\"M17.41 7.96l-1.37-1.37c-.4-.4-.92-.59-1.43-.59-.52 0-1.04.2-1.43.59L10.3 9.45l-7.72 7.72c-.78.78-.78 2.05 0 2.83L4 21.41c.39.39.9.59 1.41.59.51 0 1.02-.2 1.41-.59l7.78-7.78 2.81-2.81c.8-.78.8-2.07 0-2.86zM5.41 20L4 18.59l7.72-7.72 1.47 1.35L5.41 20z\"/>\n",
              "  </svg>\n",
              "      </button>\n",
              "      \n",
              "  <style>\n",
              "    .colab-df-container {\n",
              "      display:flex;\n",
              "      flex-wrap:wrap;\n",
              "      gap: 12px;\n",
              "    }\n",
              "\n",
              "    .colab-df-convert {\n",
              "      background-color: #E8F0FE;\n",
              "      border: none;\n",
              "      border-radius: 50%;\n",
              "      cursor: pointer;\n",
              "      display: none;\n",
              "      fill: #1967D2;\n",
              "      height: 32px;\n",
              "      padding: 0 0 0 0;\n",
              "      width: 32px;\n",
              "    }\n",
              "\n",
              "    .colab-df-convert:hover {\n",
              "      background-color: #E2EBFA;\n",
              "      box-shadow: 0px 1px 2px rgba(60, 64, 67, 0.3), 0px 1px 3px 1px rgba(60, 64, 67, 0.15);\n",
              "      fill: #174EA6;\n",
              "    }\n",
              "\n",
              "    [theme=dark] .colab-df-convert {\n",
              "      background-color: #3B4455;\n",
              "      fill: #D2E3FC;\n",
              "    }\n",
              "\n",
              "    [theme=dark] .colab-df-convert:hover {\n",
              "      background-color: #434B5C;\n",
              "      box-shadow: 0px 1px 3px 1px rgba(0, 0, 0, 0.15);\n",
              "      filter: drop-shadow(0px 1px 2px rgba(0, 0, 0, 0.3));\n",
              "      fill: #FFFFFF;\n",
              "    }\n",
              "  </style>\n",
              "\n",
              "      <script>\n",
              "        const buttonEl =\n",
              "          document.querySelector('#df-a63fe9d3-e7e9-470c-9a05-6f6393288804 button.colab-df-convert');\n",
              "        buttonEl.style.display =\n",
              "          google.colab.kernel.accessAllowed ? 'block' : 'none';\n",
              "\n",
              "        async function convertToInteractive(key) {\n",
              "          const element = document.querySelector('#df-a63fe9d3-e7e9-470c-9a05-6f6393288804');\n",
              "          const dataTable =\n",
              "            await google.colab.kernel.invokeFunction('convertToInteractive',\n",
              "                                                     [key], {});\n",
              "          if (!dataTable) return;\n",
              "\n",
              "          const docLinkHtml = 'Like what you see? Visit the ' +\n",
              "            '<a target=\"_blank\" href=https://colab.research.google.com/notebooks/data_table.ipynb>data table notebook</a>'\n",
              "            + ' to learn more about interactive tables.';\n",
              "          element.innerHTML = '';\n",
              "          dataTable['output_type'] = 'display_data';\n",
              "          await google.colab.output.renderOutput(dataTable, element);\n",
              "          const docLink = document.createElement('div');\n",
              "          docLink.innerHTML = docLinkHtml;\n",
              "          element.appendChild(docLink);\n",
              "        }\n",
              "      </script>\n",
              "    </div>\n",
              "  </div>\n",
              "  "
            ]
          },
          "metadata": {},
          "execution_count": 58
        }
      ]
    },
    {
      "cell_type": "code",
      "source": [
        "df=test.copy()"
      ],
      "metadata": {
        "id": "3Zfud6gkfNQL"
      },
      "execution_count": 59,
      "outputs": []
    },
    {
      "cell_type": "code",
      "source": [
        "!pip install matplotlib"
      ],
      "metadata": {
        "colab": {
          "base_uri": "https://localhost:8080/"
        },
        "id": "eoI6_GOkfUiR",
        "outputId": "f8fa95c7-4c88-4100-9e6e-9cb3ad0feb8e"
      },
      "execution_count": 60,
      "outputs": [
        {
          "output_type": "stream",
          "name": "stdout",
          "text": [
            "Looking in indexes: https://pypi.org/simple, https://us-python.pkg.dev/colab-wheels/public/simple/\n",
            "Requirement already satisfied: matplotlib in /usr/local/lib/python3.7/dist-packages (3.2.2)\n",
            "Requirement already satisfied: cycler>=0.10 in /usr/local/lib/python3.7/dist-packages (from matplotlib) (0.11.0)\n",
            "Requirement already satisfied: kiwisolver>=1.0.1 in /usr/local/lib/python3.7/dist-packages (from matplotlib) (1.4.4)\n",
            "Requirement already satisfied: pyparsing!=2.0.4,!=2.1.2,!=2.1.6,>=2.0.1 in /usr/local/lib/python3.7/dist-packages (from matplotlib) (3.0.9)\n",
            "Requirement already satisfied: python-dateutil>=2.1 in /usr/local/lib/python3.7/dist-packages (from matplotlib) (2.8.2)\n",
            "Requirement already satisfied: numpy>=1.11 in /usr/local/lib/python3.7/dist-packages (from matplotlib) (1.21.6)\n",
            "Requirement already satisfied: typing-extensions in /usr/local/lib/python3.7/dist-packages (from kiwisolver>=1.0.1->matplotlib) (4.1.1)\n",
            "Requirement already satisfied: six>=1.5 in /usr/local/lib/python3.7/dist-packages (from python-dateutil>=2.1->matplotlib) (1.15.0)\n"
          ]
        }
      ]
    },
    {
      "cell_type": "code",
      "source": [
        "!pip install wordcloud "
      ],
      "metadata": {
        "colab": {
          "base_uri": "https://localhost:8080/"
        },
        "id": "0GMjOsA_fYp1",
        "outputId": "591aadc5-3467-4afd-d088-f5626b6998bb"
      },
      "execution_count": 61,
      "outputs": [
        {
          "output_type": "stream",
          "name": "stdout",
          "text": [
            "Looking in indexes: https://pypi.org/simple, https://us-python.pkg.dev/colab-wheels/public/simple/\n",
            "Requirement already satisfied: wordcloud in /usr/local/lib/python3.7/dist-packages (1.8.2.2)\n",
            "Requirement already satisfied: numpy>=1.6.1 in /usr/local/lib/python3.7/dist-packages (from wordcloud) (1.21.6)\n",
            "Requirement already satisfied: pillow in /usr/local/lib/python3.7/dist-packages (from wordcloud) (7.1.2)\n",
            "Requirement already satisfied: matplotlib in /usr/local/lib/python3.7/dist-packages (from wordcloud) (3.2.2)\n",
            "Requirement already satisfied: pyparsing!=2.0.4,!=2.1.2,!=2.1.6,>=2.0.1 in /usr/local/lib/python3.7/dist-packages (from matplotlib->wordcloud) (3.0.9)\n",
            "Requirement already satisfied: python-dateutil>=2.1 in /usr/local/lib/python3.7/dist-packages (from matplotlib->wordcloud) (2.8.2)\n",
            "Requirement already satisfied: kiwisolver>=1.0.1 in /usr/local/lib/python3.7/dist-packages (from matplotlib->wordcloud) (1.4.4)\n",
            "Requirement already satisfied: cycler>=0.10 in /usr/local/lib/python3.7/dist-packages (from matplotlib->wordcloud) (0.11.0)\n",
            "Requirement already satisfied: typing-extensions in /usr/local/lib/python3.7/dist-packages (from kiwisolver>=1.0.1->matplotlib->wordcloud) (4.1.1)\n",
            "Requirement already satisfied: six>=1.5 in /usr/local/lib/python3.7/dist-packages (from python-dateutil>=2.1->matplotlib->wordcloud) (1.15.0)\n"
          ]
        }
      ]
    },
    {
      "cell_type": "code",
      "source": [
        "import pandas as pd\n",
        "import re\n",
        "\n",
        "from wordcloud import WordCloud, STOPWORDS\n",
        "\n",
        "from matplotlib import font_manager, rc\n",
        "import matplotlib.pyplot as plt\n",
        "\n",
        "from konlpy.tag import Okt\n",
        "from collections import Counter\n",
        "\n",
        "import matplotlib.font_manager as fm\n",
        "\n",
        "fontpath = '/content/drive/MyDrive/와이빅타 교육세션 유찬/과제/NanumGothic.ttf'\n",
        "font = fm.FontProperties(fname=fontpath, size=9)\n",
        "plt.rc('font', family='NanumBarunGothic')\n",
        "fm._rebuild()\n"
      ],
      "metadata": {
        "id": "1DYLKVfpfh2h"
      },
      "execution_count": 81,
      "outputs": []
    },
    {
      "cell_type": "code",
      "source": [
        "pos = df[df['pred']==1] #긍정리뷰\n",
        "neg = df[df['pred']==0] #부정리뷰"
      ],
      "metadata": {
        "id": "cKgbM9W-foVC"
      },
      "execution_count": 63,
      "outputs": []
    },
    {
      "cell_type": "code",
      "source": [
        "display(pos.head())\n",
        "display(neg.head())"
      ],
      "metadata": {
        "colab": {
          "base_uri": "https://localhost:8080/",
          "height": 486
        },
        "id": "XqDws61of_yx",
        "outputId": "f959c4b6-cb53-4ba4-d2aa-ca28d8cf2fe8"
      },
      "execution_count": 64,
      "outputs": [
        {
          "output_type": "display_data",
          "data": {
            "text/plain": [
              "   id                             document                       preprocessed  \\\n",
              "1   2  훈훈한 정이 느껴지는 영화! 가족끼리 드라마 보듯이 보면 딱~!   훈훈한 정이 느껴지는 영화 가족끼리 드라마 보듯이 보면 딱   \n",
              "3   4                  멋있는 영화입니다. 잊을 수 없는!                  멋있는 영화입니다 잊을 수 없는   \n",
              "4   5                   너무 감동적이네요 펑펑 울었습니다                 너무 감동적이네요 펑펑 울었습니다   \n",
              "6   7    친구한테 추천받고 본 영화이지만 내가 남들한테 추천하는 영화  친구한테 추천받고 본 영화이지만 내가 남들한테 추천하는 영화   \n",
              "8   9           강배우 엄청난데... 여군버전으로 다시 안 찍나            강배우 엄청난데 여군버전으로 다시 안 찍나   \n",
              "\n",
              "                              tokenized_stem  \\\n",
              "1          훈훈하다 정이 느껴지다 영화 가족 끼리 드라마 보다 보다 딱   \n",
              "3                          멋있다 영화 이다 잊다 수 없다   \n",
              "4                             너무 감동 적다 펑펑 울다   \n",
              "6  친구 한테 추천 받다 보다 영화 이지만 내 가 남 들 한테 추천 하다 영화   \n",
              "8                강 배우 엄청나다 여군 버전 으로 다시 안 찍 나   \n",
              "\n",
              "                            main_pos  pred  \n",
              "1  훈훈한 정이 느껴지는 영화 가족 끼리 드라마 보듯이 보면 딱     1  \n",
              "3                 멋있는 영화 입니다 잊을 수 없는     1  \n",
              "4                너무 감동 적이네요 펑펑 울었습니다     1  \n",
              "6         친구 추천 받고 본 영화 내 남 추천 하는 영화     1  \n",
              "8             강 배우 엄청난데 여군 버전 다시 안 찍     1  "
            ],
            "text/html": [
              "\n",
              "  <div id=\"df-bb7ca220-2d0e-46ac-a45b-5e213e32c89a\">\n",
              "    <div class=\"colab-df-container\">\n",
              "      <div>\n",
              "<style scoped>\n",
              "    .dataframe tbody tr th:only-of-type {\n",
              "        vertical-align: middle;\n",
              "    }\n",
              "\n",
              "    .dataframe tbody tr th {\n",
              "        vertical-align: top;\n",
              "    }\n",
              "\n",
              "    .dataframe thead th {\n",
              "        text-align: right;\n",
              "    }\n",
              "</style>\n",
              "<table border=\"1\" class=\"dataframe\">\n",
              "  <thead>\n",
              "    <tr style=\"text-align: right;\">\n",
              "      <th></th>\n",
              "      <th>id</th>\n",
              "      <th>document</th>\n",
              "      <th>preprocessed</th>\n",
              "      <th>tokenized_stem</th>\n",
              "      <th>main_pos</th>\n",
              "      <th>pred</th>\n",
              "    </tr>\n",
              "  </thead>\n",
              "  <tbody>\n",
              "    <tr>\n",
              "      <th>1</th>\n",
              "      <td>2</td>\n",
              "      <td>훈훈한 정이 느껴지는 영화! 가족끼리 드라마 보듯이 보면 딱~!</td>\n",
              "      <td>훈훈한 정이 느껴지는 영화 가족끼리 드라마 보듯이 보면 딱</td>\n",
              "      <td>훈훈하다 정이 느껴지다 영화 가족 끼리 드라마 보다 보다 딱</td>\n",
              "      <td>훈훈한 정이 느껴지는 영화 가족 끼리 드라마 보듯이 보면 딱</td>\n",
              "      <td>1</td>\n",
              "    </tr>\n",
              "    <tr>\n",
              "      <th>3</th>\n",
              "      <td>4</td>\n",
              "      <td>멋있는 영화입니다. 잊을 수 없는!</td>\n",
              "      <td>멋있는 영화입니다 잊을 수 없는</td>\n",
              "      <td>멋있다 영화 이다 잊다 수 없다</td>\n",
              "      <td>멋있는 영화 입니다 잊을 수 없는</td>\n",
              "      <td>1</td>\n",
              "    </tr>\n",
              "    <tr>\n",
              "      <th>4</th>\n",
              "      <td>5</td>\n",
              "      <td>너무 감동적이네요 펑펑 울었습니다</td>\n",
              "      <td>너무 감동적이네요 펑펑 울었습니다</td>\n",
              "      <td>너무 감동 적다 펑펑 울다</td>\n",
              "      <td>너무 감동 적이네요 펑펑 울었습니다</td>\n",
              "      <td>1</td>\n",
              "    </tr>\n",
              "    <tr>\n",
              "      <th>6</th>\n",
              "      <td>7</td>\n",
              "      <td>친구한테 추천받고 본 영화이지만 내가 남들한테 추천하는 영화</td>\n",
              "      <td>친구한테 추천받고 본 영화이지만 내가 남들한테 추천하는 영화</td>\n",
              "      <td>친구 한테 추천 받다 보다 영화 이지만 내 가 남 들 한테 추천 하다 영화</td>\n",
              "      <td>친구 추천 받고 본 영화 내 남 추천 하는 영화</td>\n",
              "      <td>1</td>\n",
              "    </tr>\n",
              "    <tr>\n",
              "      <th>8</th>\n",
              "      <td>9</td>\n",
              "      <td>강배우 엄청난데... 여군버전으로 다시 안 찍나</td>\n",
              "      <td>강배우 엄청난데 여군버전으로 다시 안 찍나</td>\n",
              "      <td>강 배우 엄청나다 여군 버전 으로 다시 안 찍 나</td>\n",
              "      <td>강 배우 엄청난데 여군 버전 다시 안 찍</td>\n",
              "      <td>1</td>\n",
              "    </tr>\n",
              "  </tbody>\n",
              "</table>\n",
              "</div>\n",
              "      <button class=\"colab-df-convert\" onclick=\"convertToInteractive('df-bb7ca220-2d0e-46ac-a45b-5e213e32c89a')\"\n",
              "              title=\"Convert this dataframe to an interactive table.\"\n",
              "              style=\"display:none;\">\n",
              "        \n",
              "  <svg xmlns=\"http://www.w3.org/2000/svg\" height=\"24px\"viewBox=\"0 0 24 24\"\n",
              "       width=\"24px\">\n",
              "    <path d=\"M0 0h24v24H0V0z\" fill=\"none\"/>\n",
              "    <path d=\"M18.56 5.44l.94 2.06.94-2.06 2.06-.94-2.06-.94-.94-2.06-.94 2.06-2.06.94zm-11 1L8.5 8.5l.94-2.06 2.06-.94-2.06-.94L8.5 2.5l-.94 2.06-2.06.94zm10 10l.94 2.06.94-2.06 2.06-.94-2.06-.94-.94-2.06-.94 2.06-2.06.94z\"/><path d=\"M17.41 7.96l-1.37-1.37c-.4-.4-.92-.59-1.43-.59-.52 0-1.04.2-1.43.59L10.3 9.45l-7.72 7.72c-.78.78-.78 2.05 0 2.83L4 21.41c.39.39.9.59 1.41.59.51 0 1.02-.2 1.41-.59l7.78-7.78 2.81-2.81c.8-.78.8-2.07 0-2.86zM5.41 20L4 18.59l7.72-7.72 1.47 1.35L5.41 20z\"/>\n",
              "  </svg>\n",
              "      </button>\n",
              "      \n",
              "  <style>\n",
              "    .colab-df-container {\n",
              "      display:flex;\n",
              "      flex-wrap:wrap;\n",
              "      gap: 12px;\n",
              "    }\n",
              "\n",
              "    .colab-df-convert {\n",
              "      background-color: #E8F0FE;\n",
              "      border: none;\n",
              "      border-radius: 50%;\n",
              "      cursor: pointer;\n",
              "      display: none;\n",
              "      fill: #1967D2;\n",
              "      height: 32px;\n",
              "      padding: 0 0 0 0;\n",
              "      width: 32px;\n",
              "    }\n",
              "\n",
              "    .colab-df-convert:hover {\n",
              "      background-color: #E2EBFA;\n",
              "      box-shadow: 0px 1px 2px rgba(60, 64, 67, 0.3), 0px 1px 3px 1px rgba(60, 64, 67, 0.15);\n",
              "      fill: #174EA6;\n",
              "    }\n",
              "\n",
              "    [theme=dark] .colab-df-convert {\n",
              "      background-color: #3B4455;\n",
              "      fill: #D2E3FC;\n",
              "    }\n",
              "\n",
              "    [theme=dark] .colab-df-convert:hover {\n",
              "      background-color: #434B5C;\n",
              "      box-shadow: 0px 1px 3px 1px rgba(0, 0, 0, 0.15);\n",
              "      filter: drop-shadow(0px 1px 2px rgba(0, 0, 0, 0.3));\n",
              "      fill: #FFFFFF;\n",
              "    }\n",
              "  </style>\n",
              "\n",
              "      <script>\n",
              "        const buttonEl =\n",
              "          document.querySelector('#df-bb7ca220-2d0e-46ac-a45b-5e213e32c89a button.colab-df-convert');\n",
              "        buttonEl.style.display =\n",
              "          google.colab.kernel.accessAllowed ? 'block' : 'none';\n",
              "\n",
              "        async function convertToInteractive(key) {\n",
              "          const element = document.querySelector('#df-bb7ca220-2d0e-46ac-a45b-5e213e32c89a');\n",
              "          const dataTable =\n",
              "            await google.colab.kernel.invokeFunction('convertToInteractive',\n",
              "                                                     [key], {});\n",
              "          if (!dataTable) return;\n",
              "\n",
              "          const docLinkHtml = 'Like what you see? Visit the ' +\n",
              "            '<a target=\"_blank\" href=https://colab.research.google.com/notebooks/data_table.ipynb>data table notebook</a>'\n",
              "            + ' to learn more about interactive tables.';\n",
              "          element.innerHTML = '';\n",
              "          dataTable['output_type'] = 'display_data';\n",
              "          await google.colab.output.renderOutput(dataTable, element);\n",
              "          const docLink = document.createElement('div');\n",
              "          docLink.innerHTML = docLinkHtml;\n",
              "          element.appendChild(docLink);\n",
              "        }\n",
              "      </script>\n",
              "    </div>\n",
              "  </div>\n",
              "  "
            ]
          },
          "metadata": {}
        },
        {
          "output_type": "display_data",
          "data": {
            "text/plain": [
              "   id                            document                        preprocessed  \\\n",
              "0   1                    시간 때우기 좋은 영화 지루함                    시간 때우기 좋은 영화 지루함   \n",
              "2   3                   Childhood fantasy                                       \n",
              "5   6  어이 김구라 자세좀 똑바로 앉어방송마다 왜케 삐딱하게 앉는거지  어이 김구라 자세좀 똑바로 앉어방송마다 왜케 삐딱하게 앉는거지   \n",
              "7   8                  머 내용은 그닥... 특별하지않다                     머 내용은 그닥 특별하지않다   \n",
              "9  10            이렇게 재밋게본 드라마 추노말거 없엇음 ㅜ짱            이렇게 재밋게본 드라마 추노말거 없엇음 ㅜ짱   \n",
              "\n",
              "                         tokenized_stem                             main_pos  \\\n",
              "0                      시간 때우다 좋다 영화 지루함                     시간 때우기 좋은 영화 지루함   \n",
              "2                                                                              \n",
              "5  어이 김구라 자세 좀 똑바로 앉다 방송 마다 왜케 삐 딱하다 앉다  어이 김구라 자세 좀 똑바로 앉어 방송 왜케 삐 딱하게 앉는거지   \n",
              "7                     머 내용 은 그닥 특별하다 않다                      머 내용 그닥 특별하지 않다   \n",
              "9               이렇게 재밋게본 드라마 추다 없엇음 ㅜ 짱              이렇게 재밋게본 드라마 추노말거 없엇음 짱   \n",
              "\n",
              "   pred  \n",
              "0     0  \n",
              "2     0  \n",
              "5     0  \n",
              "7     0  \n",
              "9     0  "
            ],
            "text/html": [
              "\n",
              "  <div id=\"df-7df5a4a4-0037-454e-9249-76dd45ffb0b0\">\n",
              "    <div class=\"colab-df-container\">\n",
              "      <div>\n",
              "<style scoped>\n",
              "    .dataframe tbody tr th:only-of-type {\n",
              "        vertical-align: middle;\n",
              "    }\n",
              "\n",
              "    .dataframe tbody tr th {\n",
              "        vertical-align: top;\n",
              "    }\n",
              "\n",
              "    .dataframe thead th {\n",
              "        text-align: right;\n",
              "    }\n",
              "</style>\n",
              "<table border=\"1\" class=\"dataframe\">\n",
              "  <thead>\n",
              "    <tr style=\"text-align: right;\">\n",
              "      <th></th>\n",
              "      <th>id</th>\n",
              "      <th>document</th>\n",
              "      <th>preprocessed</th>\n",
              "      <th>tokenized_stem</th>\n",
              "      <th>main_pos</th>\n",
              "      <th>pred</th>\n",
              "    </tr>\n",
              "  </thead>\n",
              "  <tbody>\n",
              "    <tr>\n",
              "      <th>0</th>\n",
              "      <td>1</td>\n",
              "      <td>시간 때우기 좋은 영화 지루함</td>\n",
              "      <td>시간 때우기 좋은 영화 지루함</td>\n",
              "      <td>시간 때우다 좋다 영화 지루함</td>\n",
              "      <td>시간 때우기 좋은 영화 지루함</td>\n",
              "      <td>0</td>\n",
              "    </tr>\n",
              "    <tr>\n",
              "      <th>2</th>\n",
              "      <td>3</td>\n",
              "      <td>Childhood fantasy</td>\n",
              "      <td></td>\n",
              "      <td></td>\n",
              "      <td></td>\n",
              "      <td>0</td>\n",
              "    </tr>\n",
              "    <tr>\n",
              "      <th>5</th>\n",
              "      <td>6</td>\n",
              "      <td>어이 김구라 자세좀 똑바로 앉어방송마다 왜케 삐딱하게 앉는거지</td>\n",
              "      <td>어이 김구라 자세좀 똑바로 앉어방송마다 왜케 삐딱하게 앉는거지</td>\n",
              "      <td>어이 김구라 자세 좀 똑바로 앉다 방송 마다 왜케 삐 딱하다 앉다</td>\n",
              "      <td>어이 김구라 자세 좀 똑바로 앉어 방송 왜케 삐 딱하게 앉는거지</td>\n",
              "      <td>0</td>\n",
              "    </tr>\n",
              "    <tr>\n",
              "      <th>7</th>\n",
              "      <td>8</td>\n",
              "      <td>머 내용은 그닥... 특별하지않다</td>\n",
              "      <td>머 내용은 그닥 특별하지않다</td>\n",
              "      <td>머 내용 은 그닥 특별하다 않다</td>\n",
              "      <td>머 내용 그닥 특별하지 않다</td>\n",
              "      <td>0</td>\n",
              "    </tr>\n",
              "    <tr>\n",
              "      <th>9</th>\n",
              "      <td>10</td>\n",
              "      <td>이렇게 재밋게본 드라마 추노말거 없엇음 ㅜ짱</td>\n",
              "      <td>이렇게 재밋게본 드라마 추노말거 없엇음 ㅜ짱</td>\n",
              "      <td>이렇게 재밋게본 드라마 추다 없엇음 ㅜ 짱</td>\n",
              "      <td>이렇게 재밋게본 드라마 추노말거 없엇음 짱</td>\n",
              "      <td>0</td>\n",
              "    </tr>\n",
              "  </tbody>\n",
              "</table>\n",
              "</div>\n",
              "      <button class=\"colab-df-convert\" onclick=\"convertToInteractive('df-7df5a4a4-0037-454e-9249-76dd45ffb0b0')\"\n",
              "              title=\"Convert this dataframe to an interactive table.\"\n",
              "              style=\"display:none;\">\n",
              "        \n",
              "  <svg xmlns=\"http://www.w3.org/2000/svg\" height=\"24px\"viewBox=\"0 0 24 24\"\n",
              "       width=\"24px\">\n",
              "    <path d=\"M0 0h24v24H0V0z\" fill=\"none\"/>\n",
              "    <path d=\"M18.56 5.44l.94 2.06.94-2.06 2.06-.94-2.06-.94-.94-2.06-.94 2.06-2.06.94zm-11 1L8.5 8.5l.94-2.06 2.06-.94-2.06-.94L8.5 2.5l-.94 2.06-2.06.94zm10 10l.94 2.06.94-2.06 2.06-.94-2.06-.94-.94-2.06-.94 2.06-2.06.94z\"/><path d=\"M17.41 7.96l-1.37-1.37c-.4-.4-.92-.59-1.43-.59-.52 0-1.04.2-1.43.59L10.3 9.45l-7.72 7.72c-.78.78-.78 2.05 0 2.83L4 21.41c.39.39.9.59 1.41.59.51 0 1.02-.2 1.41-.59l7.78-7.78 2.81-2.81c.8-.78.8-2.07 0-2.86zM5.41 20L4 18.59l7.72-7.72 1.47 1.35L5.41 20z\"/>\n",
              "  </svg>\n",
              "      </button>\n",
              "      \n",
              "  <style>\n",
              "    .colab-df-container {\n",
              "      display:flex;\n",
              "      flex-wrap:wrap;\n",
              "      gap: 12px;\n",
              "    }\n",
              "\n",
              "    .colab-df-convert {\n",
              "      background-color: #E8F0FE;\n",
              "      border: none;\n",
              "      border-radius: 50%;\n",
              "      cursor: pointer;\n",
              "      display: none;\n",
              "      fill: #1967D2;\n",
              "      height: 32px;\n",
              "      padding: 0 0 0 0;\n",
              "      width: 32px;\n",
              "    }\n",
              "\n",
              "    .colab-df-convert:hover {\n",
              "      background-color: #E2EBFA;\n",
              "      box-shadow: 0px 1px 2px rgba(60, 64, 67, 0.3), 0px 1px 3px 1px rgba(60, 64, 67, 0.15);\n",
              "      fill: #174EA6;\n",
              "    }\n",
              "\n",
              "    [theme=dark] .colab-df-convert {\n",
              "      background-color: #3B4455;\n",
              "      fill: #D2E3FC;\n",
              "    }\n",
              "\n",
              "    [theme=dark] .colab-df-convert:hover {\n",
              "      background-color: #434B5C;\n",
              "      box-shadow: 0px 1px 3px 1px rgba(0, 0, 0, 0.15);\n",
              "      filter: drop-shadow(0px 1px 2px rgba(0, 0, 0, 0.3));\n",
              "      fill: #FFFFFF;\n",
              "    }\n",
              "  </style>\n",
              "\n",
              "      <script>\n",
              "        const buttonEl =\n",
              "          document.querySelector('#df-7df5a4a4-0037-454e-9249-76dd45ffb0b0 button.colab-df-convert');\n",
              "        buttonEl.style.display =\n",
              "          google.colab.kernel.accessAllowed ? 'block' : 'none';\n",
              "\n",
              "        async function convertToInteractive(key) {\n",
              "          const element = document.querySelector('#df-7df5a4a4-0037-454e-9249-76dd45ffb0b0');\n",
              "          const dataTable =\n",
              "            await google.colab.kernel.invokeFunction('convertToInteractive',\n",
              "                                                     [key], {});\n",
              "          if (!dataTable) return;\n",
              "\n",
              "          const docLinkHtml = 'Like what you see? Visit the ' +\n",
              "            '<a target=\"_blank\" href=https://colab.research.google.com/notebooks/data_table.ipynb>data table notebook</a>'\n",
              "            + ' to learn more about interactive tables.';\n",
              "          element.innerHTML = '';\n",
              "          dataTable['output_type'] = 'display_data';\n",
              "          await google.colab.output.renderOutput(dataTable, element);\n",
              "          const docLink = document.createElement('div');\n",
              "          docLink.innerHTML = docLinkHtml;\n",
              "          element.appendChild(docLink);\n",
              "        }\n",
              "      </script>\n",
              "    </div>\n",
              "  </div>\n",
              "  "
            ]
          },
          "metadata": {}
        }
      ]
    },
    {
      "cell_type": "markdown",
      "source": [
        "## 긍정리뷰 워드클라우드"
      ],
      "metadata": {
        "id": "84p7_YFLlcyJ"
      }
    },
    {
      "cell_type": "code",
      "source": [
        "okt = Okt()\n",
        "\n",
        "content_list = list(pos['main_pos'])\n",
        "noun_list = []\n",
        "\n",
        "for sentence in content_list:\n",
        "\n",
        "\n",
        "    sentence = re.sub('[a-zA-z0-9]','', sentence)\n",
        "    \n",
        "    for word, tag in okt.pos(sentence):\n",
        "      # 명사만 추출\n",
        "        if tag in ['Noun']:  \n",
        "\n",
        "            if len(word) == 1:\n",
        "                continue\n",
        "\n",
        "            else:\n",
        "                noun_list.append(word)\n",
        "\n",
        "count = Counter(noun_list)\n",
        "poswords = dict(count.most_common(n=50)) "
      ],
      "metadata": {
        "id": "1D0_Za7PfjXV"
      },
      "execution_count": 65,
      "outputs": []
    },
    {
      "cell_type": "code",
      "source": [
        "poswords"
      ],
      "metadata": {
        "colab": {
          "base_uri": "https://localhost:8080/"
        },
        "outputId": "e0a45eb5-c974-4ac7-9a9c-428604b14293",
        "id": "wV0jVm0itQW7"
      },
      "execution_count": 66,
      "outputs": [
        {
          "output_type": "execute_result",
          "data": {
            "text/plain": [
              "{'가슴': 44,\n",
              " '가장': 31,\n",
              " '가족': 26,\n",
              " '감동': 149,\n",
              " '강추': 24,\n",
              " '계속': 22,\n",
              " '기억': 31,\n",
              " '나름': 21,\n",
              " '눈물': 28,\n",
              " '다시': 88,\n",
              " '대박': 25,\n",
              " '드라마': 88,\n",
              " '마음': 48,\n",
              " '마지막': 54,\n",
              " '매력': 47,\n",
              " '명작': 79,\n",
              " '모습': 21,\n",
              " '배우': 49,\n",
              " '보고': 99,\n",
              " '사람': 39,\n",
              " '사랑': 83,\n",
              " '생각': 90,\n",
              " '스토리': 29,\n",
              " '시리즈': 22,\n",
              " '아이': 26,\n",
              " '액션': 26,\n",
              " '여운': 34,\n",
              " '역시': 53,\n",
              " '연기': 89,\n",
              " '영상': 22,\n",
              " '영화': 820,\n",
              " '완전': 65,\n",
              " '음악': 30,\n",
              " '이야기': 35,\n",
              " '이해': 21,\n",
              " '인간': 22,\n",
              " '인생': 45,\n",
              " '작품': 55,\n",
              " '장면': 37,\n",
              " '재미': 33,\n",
              " '정도': 21,\n",
              " '정말': 233,\n",
              " '지금': 48,\n",
              " '진짜': 141,\n",
              " '처음': 22,\n",
              " '최고': 227,\n",
              " '최고다': 21,\n",
              " '추천': 35,\n",
              " '평점': 53,\n",
              " '하나': 37}"
            ]
          },
          "metadata": {},
          "execution_count": 66
        }
      ]
    },
    {
      "cell_type": "code",
      "source": [
        "poswords.items()"
      ],
      "metadata": {
        "colab": {
          "base_uri": "https://localhost:8080/"
        },
        "outputId": "a50efad8-bea3-47c8-c286-22334385d0ee",
        "id": "P1HzII9VtN5Z"
      },
      "execution_count": 67,
      "outputs": [
        {
          "output_type": "execute_result",
          "data": {
            "text/plain": [
              "dict_items([('영화', 820), ('정말', 233), ('최고', 227), ('감동', 149), ('진짜', 141), ('보고', 99), ('생각', 90), ('연기', 89), ('드라마', 88), ('다시', 88), ('사랑', 83), ('명작', 79), ('완전', 65), ('작품', 55), ('마지막', 54), ('평점', 53), ('역시', 53), ('배우', 49), ('지금', 48), ('마음', 48), ('매력', 47), ('인생', 45), ('가슴', 44), ('사람', 39), ('하나', 37), ('장면', 37), ('추천', 35), ('이야기', 35), ('여운', 34), ('재미', 33), ('가장', 31), ('기억', 31), ('음악', 30), ('스토리', 29), ('눈물', 28), ('가족', 26), ('아이', 26), ('액션', 26), ('대박', 25), ('강추', 24), ('인간', 22), ('시리즈', 22), ('영상', 22), ('계속', 22), ('처음', 22), ('모습', 21), ('이해', 21), ('나름', 21), ('최고다', 21), ('정도', 21)])"
            ]
          },
          "metadata": {},
          "execution_count": 67
        }
      ]
    },
    {
      "cell_type": "code",
      "source": [
        "#특정 단어 지정해서 불용어 제거\n",
        "poswords.pop('정말')"
      ],
      "metadata": {
        "colab": {
          "base_uri": "https://localhost:8080/"
        },
        "id": "_vwFGWKQgdPK",
        "outputId": "5fe6aace-9b7b-4431-a5e1-8f5b24fa072e"
      },
      "execution_count": 68,
      "outputs": [
        {
          "output_type": "execute_result",
          "data": {
            "text/plain": [
              "233"
            ]
          },
          "metadata": {},
          "execution_count": 68
        }
      ]
    },
    {
      "cell_type": "code",
      "source": [
        "# 불용어 리스트 생성해서 제거\n",
        "stop_words = \"다시 완전 마지막 지금 역시 영화\"\n",
        "stop_words = stop_words.split(' ')\n",
        "\n",
        "\n",
        "# 불용어 제거 실시\n",
        "posword2 = [(i,j)for i,j in poswords.items()  if i not in stop_words]\n",
        "\n",
        "# 결과 출력\n",
        "posword3=dict(posword2)\n",
        "print(posword3)"
      ],
      "metadata": {
        "colab": {
          "base_uri": "https://localhost:8080/"
        },
        "outputId": "d85dff98-f41f-4453-b40a-08c894722d25",
        "id": "0qkyktl6lP5Q"
      },
      "execution_count": 78,
      "outputs": [
        {
          "output_type": "stream",
          "name": "stdout",
          "text": [
            "{'최고': 227, '감동': 149, '진짜': 141, '보고': 99, '생각': 90, '연기': 89, '드라마': 88, '사랑': 83, '명작': 79, '작품': 55, '평점': 53, '배우': 49, '마음': 48, '매력': 47, '인생': 45, '가슴': 44, '사람': 39, '하나': 37, '장면': 37, '추천': 35, '이야기': 35, '여운': 34, '재미': 33, '가장': 31, '기억': 31, '음악': 30, '스토리': 29, '눈물': 28, '가족': 26, '아이': 26, '액션': 26, '대박': 25, '강추': 24, '인간': 22, '시리즈': 22, '영상': 22, '계속': 22, '처음': 22, '모습': 21, '이해': 21, '나름': 21, '최고다': 21, '정도': 21}\n"
          ]
        }
      ]
    },
    {
      "cell_type": "code",
      "source": [
        "from PIL import Image, ImageFilter"
      ],
      "metadata": {
        "id": "61nBuCzsiwRU"
      },
      "execution_count": 79,
      "outputs": []
    },
    {
      "cell_type": "code",
      "source": [
        "Image.open(\"/content/drive/MyDrive/와이빅타 교육세션 유찬/과제/data-2/제목 없음.jpg\") # 부정리뷰 워드클라우드에서는 원하는 이미지로 대체할 것"
      ],
      "metadata": {
        "colab": {
          "base_uri": "https://localhost:8080/",
          "height": 284
        },
        "id": "uhpEY13Fi5cq",
        "outputId": "4daa701c-8a31-4422-a8b4-b8845c746f77"
      },
      "execution_count": 75,
      "outputs": [
        {
          "output_type": "execute_result",
          "data": {
            "text/plain": [
              "<PIL.JpegImagePlugin.JpegImageFile image mode=RGB size=536x267 at 0x7FCEC8FC5AD0>"
            ],
            "image/png": "[encoded data removed]"
          },
          "metadata": {},
          "execution_count": 75
        }
      ]
    },
    {
      "cell_type": "code",
      "source": [
        "import numpy as np\n",
        "mask_array = np.array(Image.open(\"/content/drive/MyDrive/와이빅타 교육세션 유찬/과제/data-2/제목 없음.jpg\"))\n",
        "mask_array"
      ],
      "metadata": {
        "colab": {
          "base_uri": "https://localhost:8080/"
        },
        "id": "Abo3heX8i7gm",
        "outputId": "301b35e7-cdeb-4602-e3b5-c0aca7ecab0f"
      },
      "execution_count": 76,
      "outputs": [
        {
          "output_type": "execute_result",
          "data": {
            "text/plain": [
              "array([[[255, 255, 255],\n",
              "        [255, 255, 255],\n",
              "        [255, 255, 255],\n",
              "        ...,\n",
              "        [255, 255, 255],\n",
              "        [255, 255, 255],\n",
              "        [255, 255, 255]],\n",
              "\n",
              "       [[255, 255, 255],\n",
              "        [255, 255, 255],\n",
              "        [255, 255, 255],\n",
              "        ...,\n",
              "        [255, 255, 255],\n",
              "        [255, 255, 255],\n",
              "        [255, 255, 255]],\n",
              "\n",
              "       [[255, 255, 255],\n",
              "        [255, 255, 255],\n",
              "        [255, 255, 255],\n",
              "        ...,\n",
              "        [255, 255, 255],\n",
              "        [255, 255, 255],\n",
              "        [255, 255, 255]],\n",
              "\n",
              "       ...,\n",
              "\n",
              "       [[255, 255, 255],\n",
              "        [255, 255, 255],\n",
              "        [255, 255, 255],\n",
              "        ...,\n",
              "        [255, 255, 255],\n",
              "        [255, 255, 255],\n",
              "        [255, 255, 255]],\n",
              "\n",
              "       [[255, 255, 255],\n",
              "        [255, 255, 255],\n",
              "        [255, 255, 255],\n",
              "        ...,\n",
              "        [255, 255, 255],\n",
              "        [255, 255, 255],\n",
              "        [255, 255, 255]],\n",
              "\n",
              "       [[255, 255, 255],\n",
              "        [255, 255, 255],\n",
              "        [255, 255, 255],\n",
              "        ...,\n",
              "        [255, 255, 255],\n",
              "        [255, 255, 255],\n",
              "        [255, 255, 255]]], dtype=uint8)"
            ]
          },
          "metadata": {},
          "execution_count": 76
        }
      ]
    },
    {
      "cell_type": "markdown",
      "source": [
        "옵션정리\n",
        "\n",
        "alicewc = WordCloud(\n",
        "    \n",
        "    background_color = \"white\",# 배경색 설정\n",
        "\n",
        "    collocations = False, # 이때 collocations=True 이면 said King, said Hatter 같이 자주 나타나는 단어는 하나의 어구로 분류됨.\n",
        "\n",
        "    stopwords = stopwords, #불용어 지정\n",
        "\n",
        "    width = 600, height = 400, #이미지 크기 지정\n",
        "\n",
        "    colormap = \"Reds\", # 글씨 색깔 지정\n",
        "\n",
        "    #font_path = 'path입력'\n",
        "\n",
        "    min_font_size = 5, max_font_size = 100 #폰트 지정 작게할수록 더 많은 글씨가 보이고 크게하면 글자가 강조됨. \n",
        "    \n",
        "    )"
      ],
      "metadata": {
        "id": "8yi8_hsHtWYA"
      }
    },
    {
      "cell_type": "code",
      "source": [
        "mask1 = np.array(Image.open(\"/content/drive/MyDrive/와이빅타 교육세션 유찬/과제/data-2/제목 없음.jpg\"))\n",
        "\n",
        "wordcloud = WordCloud(font_path = fontpath,\n",
        "    width = 800,\n",
        "    height = 800,\n",
        "    background_color=\"white\",\n",
        "    mask = mask1\n",
        ")\n",
        "\n",
        "wordcloud = wordcloud.generate_from_frequencies(posword3)\n",
        "plt.figure(figsize=(20, 20))\n",
        "plt.imshow(wordcloud, interpolation=\"bilinear\")\n",
        "plt.axis(\"off\")\n",
        "plt.show()"
      ],
      "metadata": {
        "colab": {
          "base_uri": "https://localhost:8080/",
          "height": 587
        },
        "outputId": "41245d89-d14b-4b4c-91c5-8abfaa1475bc",
        "id": "CPAr-FJ3tJUl"
      },
      "execution_count": 82,
      "outputs": [
        {
          "output_type": "display_data",
          "data": {
            "text/plain": [
              "<Figure size 1440x1440 with 1 Axes>"
            ],
            "image/png": "[encoded data removed]"
          },
          "metadata": {
            "needs_background": "light"
          }
        }
      ]
    },
    {
      "cell_type": "markdown",
      "source": [
        "## # To do 부정리뷰 워드클라우드"
      ],
      "metadata": {
        "id": "vpfVIfTYlgQD"
      }
    },
    {
      "cell_type": "markdown",
      "source": [
        "부정리뷰 워드클라우드를 생성해주세요!"
      ],
      "metadata": {
        "id": "A8B6ad2Glwtu"
      }
    },
    {
      "cell_type": "code",
      "source": [
        "okt = Okt()\n",
        "\n",
        "content_list = list(neg['main_pos'])\n",
        "noun_list = []\n",
        "\n",
        "for sentence in content_list:\n",
        "\n",
        "\n",
        "    sentence = re.sub('[a-zA-z0-9]','', sentence)\n",
        "    \n",
        "    for word, tag in okt.pos(sentence):\n",
        "      # 명사만 추출\n",
        "        if tag in ['Noun']:  \n",
        "\n",
        "            if len(word) == 1:\n",
        "                continue\n",
        "\n",
        "            else:\n",
        "                noun_list.append(word)\n",
        "\n",
        "count = Counter(noun_list)\n",
        "negwords = dict(count.most_common(n=50)) "
      ],
      "metadata": {
        "id": "Pt7qB6gclEdd"
      },
      "execution_count": 90,
      "outputs": []
    },
    {
      "cell_type": "code",
      "source": [
        "negwords.items()"
      ],
      "metadata": {
        "colab": {
          "base_uri": "https://localhost:8080/"
        },
        "id": "QUcvlAC9lEYf",
        "outputId": "f2bcea1b-7e86-4558-f296-d2ec7ddf9167"
      },
      "execution_count": 91,
      "outputs": [
        {
          "output_type": "execute_result",
          "data": {
            "text/plain": [
              "dict_items([('영화', 786), ('평점', 130), ('스토리', 119), ('진짜', 118), ('시간', 107), ('재미', 105), ('내용', 96), ('감독', 88), ('그냥', 84), ('최악', 83), ('배우', 80), ('쓰레기', 78), ('정말', 74), ('이건', 69), ('별로', 67), ('연기', 65), ('액션', 58), ('사람', 52), ('처음', 50), ('정도', 47), ('생각', 47), ('연출', 46), ('드라마', 41), ('실망', 37), ('수준', 37), ('보고', 35), ('소재', 35), ('전개', 35), ('하나', 34), ('코미디', 34), ('이야기', 34), ('느낌', 33), ('이해', 33), ('결말', 31), ('작품', 31), ('뭔가', 31), ('점도', 31), ('무슨', 30), ('전혀', 30), ('주인공', 29), ('원작', 28), ('보지', 28), ('이영화', 27), ('공포', 26), ('졸작', 25), ('보기', 25), ('여자', 24), ('때문', 24), ('캐릭터', 23), ('스릴러', 23)])"
            ]
          },
          "metadata": {},
          "execution_count": 91
        }
      ]
    },
    {
      "cell_type": "code",
      "source": [
        "negwords.pop('진짜')\n",
        "negwords.pop('그냥')"
      ],
      "metadata": {
        "colab": {
          "base_uri": "https://localhost:8080/"
        },
        "id": "uoi9pWholETl",
        "outputId": "391a3233-a514-4ac2-df42-2bbccc8a4f85"
      },
      "execution_count": 92,
      "outputs": [
        {
          "output_type": "execute_result",
          "data": {
            "text/plain": [
              "84"
            ]
          },
          "metadata": {},
          "execution_count": 92
        }
      ]
    },
    {
      "cell_type": "code",
      "source": [
        "negwords.items()"
      ],
      "metadata": {
        "colab": {
          "base_uri": "https://localhost:8080/"
        },
        "id": "tZWDh4AJmRkq",
        "outputId": "67352b5f-ca9c-43e5-ecba-9dbc05b5cccf"
      },
      "execution_count": 93,
      "outputs": [
        {
          "output_type": "execute_result",
          "data": {
            "text/plain": [
              "dict_items([('영화', 786), ('평점', 130), ('스토리', 119), ('시간', 107), ('재미', 105), ('내용', 96), ('감독', 88), ('최악', 83), ('배우', 80), ('쓰레기', 78), ('정말', 74), ('이건', 69), ('별로', 67), ('연기', 65), ('액션', 58), ('사람', 52), ('처음', 50), ('정도', 47), ('생각', 47), ('연출', 46), ('드라마', 41), ('실망', 37), ('수준', 37), ('보고', 35), ('소재', 35), ('전개', 35), ('하나', 34), ('코미디', 34), ('이야기', 34), ('느낌', 33), ('이해', 33), ('결말', 31), ('작품', 31), ('뭔가', 31), ('점도', 31), ('무슨', 30), ('전혀', 30), ('주인공', 29), ('원작', 28), ('보지', 28), ('이영화', 27), ('공포', 26), ('졸작', 25), ('보기', 25), ('여자', 24), ('때문', 24), ('캐릭터', 23), ('스릴러', 23)])"
            ]
          },
          "metadata": {},
          "execution_count": 93
        }
      ]
    },
    {
      "cell_type": "code",
      "source": [
        "# 불용어 리스트 생성해서 제거\n",
        "stop_words = \"영화 시간 감독 정말 정도 보지 때문 보고 보기 재미\"\n",
        "stop_words = stop_words.split(' ')\n",
        "\n",
        "\n",
        "# 불용어 제거 실시\n",
        "negword2 = [(i,j)for i,j in negwords.items()  if i not in stop_words]\n",
        "\n",
        "# 결과 출력\n",
        "negword3=dict(negword2)\n",
        "print(negword3)"
      ],
      "metadata": {
        "colab": {
          "base_uri": "https://localhost:8080/"
        },
        "id": "eSYtK5hulEQ8",
        "outputId": "ca387fbe-41fb-4461-a4e3-507399af8ad0"
      },
      "execution_count": 98,
      "outputs": [
        {
          "output_type": "stream",
          "name": "stdout",
          "text": [
            "{'평점': 130, '스토리': 119, '내용': 96, '최악': 83, '배우': 80, '쓰레기': 78, '이건': 69, '별로': 67, '연기': 65, '액션': 58, '사람': 52, '처음': 50, '생각': 47, '연출': 46, '드라마': 41, '실망': 37, '수준': 37, '소재': 35, '전개': 35, '하나': 34, '코미디': 34, '이야기': 34, '느낌': 33, '이해': 33, '결말': 31, '작품': 31, '뭔가': 31, '점도': 31, '무슨': 30, '전혀': 30, '주인공': 29, '원작': 28, '이영화': 27, '공포': 26, '졸작': 25, '여자': 24, '캐릭터': 23, '스릴러': 23}\n"
          ]
        }
      ]
    },
    {
      "cell_type": "code",
      "source": [
        "Image.open(\"/content/drive/MyDrive/와이빅타 교육세션 유찬/과제/speech-balloon-gdf41b9f8a_1920 Small.png\")"
      ],
      "metadata": {
        "colab": {
          "base_uri": "https://localhost:8080/",
          "height": 243
        },
        "id": "3ntTtUDklEOc",
        "outputId": "fdbf00e7-10c9-4ed5-903a-16477bd66026"
      },
      "execution_count": 101,
      "outputs": [
        {
          "output_type": "execute_result",
          "data": {
            "text/plain": [
              "<PIL.PngImagePlugin.PngImageFile image mode=RGBA size=320x226 at 0x7FCEC7930E10>"
            ],
            "image/png": "[encoded data removed]"
          },
          "metadata": {},
          "execution_count": 101
        }
      ]
    },
    {
      "cell_type": "code",
      "source": [
        "import numpy as np\n",
        "mask_array = np.array(Image.open(\"/content/drive/MyDrive/와이빅타 교육세션 유찬/과제/speech-balloon-gdf41b9f8a_1920 Small.png\"))\n",
        "mask_array"
      ],
      "metadata": {
        "colab": {
          "base_uri": "https://localhost:8080/"
        },
        "id": "KWjMJnCblEL8",
        "outputId": "5f5b23f5-f1ef-489c-8918-86cc543e4a4a"
      },
      "execution_count": 102,
      "outputs": [
        {
          "output_type": "execute_result",
          "data": {
            "text/plain": [
              "array([[[255, 255, 254, 255],\n",
              "        [255, 255, 255, 255],\n",
              "        [131, 176, 210, 255],\n",
              "        ...,\n",
              "        [ 92, 151, 196, 255],\n",
              "        [ 86, 147, 194, 255],\n",
              "        [176, 203, 225, 255]],\n",
              "\n",
              "       [[255, 255, 255, 255],\n",
              "        [245, 248, 250, 255],\n",
              "        [108, 162, 202, 255],\n",
              "        ...,\n",
              "        [ 92, 151, 196, 255],\n",
              "        [ 89, 149, 195, 255],\n",
              "        [212, 226, 238, 255]],\n",
              "\n",
              "       [[255, 255, 255, 255],\n",
              "        [222, 233, 242, 255],\n",
              "        [ 92, 151, 196, 255],\n",
              "        ...,\n",
              "        [ 91, 150, 196, 255],\n",
              "        [102, 157, 200, 255],\n",
              "        [238, 243, 247, 255]],\n",
              "\n",
              "       ...,\n",
              "\n",
              "       [[ 92, 151, 196, 255],\n",
              "        [ 92, 151, 196, 255],\n",
              "        [ 92, 151, 196, 255],\n",
              "        ...,\n",
              "        [255, 255, 255, 255],\n",
              "        [221, 233, 242, 255],\n",
              "        [ 92, 151, 196, 255]],\n",
              "\n",
              "       [[ 92, 151, 196, 255],\n",
              "        [ 92, 151, 196, 255],\n",
              "        [ 92, 151, 196, 255],\n",
              "        ...,\n",
              "        [255, 255, 255, 255],\n",
              "        [190, 213, 231, 255],\n",
              "        [ 86, 147, 194, 255]],\n",
              "\n",
              "       [[ 92, 151, 196, 255],\n",
              "        [ 92, 151, 196, 255],\n",
              "        [ 92, 151, 196, 255],\n",
              "        ...,\n",
              "        [255, 255, 255, 255],\n",
              "        [162, 195, 221, 255],\n",
              "        [ 83, 147, 194, 255]]], dtype=uint8)"
            ]
          },
          "metadata": {},
          "execution_count": 102
        }
      ]
    },
    {
      "cell_type": "code",
      "source": [
        "mask1 = np.array(Image.open(\"/content/drive/MyDrive/와이빅타 교육세션 유찬/과제/speech-balloon-gdf41b9f8a_1920 Small.png\"))\n",
        "\n",
        "wordcloud = WordCloud(font_path = fontpath,\n",
        "    width = 600,\n",
        "    height = 600,\n",
        "    background_color=\"white\",\n",
        "    mask = mask1\n",
        ")\n",
        "\n",
        "wordcloud = wordcloud.generate_from_frequencies(negword3)\n",
        "plt.figure(figsize=(15, 15))\n",
        "plt.imshow(wordcloud, interpolation=\"bilinear\")\n",
        "plt.axis(\"off\")\n",
        "plt.show()"
      ],
      "metadata": {
        "colab": {
          "base_uri": "https://localhost:8080/",
          "height": 622
        },
        "id": "-7hwlm7alEJY",
        "outputId": "123d691d-b7f3-49c6-ab7d-eb1218da4f8e"
      },
      "execution_count": 109,
      "outputs": [
        {
          "output_type": "display_data",
          "data": {
            "text/plain": [
              "<Figure size 1080x1080 with 1 Axes>"
            ],
            "image/png": "[encoded data removed]"
          },
          "metadata": {
            "needs_background": "light"
          }
        }
      ]
    },
    {
      "cell_type": "code",
      "source": [
        ""
      ],
      "metadata": {
        "id": "2MCMtC0olD9h"
      },
      "execution_count": null,
      "outputs": []
    }
  ],
  "metadata": {
    "kernelspec": {
      "display_name": "eunil_py38",
      "language": "python",
      "name": "eunil_py38"
    },
    "language_info": {
      "codemirror_mode": {
        "name": "ipython",
        "version": 3
      },
      "file_extension": ".py",
      "mimetype": "text/x-python",
      "name": "python",
      "nbconvert_exporter": "python",
      "pygments_lexer": "ipython3",
      "version": "3.8.12"
    },
    "colab": {
      "name": "wordcloudkonlpy과제_박유찬.ipynb",
      "provenance": [],
      "collapsed_sections": []
    }
  },
  "nbformat": 4,
  "nbformat_minor": 0
}